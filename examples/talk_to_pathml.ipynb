{
 "cells": [
  {
   "cell_type": "markdown",
   "id": "1ae9717c-793f-4c67-a867-df48c4210487",
   "metadata": {},
   "source": [
    "# Talk to PathML\n",
    "\n",
    "### A digital pathology assistant for democratizing access to advanced computational image analysis "
   ]
  },
  {
   "cell_type": "markdown",
   "id": "c4f09515-97fb-4a7a-8fcb-1eba0d631d21",
   "metadata": {},
   "source": [
    "We leveraged the recent progress in medical Large Language Models (LLMs) to create a new chat interface for those who would like to get started with PathML for advanced image analysis. This was implemented by injecting all PathML examples and documentation into a Retrieval Augmented Generation (RAG) system based on GPT-4 capabilities. Our “Digital Pathology Assistant” prototype, available [here](https://chat.openai.com/g/g-4YBcZ3iYS-digital-pathology-assistant-v0-1), can be leveraged to build advanced end-to-end computational pipelines for specific use-cases. \n",
    "\n",
    "In this notebook, we report specific examples of how it can be used to generate specific computational pipelines for preprocessing and analyzing different types of multiplexed images. "
   ]
  },
  {
   "cell_type": "markdown",
   "id": "56ad469f-55ef-4fe5-919e-edc2668e6f2b",
   "metadata": {},
   "source": [
    "## Example 1: Installing PathML on MacOS"
   ]
  },
  {
   "cell_type": "markdown",
   "id": "ec516a56-0cd1-4a9d-9c07-56c31c4a7921",
   "metadata": {},
   "source": [
    "![INSTALL_MACOS](static/pathml_install.png) "
   ]
  },
  {
   "cell_type": "markdown",
   "id": "8db55b66-7c4c-4462-80f3-4b6e8a729be5",
   "metadata": {},
   "source": [
    "## Example 2: Information about supported file types\n"
   ]
  },
  {
   "cell_type": "markdown",
   "id": "da0a5d92-06e9-40cb-ae36-db5d5d57ff8b",
   "metadata": {},
   "source": [
    "![PATHML_FILE_TYPE](static/pathml_file_type.png)"
   ]
  },
  {
   "cell_type": "markdown",
   "id": "908c8357-35f7-410e-9b54-d44fae049c6b",
   "metadata": {},
   "source": [
    "## Example 3: MIF pipelines"
   ]
  },
  {
   "cell_type": "markdown",
   "id": "a5dadf45-8b9b-4e5e-ac2a-cac9a61b6835",
   "metadata": {},
   "source": [
    "![PATHML_MIF](static/pathml_mif.png)"
   ]
  },
  {
   "cell_type": "markdown",
   "id": "bc394e3c-3867-489b-9c86-6cfcef30520f",
   "metadata": {},
   "source": [
    "## Example 4: Nucleus Detection"
   ]
  },
  {
   "cell_type": "markdown",
   "id": "ac8ad6d1-98d0-44e5-9048-6d7adfe66d5a",
   "metadata": {},
   "source": [
    "![PATHML_MIF](static/pathml_nucleus_detection.png)"
   ]
  },
  {
   "cell_type": "markdown",
   "id": "6242d6b7-6c9f-4857-a12d-56909225e369",
   "metadata": {},
   "source": [
    "## Example 5: Graph API"
   ]
  },
  {
   "cell_type": "markdown",
   "id": "75a03e24-50fb-48a1-8db6-b8e6f831d243",
   "metadata": {},
   "source": [
    "![PATHML_GRAPH](static/pathml_graph.png)"
   ]
  },
  {
   "cell_type": "markdown",
   "id": "d73742dc-c9f0-4507-a8b7-d955868ef32f",
   "metadata": {},
   "source": [
    "## Example 6: Inference API"
   ]
  },
  {
   "cell_type": "markdown",
   "id": "92ac0857-fba4-45fc-b3a9-26cb97176bb7",
   "metadata": {},
   "source": [
    "![PATHML_INFERENCE](static/pathml_inference.png)"
   ]
  }
 ],
 "metadata": {
  "kernelspec": {
   "display_name": "pathml_env",
   "language": "python",
   "name": "pathml_env"
  },
  "language_info": {
   "codemirror_mode": {
    "name": "ipython",
    "version": 3
   },
   "file_extension": ".py",
   "mimetype": "text/x-python",
   "name": "python",
   "nbconvert_exporter": "python",
   "pygments_lexer": "ipython3",
   "version": "3.10.0"
  }
 },
 "nbformat": 4,
 "nbformat_minor": 5
}
