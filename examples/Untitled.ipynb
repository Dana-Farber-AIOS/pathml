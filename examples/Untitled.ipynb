{
 "cells": [
  {
   "cell_type": "code",
   "execution_count": 1,
   "id": "c07248d2-a62a-44e5-8ad1-ee4c7003539a",
   "metadata": {},
   "outputs": [],
   "source": [
    "from pathml.preprocessing.tilestitcher import TileStitcher\n",
    "import glob\n",
    "import os\n",
    "# import jpype"
   ]
  },
  {
   "cell_type": "code",
   "execution_count": 2,
   "id": "a5d6ab8a-4e2a-424e-b124-994e92eeb75d",
   "metadata": {},
   "outputs": [],
   "source": [
    "qupath_jars = glob.glob(os.path.abspath(\"../../tools/QuPath/lib/app/*.jar\"))\n",
    "qupath_jars.append(os.path.abspath('../../tools/QuPath/lib/app/libopenslide-jni.so'))"
   ]
  },
  {
   "cell_type": "code",
   "execution_count": 3,
   "id": "93416fd7-44d6-4706-9afc-9f9dcb359add",
   "metadata": {},
   "outputs": [
    {
     "name": "stdout",
     "output_type": "stream",
     "text": [
      "Java path not specified , Setting Java path to /usr/lib/jvm/jdk-17/\n",
      "Importing required qupath classes\n"
     ]
    }
   ],
   "source": [
    "tilestitch = TileStitcher(qupath_jars)"
   ]
  },
  {
   "cell_type": "code",
   "execution_count": 4,
   "id": "cd0440cc-6b55-48f7-aaf9-938c21f52833",
   "metadata": {},
   "outputs": [],
   "source": [
    "infile_path= '../../data/unstitched/MISI3542i_W21-04143_bi016966_M394_OVX_LM/Unmixed Images/'\n",
    "outfile_path = '../../data/my_stitched/Pathml_gcp_benchmark_tsdata_mosterdxvm_1_d18.ome.tif'"
   ]
  },
  {
   "cell_type": "code",
   "execution_count": 5,
   "id": "352e9da0-ce34-4ac0-89cf-3775b4fb2422",
   "metadata": {},
   "outputs": [
    {
     "name": "stdout",
     "output_type": "stream",
     "text": [
      "13:53:08.834 [main] [ERROR] q.l.i.s.o.OpenslideServerBuilder - Could not load OpenSlide native libraries\n",
      "java.lang.UnsatisfiedLinkError: no openslide-jni in java.library.path: /usr/local/cuda/lib64:/usr/local/nccl2/lib:/usr/local/cuda/extras/CUPTI/lib64:/usr/java/packages/lib:/usr/lib64:/lib64:/lib:/usr/lib\n",
      "\tat java.base/java.lang.ClassLoader.loadLibrary(ClassLoader.java:2429)\n",
      "\tat java.base/java.lang.Runtime.loadLibrary0(Runtime.java:818)\n",
      "\tat java.base/java.lang.System.loadLibrary(System.java:1989)\n",
      "\tat org.openslide.OpenSlideJNI.<clinit>(OpenSlideJNI.java:55)\n",
      "\tat org.openslide.OpenSlide.<clinit>(OpenSlide.java:53)\n",
      "\tat qupath.lib.images.servers.openslide.OpenslideServerBuilder.<clinit>(OpenslideServerBuilder.java:88)\n",
      "\tat java.base/jdk.internal.reflect.NativeConstructorAccessorImpl.newInstance0(Native Method)\n",
      "\tat java.base/jdk.internal.reflect.NativeConstructorAccessorImpl.newInstance(NativeConstructorAccessorImpl.java:77)\n",
      "\tat java.base/jdk.internal.reflect.DelegatingConstructorAccessorImpl.newInstance(DelegatingConstructorAccessorImpl.java:45)\n",
      "\tat java.base/java.lang.reflect.Constructor.newInstanceWithCaller(Constructor.java:499)\n",
      "\tat java.base/java.lang.reflect.Constructor.newInstance(Constructor.java:480)\n",
      "\tat java.base/java.util.ServiceLoader$ProviderImpl.newInstance(ServiceLoader.java:789)\n",
      "\tat java.base/java.util.ServiceLoader$ProviderImpl.get(ServiceLoader.java:729)\n",
      "\tat java.base/java.util.ServiceLoader$3.next(ServiceLoader.java:1403)\n",
      "\tat qupath.lib.images.servers.ImageServerProvider.getServerBuilders(ImageServerProvider.java:192)\n",
      "\tat qupath.lib.images.servers.ImageServerProvider.getPreferredUriImageSupport(ImageServerProvider.java:224)\n",
      "13:53:08.835 [main] [INFO ] q.l.i.s.o.OpenslideServerBuilder - If you want to use OpenSlide, you'll need to get the native libraries (either building from source or with a packager manager)\n",
      "and add them to your system PATH, including openslide-jni.\n",
      "13:53:09.263 [main] [INFO ] q.l.i.s.b.BioFormatsServerOptions - Setting max Bio-Formats readers to 32\n",
      "13:53:09.496 [main] [WARN ] q.l.i.s.b.BioFormatsImageServer$ReaderPool - Temp memoization directory created at /tmp/qupath-memo-17470259970647409703\n",
      "13:53:09.496 [main] [WARN ] q.l.i.s.b.BioFormatsImageServer$ReaderPool - If you want to avoid this warning, either specify a memoization directory in the preferences or turn off memoization by setting the time to < 0\n",
      "13:53:23.676 [main] [INFO ] q.l.i.writers.ome.OMEPyramidWriter - Setting to big tiff (estimated 12366.20 MB\n",
      "13:53:23.678 [main] [INFO ] q.l.i.writers.ome.OMEPyramidWriter - Writing Sparse image (88 regions) to /home/jupyter/Projects/tilestitching/pathml/examples/../../data/my_stitched/Pathml_gcp_benchmark_tsdata_mosterdxvm_1_d18.ome.tif (series 1/1)\n",
      "13:53:23.678 [main] [INFO ] q.l.i.writers.ome.OMEPyramidWriter - Setting series 0 compression to zlib\n",
      "13:53:23.678 [main] [INFO ] q.l.i.writers.ome.OMEPyramidWriter - Writing resolution 1 of 2 (downsample=1.0, 1820 tiles)\n",
      "13:53:23.680 [main] [INFO ] q.l.i.writers.ome.OMEPyramidWriter - Writing plane 1/1\n",
      "13:54:17.778 [ForkJoinPool-1-worker-3] [INFO ] q.l.i.writers.ome.OMEPyramidWriter - Written 5% tiles\n",
      "13:55:33.009 [ForkJoinPool-1-worker-3] [INFO ] q.l.i.writers.ome.OMEPyramidWriter - Written 10% tiles\n",
      "13:56:56.497 [ForkJoinPool-1-worker-2] [INFO ] q.l.i.writers.ome.OMEPyramidWriter - Written 15% tiles\n",
      "13:58:17.453 [ForkJoinPool-1-worker-1] [INFO ] q.l.i.writers.ome.OMEPyramidWriter - Written 20% tiles\n",
      "13:59:24.874 [ForkJoinPool-1-worker-3] [INFO ] q.l.i.writers.ome.OMEPyramidWriter - Written 25% tiles\n",
      "14:00:08.081 [ForkJoinPool-1-worker-3] [INFO ] q.l.i.writers.ome.OMEPyramidWriter - Written 30% tiles\n",
      "14:00:25.513 [ForkJoinPool-1-worker-1] [INFO ] q.l.i.writers.ome.OMEPyramidWriter - Written 35% tiles\n",
      "14:00:42.220 [ForkJoinPool-1-worker-2] [INFO ] q.l.i.writers.ome.OMEPyramidWriter - Written 40% tiles\n",
      "14:00:55.378 [ForkJoinPool-1-worker-3] [INFO ] q.l.i.writers.ome.OMEPyramidWriter - Written 45% tiles\n",
      "14:01:13.071 [ForkJoinPool-1-worker-1] [INFO ] q.l.i.writers.ome.OMEPyramidWriter - Written 50% tiles\n",
      "14:01:25.862 [ForkJoinPool-1-worker-2] [INFO ] q.l.i.writers.ome.OMEPyramidWriter - Written 55% tiles\n",
      "14:01:43.740 [ForkJoinPool-1-worker-3] [INFO ] q.l.i.writers.ome.OMEPyramidWriter - Written 60% tiles\n",
      "14:01:56.831 [ForkJoinPool-1-worker-1] [INFO ] q.l.i.writers.ome.OMEPyramidWriter - Written 65% tiles\n",
      "14:02:28.234 [ForkJoinPool-1-worker-3] [INFO ] q.l.i.writers.ome.OMEPyramidWriter - Written 70% tiles\n",
      "14:03:11.879 [ForkJoinPool-1-worker-3] [INFO ] q.l.i.writers.ome.OMEPyramidWriter - Written 75% tiles\n",
      "14:04:03.889 [ForkJoinPool-1-worker-1] [INFO ] q.l.i.writers.ome.OMEPyramidWriter - Written 80% tiles\n",
      "14:04:48.931 [ForkJoinPool-1-worker-1] [INFO ] q.l.i.writers.ome.OMEPyramidWriter - Written 85% tiles\n",
      "14:05:39.452 [ForkJoinPool-1-worker-3] [INFO ] q.l.i.writers.ome.OMEPyramidWriter - Written 90% tiles\n",
      "14:06:22.582 [ForkJoinPool-1-worker-1] [INFO ] q.l.i.writers.ome.OMEPyramidWriter - Written 95% tiles\n",
      "14:06:48.858 [ForkJoinPool-1-worker-4] [INFO ] q.l.i.writers.ome.OMEPyramidWriter - Written 100% tiles\n",
      "14:06:48.862 [main] [INFO ] q.l.i.writers.ome.OMEPyramidWriter - Plane written in 805184 ms\n",
      "14:06:48.862 [main] [INFO ] q.l.i.writers.ome.OMEPyramidWriter - Writing resolution 2 of 2 (downsample=8.0, 36 tiles)\n",
      "14:06:48.862 [main] [INFO ] q.l.i.writers.ome.OMEPyramidWriter - Writing plane 1/1\n",
      "14:08:25.691 [ForkJoinPool-2-worker-4] [INFO ] q.l.i.writers.ome.OMEPyramidWriter - Written 11% tiles\n",
      "14:08:34.411 [ForkJoinPool-2-worker-3] [INFO ] q.l.i.writers.ome.OMEPyramidWriter - Written 19% tiles\n",
      "14:08:55.333 [ForkJoinPool-2-worker-4] [INFO ] q.l.i.writers.ome.OMEPyramidWriter - Written 31% tiles\n",
      "14:08:55.634 [ForkJoinPool-2-worker-4] [INFO ] q.l.i.writers.ome.OMEPyramidWriter - Written 39% tiles\n",
      "14:08:59.715 [ForkJoinPool-2-worker-2] [INFO ] q.l.i.writers.ome.OMEPyramidWriter - Written 50% tiles\n",
      "14:09:09.524 [ForkJoinPool-2-worker-1] [INFO ] q.l.i.writers.ome.OMEPyramidWriter - Written 61% tiles\n",
      "14:09:23.610 [ForkJoinPool-2-worker-4] [INFO ] q.l.i.writers.ome.OMEPyramidWriter - Written 69% tiles\n",
      "14:09:39.944 [ForkJoinPool-2-worker-3] [INFO ] q.l.i.writers.ome.OMEPyramidWriter - Written 81% tiles\n",
      "14:09:59.612 [ForkJoinPool-2-worker-4] [INFO ] q.l.i.writers.ome.OMEPyramidWriter - Written 89% tiles\n",
      "14:10:22.789 [ForkJoinPool-2-worker-3] [INFO ] q.l.i.writers.ome.OMEPyramidWriter - Written 97% tiles\n",
      "14:10:22.790 [main] [INFO ] q.l.i.writers.ome.OMEPyramidWriter - Plane written in 213928 ms\n",
      "Image stitching completed. Output file: ../../data/my_stitched/Pathml_gcp_benchmark_tsdata_mosterdxvm_1_d18.ome.tif\n"
     ]
    }
   ],
   "source": [
    "import time\n",
    "\n",
    "start= time.time()\n",
    "# Run the image stitching process\n",
    "tilestitch.run_image_stitching(infile_path, outfile_path,[1,8])\n",
    "end = time.time()"
   ]
  },
  {
   "cell_type": "code",
   "execution_count": 6,
   "id": "5d674d13-4820-4c26-9ddd-1fae3b1a1aba",
   "metadata": {},
   "outputs": [
    {
     "data": {
      "text/plain": [
       "1034.0190725326538"
      ]
     },
     "execution_count": 6,
     "metadata": {},
     "output_type": "execute_result"
    }
   ],
   "source": [
    "end -start"
   ]
  },
  {
   "cell_type": "code",
   "execution_count": null,
   "id": "ea958359-bfd2-4ccf-a8cc-dba49f927a55",
   "metadata": {},
   "outputs": [],
   "source": []
  }
 ],
 "metadata": {
  "environment": {
   "kernel": "pathml_tiles",
   "name": "pytorch-gpu.1-13.m103",
   "type": "gcloud",
   "uri": "gcr.io/deeplearning-platform-release/pytorch-gpu.1-13:m103"
  },
  "kernelspec": {
   "display_name": "pathml_tiles",
   "language": "python",
   "name": "pathml_tiles"
  },
  "language_info": {
   "codemirror_mode": {
    "name": "ipython",
    "version": 3
   },
   "file_extension": ".py",
   "mimetype": "text/x-python",
   "name": "python",
   "nbconvert_exporter": "python",
   "pygments_lexer": "ipython3",
   "version": "3.8.0"
  }
 },
 "nbformat": 4,
 "nbformat_minor": 5
}
