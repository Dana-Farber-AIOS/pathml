{
 "cells": [
  {
   "cell_type": "markdown",
   "id": "38bdfeb0-8389-4d8e-8cba-5b6aa2080df6",
   "metadata": {},
   "source": [
    "# **Tile Stitching : Merging unmixed files to OME-TIFF**"
   ]
  },
  {
   "cell_type": "markdown",
   "id": "109a91e1-569b-4766-a157-d7921d37280e",
   "metadata": {},
   "source": [
    "The field of digital pathology often involves the management and processing of large, high-resolution images, particularly those in the form of tiled image sets. For instance, in whole-slide imaging (WSI), an entire microscope slide is scanned at high resolution, often creating gigapixel images. To manage the size of these images, they are divided into smaller, overlapping tiles. To analyze the whole slide image, these tiles need to be accurately stitched back together.\n",
    "\n",
    "To facilitate this, we have developed a Python class, `TileStitcher`, that leverages the power of QuPath, an open-source software platform for bioimage analysis, and the OpenJDK Java development kit. This class provides an efficient way to stitch together tiled images.\n",
    "\n",
    "The `TileStitcher` class is a Python adaptation of a Groovy script available [here](https://gist.github.com/petebankhead/b5a86caa333de1fdcff6bdee72a20abe). The original Groovy script extracts the locations of the tiles from the baseline TIFF tags, stitches them together, and writes the stitched image as a pyramidal OME-TIFF. By reimplementing this in Python, we aim to provide a more accessible and easy-to-use tool for the digital pathology community.\n",
    "\n",
    "In this tutorial, we will walk you through the process of using the `TileStitcher` class to collect, parse, stitch, and write large sets of tiled TIFF images. This class is particularly useful for dealing with tiled images from digital pathology experiments, where each image represents a small part of a larger whole. Let's get started!\n"
   ]
  },
  {
   "cell_type": "code",
   "execution_count": null,
   "id": "96ad4fe6-d5fd-40cd-adde-4bf5bda4583a",
   "metadata": {},
   "outputs": [],
   "source": []
  },
  {
   "cell_type": "markdown",
   "id": "e236f5cf-09c1-4730-bb19-66788007e2ae",
   "metadata": {},
   "source": [
    "## Prerequisites\n",
    "\n",
    "Before using the `TileStitcher` class, we need to install the necessary software and configure the environment. \n",
    "\n",
    "### Software Installation\n",
    "\n",
    "The `TileStitcher` class requires QuPath and OpenJDK. Here is how to install them:\n",
    "\n",
    "1. Download and install QuPath from its [GitHub release page](https://github.com/qupath/qupath/releases). Here we are using version 0.3.1.\n",
    "\n",
    "```bash\n",
    "wget https://github.com/qupath/qupath/releases/download/v0.3.1/QuPath-0.3.1-Linux.tar.xz\n",
    "tar -xvf QuPath-0.3.1-Linux.tar.xz\n",
    "```\n",
    "\n",
    "2. Download and Install OpenJDK 17\n",
    "\n",
    "```bash\n",
    "wget https://download.oracle.com/java/17/latest/jdk-17_linux-x64_bin.deb\n",
    "sudo apt install ./jdk-17_linux-x64_bin.deb\n"
   ]
  },
  {
   "cell_type": "code",
   "execution_count": null,
   "id": "4b7bda13-5b0f-41db-8865-38236662c326",
   "metadata": {},
   "outputs": [],
   "source": []
  },
  {
   "cell_type": "markdown",
   "id": "2b45ddfe-636e-4998-add8-52d16db7bc1c",
   "metadata": {},
   "source": [
    "### Environment Configuration"
   ]
  },
  {
   "cell_type": "markdown",
   "id": "a29c5e29-e7fe-497f-8f79-0d9de6ff2469",
   "metadata": {},
   "source": [
    "To use `TileStitcher`, we need to set the correct paths to the QuPath library and OpenJDK. For this, we need to add the paths to the environment variables `JAVA_HOME`, `CLASSPATH`, and `LD_LIBRARY_PATH`.\n",
    "\n",
    "The `JAVA_HOME` environment variable should be set to the path where the JDK is installed.\n",
    "The `CLASSPATH` environment variable should include paths to all the QuPath library jar files.\n",
    "In the initialization of TileStitcher, these environment variables are used to start the Java Virtual Machine (JVM) and import the necessary QuPath classes."
   ]
  },
  {
   "cell_type": "code",
   "execution_count": null,
   "id": "6b0d6afb-256a-456b-ac7c-a7951eaf7578",
   "metadata": {},
   "outputs": [],
   "source": []
  },
  {
   "cell_type": "code",
   "execution_count": null,
   "id": "ab9d50e7-896d-4110-84a7-b725f185ee64",
   "metadata": {},
   "outputs": [],
   "source": []
  },
  {
   "cell_type": "markdown",
   "id": "f3be9706-2c25-43e1-b98f-24ac84f101fb",
   "metadata": {},
   "source": [
    "## Best Practices and Considerations for Using the TileStitcher Module\n",
    "\n",
    "### 1. JVM Session Management\n",
    "\n",
    "The TileStitcher module utilizes jpype to manage the JVM sessions, a departure from the python-javabridge used in other parts of the package. This difference can cause conflicts when trying to run modules concurrently within the same Python environment. Hence, it is advisable to avoid running TileStitcher operations in the same notebook where python-javabridge dependent modules are running.\n",
    "\n",
    "### 2. Restarting Kernel to Re-initialize JVM\n",
    "\n",
    "The jpype does not allow the JVM to be restarted within the same Python session once it has been terminated. As a result, to run the TileStitcher module again or to switch back to modules that use python-javabridge, a kernel restart might be necessary.\n",
    "\n",
    "### 3. Segregating Workflows\n",
    "\n",
    "To mitigate potential conflicts, consider segregating workflows based on the JVM management package they depend on. It is recommended to use separate notebooks or scripts for operations involving TileStitcher and for those involving modules that are dependent on python-javabridge.\n",
    "\n"
   ]
  },
  {
   "cell_type": "code",
   "execution_count": null,
   "id": "f7a60a3f-4749-4f7b-9571-912b98017910",
   "metadata": {},
   "outputs": [],
   "source": []
  },
  {
   "cell_type": "markdown",
   "id": "70775f15-c13f-45b3-a71d-a6be5ab28e69",
   "metadata": {},
   "source": [
    "### Initialization\n",
    "\n",
    "Once the environment is set up, we can initialize TileStitcher."
   ]
  },
  {
   "cell_type": "code",
   "execution_count": 12,
   "id": "76ecba97-d4b9-4ee7-856f-3e8ca267dcf5",
   "metadata": {},
   "outputs": [
    {
     "name": "stdout",
     "output_type": "stream",
     "text": [
      "./tools/bftools/bfconvert ./tools/bftools/bf.sh\n",
      "bfconvert version: Version: 7.0.1\n",
      "Build date: 16 October 2023\n",
      "VCS revision: 20e58cef1802770cc56ecaf1ef6f323680e4cf65\n",
      "Setting Environment Paths\n",
      "Java Home is already set\n",
      "JVM was already started\n"
     ]
    }
   ],
   "source": [
    "import glob\n",
    "import os\n",
    "from pathml.preprocessing.tilestitcher import TileStitcher\n",
    "from pathml.utils import setup_qupath\n",
    "\n",
    "\n",
    "# Set the path to the JDK\n",
    "os.environ[\"JAVA_HOME\"] = \"/usr/lib/jvm/jdk-17/\"\n",
    "\n",
    "# Use setup_qupath to get the QuPath installation path\n",
    "qupath_home = setup_qupath('../../tools1/tools1/')\n",
    "\n",
    "if qupath_home is not None:\n",
    "    os.environ['QUPATH_HOME'] = qupath_home\n",
    "\n",
    "    # Construct the path to QuPath jars based on qupath_home\n",
    "    qupath_jars_dir = os.path.join(qupath_home, 'lib', 'app')\n",
    "    qupath_jars = glob.glob(os.path.join(qupath_jars_dir, '*.jar'))\n",
    "    qupath_jars.append(os.path.join(qupath_jars_dir, 'libopenslide-jni.so'))\n",
    "\n",
    "    # Create an instance of TileStitcher\n",
    "    stitcher = TileStitcher(qupath_jars)\n",
    "else:\n",
    "    print(\"QuPath installation not found. Please check the installation path.\")\n",
    "\n"
   ]
  },
  {
   "cell_type": "code",
   "execution_count": 13,
   "id": "9a817b38-4d28-4d62-a365-6a2fe584b455",
   "metadata": {},
   "outputs": [],
   "source": [
    "import jpype"
   ]
  },
  {
   "cell_type": "code",
   "execution_count": 14,
   "id": "27d6403a-a249-4a4b-9a66-29f9494fd6f7",
   "metadata": {},
   "outputs": [
    {
     "data": {
      "text/plain": [
       "False"
      ]
     },
     "execution_count": 14,
     "metadata": {},
     "output_type": "execute_result"
    }
   ],
   "source": [
    "jpype.isJVMStarted()"
   ]
  },
  {
   "cell_type": "code",
   "execution_count": null,
   "id": "56db0914-f040-472d-b757-19e796aa302e",
   "metadata": {},
   "outputs": [],
   "source": []
  },
  {
   "cell_type": "markdown",
   "id": "3195f589-c8cc-4c73-8d00-2a1abcc62ea4",
   "metadata": {},
   "source": [
    "### Image Stitching\n"
   ]
  },
  {
   "cell_type": "markdown",
   "id": "74246dc8-2bd3-4a31-ad63-d45a49eae02e",
   "metadata": {},
   "source": [
    "Now that `TileStitcher` is initialized, we can use it to stitch together tiled images. The run_image_stitching method takes as input a list of TIFF files or a directory containing TIFF files and an output file path."
   ]
  },
  {
   "cell_type": "code",
   "execution_count": 4,
   "id": "0838c482-ce15-4f5c-8d05-24c68b9d22be",
   "metadata": {},
   "outputs": [],
   "source": [
    "input_files = glob.glob(\"path/to/tiles/*.tif\")\n",
    "output_file = \"path/to/output.ome.tif\"\n",
    "stitcher.run_image_stitching(input_files, output_file)\n"
   ]
  },
  {
   "cell_type": "markdown",
   "id": "322f521b-f793-4c22-a519-c61cdb554941",
   "metadata": {},
   "source": [
    "This will stitch the tiles together and write the stitched image to the output file in OME-TIFF format."
   ]
  },
  {
   "cell_type": "code",
   "execution_count": null,
   "id": "c21602e1-f76c-41e2-8ff9-38479df42a02",
   "metadata": {},
   "outputs": [],
   "source": []
  },
  {
   "cell_type": "markdown",
   "id": "2d3d6536-7c7f-42f0-b49b-9066b84489c0",
   "metadata": {},
   "source": [
    "### **Demo**"
   ]
  },
  {
   "cell_type": "code",
   "execution_count": null,
   "id": "41e3bf35-b771-4ce6-9e3e-6a74d514213b",
   "metadata": {},
   "outputs": [],
   "source": []
  },
  {
   "cell_type": "code",
   "execution_count": null,
   "id": "edb49b7b-651b-4e14-be86-1d74cbc40b82",
   "metadata": {},
   "outputs": [],
   "source": [
    "import glob\n",
    "import os\n",
    "from pathml.preprocessing.tilestitcher import TileStitcher\n",
    "from pathml.utils import setup_qupath\n",
    "\n",
    "\n",
    "# Set the path to the JDK\n",
    "os.environ[\"JAVA_HOME\"] = \"/usr/lib/jvm/jdk-17/\"\n",
    "\n",
    "# Use setup_qupath to get the QuPath installation path\n",
    "qupath_home = setup_qupath('../../tools1/tools1/')\n",
    "\n",
    "if qupath_home is not None:\n",
    "    os.environ['QUPATH_HOME'] = qupath_home\n",
    "\n",
    "    # Construct the path to QuPath jars based on qupath_home\n",
    "    qupath_jars_dir = os.path.join(qupath_home, 'lib', 'app')\n",
    "    qupath_jars = glob.glob(os.path.join(qupath_jars_dir, '*.jar'))\n",
    "    qupath_jars.append(os.path.join(qupath_jars_dir, 'libopenslide-jni.so'))\n",
    "\n",
    "    # Create an instance of TileStitcher\n",
    "    stitcher = TileStitcher(qupath_jars)\n",
    "else:\n",
    "    print(\"QuPath installation not found. Please check the installation path.\")\n",
    "\n"
   ]
  },
  {
   "cell_type": "code",
   "execution_count": null,
   "id": "b71697c2-84d9-4c98-b0da-8df419a87ad5",
   "metadata": {},
   "outputs": [],
   "source": []
  },
  {
   "cell_type": "code",
   "execution_count": null,
   "id": "3a627854-7111-41d6-95e9-efb5b6c1d63c",
   "metadata": {},
   "outputs": [],
   "source": [
    "infile_path= '../../input_files/'\n",
    "outfile_path = '../../output_files/tile_stitching_demo.ome.tif'"
   ]
  },
  {
   "cell_type": "code",
   "execution_count": 15,
   "id": "f9e62089-4f7c-4c43-a5d3-70b8b633b207",
   "metadata": {
    "tags": []
   },
   "outputs": [],
   "source": [
    "import time\n",
    "\n",
    "start= time.time()\n",
    "# Run the image stitching process\n",
    "tilestitch.run_image_stitching(infile_path, outfile_path,[1])\n",
    "end = time.time()"
   ]
  },
  {
   "cell_type": "code",
   "execution_count": null,
   "id": "753691c3-bc10-465e-89a0-c711d9b2e0a1",
   "metadata": {},
   "outputs": [],
   "source": []
  },
  {
   "cell_type": "code",
   "execution_count": null,
   "id": "d27b0946-1b88-4183-b5e3-762b6a6d2d58",
   "metadata": {},
   "outputs": [],
   "source": []
  }
 ],
 "metadata": {
  "environment": {
   "kernel": "pathml_standard",
   "name": "pytorch-gpu.1-13.m103",
   "type": "gcloud",
   "uri": "gcr.io/deeplearning-platform-release/pytorch-gpu.1-13:m103"
  },
  "kernelspec": {
   "display_name": "pathml_standard",
   "language": "python",
   "name": "pathml_standard"
  },
  "language_info": {
   "codemirror_mode": {
    "name": "ipython",
    "version": 3
   },
   "file_extension": ".py",
   "mimetype": "text/x-python",
   "name": "python",
   "nbconvert_exporter": "python",
   "pygments_lexer": "ipython3",
   "version": "3.8.0"
  }
 },
 "nbformat": 4,
 "nbformat_minor": 5
}
