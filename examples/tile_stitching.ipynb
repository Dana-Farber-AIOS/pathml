{
 "cells": [
  {
   "cell_type": "markdown",
   "id": "38bdfeb0-8389-4d8e-8cba-5b6aa2080df6",
   "metadata": {},
   "source": [
    "# **Tile Stitching : Merging unmixed files to OME-TIFF**"
   ]
  },
  {
   "cell_type": "markdown",
   "id": "109a91e1-569b-4766-a157-d7921d37280e",
   "metadata": {},
   "source": [
    "The field of digital pathology often involves the management and processing of large, high-resolution images, particularly those in the form of tiled image sets. For instance, in whole-slide imaging (WSI), an entire microscope slide is scanned at high resolution, often creating gigapixel images. To manage the size of these images, they are divided into smaller, overlapping tiles. To analyze the whole slide image, these tiles need to be accurately stitched back together.\n",
    "\n",
    "To facilitate this, we have developed a Python class, `TileStitcher`, that leverages the power of QuPath, an open-source software platform for bioimage analysis, and the OpenJDK Java development kit. This class provides an efficient way to stitch together tiled images.\n",
    "\n",
    "The `TileStitcher` class is a Python adaptation of a Groovy script by Pete Bankhead, available [here](https://gist.github.com/petebankhead/b5a86caa333de1fdcff6bdee72a20abe). The original Groovy script extracts the locations of the tiles from the baseline TIFF tags, stitches them together, and writes the stitched image as a pyramidal OME-TIFF. By reimplementing this in Python, we aim to provide a more accessible and easy-to-use tool for the digital pathology community.\n",
    "\n",
    "In this tutorial, we will walk you through the process of using the `TileStitcher` class to collect, parse, stitch, and write large sets of tiled TIFF images. This class is particularly useful for dealing with tiled images from digital pathology experiments, where each image represents a small part of a larger whole. Let's get started!\n"
   ]
  },
  {
   "cell_type": "code",
   "execution_count": null,
   "id": "96ad4fe6-d5fd-40cd-adde-4bf5bda4583a",
   "metadata": {},
   "outputs": [],
   "source": []
  },
  {
   "cell_type": "markdown",
   "id": "7c6a876e-95c8-4b62-80dc-2de356f50daf",
   "metadata": {},
   "source": [
    "\n",
    "## Prerequisites\n",
    "\n",
    "Before you start using the `TileStitcher` class, it's crucial to have the necessary software installed and the environment correctly configured.\n",
    "\n",
    "### Software Installation\n",
    "\n",
    "`TileStitcher` requires QuPath and OpenJDK. Here are the steps to install them:\n",
    "\n",
    "1\\. **Install QuPath**  \n",
    "\n",
    "   Download the latest version of QuPath from its [GitHub release page](https://github.com/qupath/qupath/releases), recommended version 0.4.3.\n",
    "\n",
    "   ```\n",
    "   wget https://github.com/qupath/qupath/releases/download/v0.4.3/QuPath-0.4.3-Linux.tar.xz\n",
    "   tar -xvf QuPath-0.4.3-Linux.tar.xz\n",
    "   ```\n",
    "\n",
    "   QuPath can also be installed using the `setupqupath` utility function during initialization. This function downloads QuPath from the specified URL. Be sure to adjust the QuPath home path as needed for your system.\n",
    "\n",
    "2\\. **Install OpenJDK 17**  \n",
    "\n",
    "   OpenJDK 17 can be installed either through standard package managers or via Conda. If you're using Conda, you can install it from [Anaconda](https://anaconda.org/conda-forge/openjdk) as follows:\n",
    "\n",
    "   ```\n",
    "   conda install -c conda-forge openjdk~=17\n",
    "   ```\n",
    "\n",
    "   Set the Java path according to your installation method. If you have set up your environment using PathML, set the Java path to `/opt/conda/envs/pathml`. Otherwise, adjust it to the appropriate path on your system.\n",
    "\n"
   ]
  },
  {
   "cell_type": "code",
   "execution_count": null,
   "id": "5132e455-45ad-4e64-aa6c-c35b9698e70b",
   "metadata": {},
   "outputs": [],
   "source": []
  },
  {
   "cell_type": "markdown",
   "id": "2b45ddfe-636e-4998-add8-52d16db7bc1c",
   "metadata": {},
   "source": [
    "### Environment Configuration"
   ]
  },
  {
   "cell_type": "markdown",
   "id": "a29c5e29-e7fe-497f-8f79-0d9de6ff2469",
   "metadata": {},
   "source": [
    "To use `TileStitcher`, we need to set the correct paths to the QuPath library and OpenJDK. For this, we need to add the paths to the environment variables `JAVA_HOME`, `CLASSPATH`, and `LD_LIBRARY_PATH`.\n",
    "\n",
    "The `JAVA_HOME` environment variable should be set to the path where the JDK is installed.\n",
    "The `CLASSPATH` environment variable should include paths to all the QuPath library jar files.\n",
    "In the initialization of TileStitcher, these environment variables are used to start the Java Virtual Machine (JVM) and import the necessary QuPath classes."
   ]
  },
  {
   "cell_type": "code",
   "execution_count": null,
   "id": "6b0d6afb-256a-456b-ac7c-a7951eaf7578",
   "metadata": {},
   "outputs": [],
   "source": []
  },
  {
   "cell_type": "code",
   "execution_count": null,
   "id": "ab9d50e7-896d-4110-84a7-b725f185ee64",
   "metadata": {},
   "outputs": [],
   "source": []
  },
  {
   "cell_type": "markdown",
   "id": "f3be9706-2c25-43e1-b98f-24ac84f101fb",
   "metadata": {},
   "source": [
    "## Best Practices and Considerations for Using the TileStitcher Module\n",
    "\n",
    "### 1. JVM Session Management\n",
    "\n",
    "The TileStitcher module utilizes jpype to manage the JVM sessions, a departure from the python-javabridge used in other parts of the package. This difference can cause conflicts when trying to run modules concurrently within the same Python environment. Hence, it is advisable to avoid running TileStitcher operations in the same notebook where python-javabridge dependent modules are running.\n",
    "\n",
    "### 2. Restarting Kernel to Re-initialize JVM\n",
    "\n",
    "The jpype does not allow the JVM to be restarted within the same Python session once it has been terminated. As a result, to run the TileStitcher module again or to switch back to modules that use python-javabridge, a kernel restart might be necessary.\n",
    "\n",
    "### 3. Segregating Workflows\n",
    "\n",
    "To mitigate potential conflicts, consider segregating workflows based on the JVM management package they depend on. It is recommended to use separate notebooks or scripts for operations involving TileStitcher and for those involving modules that are dependent on python-javabridge.\n",
    "\n"
   ]
  },
  {
   "cell_type": "code",
   "execution_count": null,
   "id": "f7a60a3f-4749-4f7b-9571-912b98017910",
   "metadata": {},
   "outputs": [],
   "source": []
  },
  {
   "cell_type": "markdown",
   "id": "bc1f38e6-1119-427d-9a86-a1d9461600b2",
   "metadata": {},
   "source": [
    "### Using TileStitcher\n",
    "\n",
    "Ensure QuPath and JDK installations are complete before proceeding.\n",
    "\n",
    "#### Initialization\n",
    "\n",
    "The class is initialized with several parameters:\n",
    "\n",
    "- `qupath_jarpath`: List of paths to QuPath JAR files.\n",
    "\n",
    "- `java_path`: Custom path to Java installation. If set, `JAVA_HOME` will be overridden.\n",
    "\n",
    "- `memory`: Allocated memory for the JVM (default: \"40g\").\n",
    "\n",
    "- `bfconvert_dir`: Directory for Bio-Formats conversion tools.\n",
    "\n",
    "During initialization, `TileStitcher` sets up the Java Virtual Machine (JVM) and imports necessary QuPath classes. It also includes error handling for Java path configurations and JVM startup issues.\n",
    "\n",
    "#### JVM Startup\n",
    "\n",
    "The `_start_jvm` method initiates the JVM with specified memory and classpath settings. It imports necessary QuPath classes upon successful startup, ensuring compatibility with Java 17."
   ]
  },
  {
   "cell_type": "code",
   "execution_count": null,
   "id": "b2c4daae-7083-4af1-8131-a30c80dbb292",
   "metadata": {},
   "outputs": [],
   "source": []
  },
  {
   "cell_type": "code",
   "execution_count": 12,
   "id": "76ecba97-d4b9-4ee7-856f-3e8ca267dcf5",
   "metadata": {},
   "outputs": [
    {
     "name": "stdout",
     "output_type": "stream",
     "text": [
      "./tools/bftools/bfconvert ./tools/bftools/bf.sh\n",
      "bfconvert version: Version: 7.0.1\n",
      "Build date: 16 October 2023\n",
      "VCS revision: 20e58cef1802770cc56ecaf1ef6f323680e4cf65\n",
      "Setting Environment Paths\n",
      "Java Home is already set\n",
      "JVM was already started\n"
     ]
    }
   ],
   "source": [
    "import glob\n",
    "import os\n",
    "from pathml.preprocessing.tilestitcher import TileStitcher\n",
    "from pathml.utils import setup_qupath\n",
    "\n",
    "\n",
    "# Set the path to the JDK\n",
    "os.environ[\"JAVA_HOME\"] = \"/usr/lib/jvm/jdk-17/\"\n",
    "\n",
    "# Use setup_qupath to get the QuPath installation path\n",
    "qupath_home = setup_qupath('../../tools1/tools1/')\n",
    "\n",
    "if qupath_home is not None:\n",
    "    os.environ['QUPATH_HOME'] = qupath_home\n",
    "\n",
    "    # Construct the path to QuPath jars based on qupath_home\n",
    "    qupath_jars_dir = os.path.join(qupath_home, 'lib', 'app')\n",
    "    qupath_jars = glob.glob(os.path.join(qupath_jars_dir, '*.jar'))\n",
    "    qupath_jars.append(os.path.join(qupath_jars_dir, 'libopenslide-jni.so'))\n",
    "\n",
    "    # Create an instance of TileStitcher\n",
    "    stitcher = TileStitcher(qupath_jars)\n",
    "else:\n",
    "    print(\"QuPath installation not found. Please check the installation path.\")\n",
    "\n"
   ]
  },
  {
   "cell_type": "code",
   "execution_count": 13,
   "id": "9a817b38-4d28-4d62-a365-6a2fe584b455",
   "metadata": {},
   "outputs": [],
   "source": [
    "import jpype"
   ]
  },
  {
   "cell_type": "code",
   "execution_count": 14,
   "id": "27d6403a-a249-4a4b-9a66-29f9494fd6f7",
   "metadata": {},
   "outputs": [
    {
     "data": {
      "text/plain": [
       "False"
      ]
     },
     "execution_count": 14,
     "metadata": {},
     "output_type": "execute_result"
    }
   ],
   "source": [
    "jpype.isJVMStarted()"
   ]
  },
  {
   "cell_type": "code",
   "execution_count": null,
   "id": "56db0914-f040-472d-b757-19e796aa302e",
   "metadata": {},
   "outputs": [],
   "source": []
  },
  {
   "cell_type": "code",
   "execution_count": null,
   "id": "666e599c-34e6-44ae-99bc-9d4a66448f52",
   "metadata": {},
   "outputs": [],
   "source": []
  },
  {
   "cell_type": "markdown",
   "id": "77df2040-ca5c-41e8-b9d2-64ad2a0248e9",
   "metadata": {},
   "source": [
    "### Image Stitching with TileStitcher\n",
    "\n",
    "Once `TileStitcher` is initialized, it's capable of stitching together tiled images.\n",
    "\n",
    "-   Method: `run_image_stitching`\n",
    "-   Inputs:\n",
    "    -   A list of TIFF files or a directory containing TIFF files.\n",
    "    -   Output file path.\n",
    "-   Optional Parameters:\n",
    "    -   `downsamples`: Specify the number of downsample levels (e.g., `[1,4,8]`). Defaults to levels read from the tiles.\n",
    "    -   `separate_series`: If set to `True`, it downloads bftools and extracts the base level image from the stitched image."
   ]
  },
  {
   "cell_type": "code",
   "execution_count": 4,
   "id": "0838c482-ce15-4f5c-8d05-24c68b9d22be",
   "metadata": {},
   "outputs": [],
   "source": [
    "input_files = glob.glob(\"path/to/tiles/*.tif\")`a\n",
    "output_file = \"path/to/output.ome.tif\"\n",
    "stitcher.run_image_stitching(input_files, output_file)\n"
   ]
  },
  {
   "cell_type": "markdown",
   "id": "322f521b-f793-4c22-a519-c61cdb554941",
   "metadata": {},
   "source": [
    "This will stitch the tiles together and write the stitched image to the output file in OME-TIFF format."
   ]
  },
  {
   "cell_type": "code",
   "execution_count": null,
   "id": "0d46d2e6-bf9a-4a6e-9e69-ee0cf7a13ecf",
   "metadata": {},
   "outputs": [],
   "source": []
  },
  {
   "cell_type": "markdown",
   "id": "2d3d6536-7c7f-42f0-b49b-9066b84489c0",
   "metadata": {},
   "source": [
    "### **Demo**"
   ]
  },
  {
   "cell_type": "code",
   "execution_count": 1,
   "id": "41e3bf35-b771-4ce6-9e3e-6a74d514213b",
   "metadata": {},
   "outputs": [],
   "source": [
    "import jpype"
   ]
  },
  {
   "cell_type": "code",
   "execution_count": 2,
   "id": "841fe169-fd0e-4dce-8551-77f95b1b2a26",
   "metadata": {},
   "outputs": [
    {
     "data": {
      "text/plain": [
       "(False, (0, 0, 0))"
      ]
     },
     "execution_count": 2,
     "metadata": {},
     "output_type": "execute_result"
    }
   ],
   "source": [
    "jpype.isJVMStarted(),jpype.getJVMVersion()"
   ]
  },
  {
   "cell_type": "code",
   "execution_count": 3,
   "id": "edb49b7b-651b-4e14-be86-1d74cbc40b82",
   "metadata": {},
   "outputs": [
    {
     "name": "stdout",
     "output_type": "stream",
     "text": [
      "Using JAVA_HOME from environment variables.\n",
      "Warning: This Java version might not be fully compatible with some QuPath libraries. Java 17 is recommended.\n",
      "Importing required qupath classes\n",
      "Using JVM version: (0, 0, 0) from /opt/conda/envs/pathml/lib/jvm/lib/server/libjvm.so\n",
      "JVM started successfully\n"
     ]
    }
   ],
   "source": [
    "import glob\n",
    "import os\n",
    "from pathml.preprocessing.tilestitcher import TileStitcher\n",
    "from pathml.utils import setup_qupath\n",
    "\n",
    "\n",
    "# Set the path to the JDK\n",
    "os.environ[\"JAVA_HOME\"] = \"/opt/conda/envs/pathml\"\n",
    "\n",
    "# Use setup_qupath to get the QuPath installation path\n",
    "qupath_home = setup_qupath('./tools/')\n",
    "\n",
    "if qupath_home is not None:\n",
    "    os.environ['QUPATH_HOME'] = qupath_home\n",
    "\n",
    "    # Construct the path to QuPath jars based on qupath_home\n",
    "    qupath_jars_dir = os.path.join(qupath_home, 'lib', 'app')\n",
    "    qupath_jars = glob.glob(os.path.join(qupath_jars_dir, '*.jar'))\n",
    "    qupath_jars.append(os.path.join(qupath_jars_dir, 'libopenslide-jni.so'))\n",
    "\n",
    "    # Create an instance of TileStitcher\n",
    "    stitcher = TileStitcher(qupath_jars)\n",
    "else:\n",
    "    print(\"QuPath installation not found. Please check the installation path.\")\n",
    "\n"
   ]
  },
  {
   "cell_type": "code",
   "execution_count": 4,
   "id": "b71697c2-84d9-4c98-b0da-8df419a87ad5",
   "metadata": {},
   "outputs": [
    {
     "data": {
      "text/plain": [
       "(True, (17, 0, 3))"
      ]
     },
     "execution_count": 4,
     "metadata": {},
     "output_type": "execute_result"
    }
   ],
   "source": [
    "jpype.isJVMStarted(),jpype.getJVMVersion()"
   ]
  },
  {
   "cell_type": "code",
   "execution_count": null,
   "id": "6f2d66f4-2175-4a9d-872d-b466240f901b",
   "metadata": {},
   "outputs": [],
   "source": []
  },
  {
   "cell_type": "code",
   "execution_count": 5,
   "id": "3a627854-7111-41d6-95e9-efb5b6c1d63c",
   "metadata": {},
   "outputs": [],
   "source": [
    "#Specify the folder path where the list of .tif files are present, here we are using a folder path that has single tif file for demo purposes.\n",
    "infile_path= '../tests/testdata/tilestitching_testdata/'\n",
    "outfile_path = './output/tile_stitching_demo.ome.tif'"
   ]
  },
  {
   "cell_type": "code",
   "execution_count": null,
   "id": "3091bc33-37d7-4c84-a5d3-a81af4b27a92",
   "metadata": {},
   "outputs": [],
   "source": []
  },
  {
   "cell_type": "code",
   "execution_count": 6,
   "id": "f9e62089-4f7c-4c43-a5d3-70b8b633b207",
   "metadata": {
    "tags": []
   },
   "outputs": [
    {
     "name": "stdout",
     "output_type": "stream",
     "text": [
      "15:56:42.416 [main] [INFO ] q.l.i.s.b.BioFormatsServerOptions - Setting max Bio-Formats readers to 32\n",
      "15:56:42.938 [main] [ERROR] q.l.i.s.o.OpenslideServerBuilder - Could not load OpenSlide native libraries\n",
      "java.lang.UnsatisfiedLinkError: no openslide-jni in java.library.path: /usr/local/cuda/lib64:/usr/local/nccl2/lib:/usr/local/cuda/extras/CUPTI/lib64:/usr/java/packages/lib:/usr/lib64:/lib64:/lib:/usr/lib\n",
      "\tat java.base/java.lang.ClassLoader.loadLibrary(ClassLoader.java:2429)\n",
      "\tat java.base/java.lang.Runtime.loadLibrary0(Runtime.java:818)\n",
      "\tat java.base/java.lang.System.loadLibrary(System.java:1989)\n",
      "\tat org.openslide.OpenSlideJNI.<clinit>(OpenSlideJNI.java:55)\n",
      "\tat org.openslide.OpenSlide.<clinit>(OpenSlide.java:53)\n",
      "\tat qupath.lib.images.servers.openslide.OpenslideServerBuilder.<clinit>(OpenslideServerBuilder.java:90)\n",
      "\tat java.base/jdk.internal.reflect.NativeConstructorAccessorImpl.newInstance0(Native Method)\n",
      "\tat java.base/jdk.internal.reflect.NativeConstructorAccessorImpl.newInstance(NativeConstructorAccessorImpl.java:77)\n",
      "\tat java.base/jdk.internal.reflect.DelegatingConstructorAccessorImpl.newInstance(DelegatingConstructorAccessorImpl.java:45)\n",
      "\tat java.base/java.lang.reflect.Constructor.newInstanceWithCaller(Constructor.java:499)\n",
      "\tat java.base/java.lang.reflect.Constructor.newInstance(Constructor.java:480)\n",
      "\tat java.base/java.util.ServiceLoader$ProviderImpl.newInstance(ServiceLoader.java:789)\n",
      "\tat java.base/java.util.ServiceLoader$ProviderImpl.get(ServiceLoader.java:729)\n",
      "\tat java.base/java.util.ServiceLoader$3.next(ServiceLoader.java:1403)\n",
      "\tat qupath.lib.images.servers.ImageServerProvider.getServerBuilders(ImageServerProvider.java:191)\n",
      "\tat qupath.lib.images.servers.ImageServerProvider.getPreferredUriImageSupport(ImageServerProvider.java:223)\n",
      "15:56:42.940 [main] [INFO ] q.l.i.s.o.OpenslideServerBuilder - If you want to use OpenSlide, you'll need to get the native libraries (either building from source or with a packager manager)\n",
      "and add them to your system PATH, including openslide-jni.\n",
      "15:56:45.562 [main] [INFO ] q.l.i.writers.ome.OMEPyramidWriter - Writing Sparse image (1 regions) to /home/jupyter/Projects/tilestitching/pathml/examples/./output/tile_stitching_demo.ome.tif (series 1/1)\n",
      "15:56:45.562 [main] [INFO ] q.l.i.writers.ome.OMEPyramidWriter - Setting series 0 compression to zlib\n",
      "15:56:45.563 [main] [INFO ] q.l.i.writers.ome.OMEPyramidWriter - Writing resolution 1 of 1 (downsample=1.0, 12 tiles)\n",
      "15:56:45.565 [main] [INFO ] q.l.i.writers.ome.OMEPyramidWriter - Writing plane 1/1\n",
      "15:56:55.121 [main] [INFO ] q.l.i.writers.ome.OMEPyramidWriter - Plane written in 9555 ms\n",
      "Image stitching completed. Output file: ./output/tile_stitching_demo.ome.tif\n",
      "Separating Series\n",
      "./tools/bftools/bfconvert ./tools/bftools/bf.sh\n",
      "bfconvert version: Version: 7.1.0\n",
      "Build date: 11 December 2023\n",
      "VCS revision: 05c7b2413cfad19a73b619c61ddf77ca2d038ce7\n",
      "./output/tile_stitching_demo.ome.tif\n",
      "OMETiffReader initializing ./output/tile_stitching_demo.ome.tif\n",
      "[OME-TIFF] -> ./output/tile_stitching_demo_separated.tif [Tagged Image File Format]\n",
      "Reading IFDs\n",
      "Populating metadata\n",
      "Reading IFDs\n",
      "Populating metadata\n",
      "\tConverted 1/7 planes (14%)\n",
      "\tConverted 7/7 planes (100%)\n",
      "[done]\n",
      "1.846s elapsed (153.57143+42.714287ms per plane, 452ms overhead)\n",
      "bfconvert completed. Output file: ./output/tile_stitching_demo_separated.tif\n"
     ]
    }
   ],
   "source": [
    "import time\n",
    "\n",
    "start= time.time()\n",
    "# Run the image stitching process\n",
    "stitcher.run_image_stitching(infile_path, outfile_path,downsamples=[1],separate_series=True)\n",
    "end = time.time()"
   ]
  },
  {
   "cell_type": "code",
   "execution_count": null,
   "id": "753691c3-bc10-465e-89a0-c711d9b2e0a1",
   "metadata": {},
   "outputs": [],
   "source": []
  },
  {
   "cell_type": "code",
   "execution_count": null,
   "id": "d27b0946-1b88-4183-b5e3-762b6a6d2d58",
   "metadata": {},
   "outputs": [],
   "source": []
  }
 ],
 "metadata": {
  "environment": {
   "kernel": "pathml",
   "name": "pytorch-gpu.1-13.m103",
   "type": "gcloud",
   "uri": "gcr.io/deeplearning-platform-release/pytorch-gpu.1-13:m103"
  },
  "kernelspec": {
   "display_name": "pathml",
   "language": "python",
   "name": "pathml"
  },
  "language_info": {
   "codemirror_mode": {
    "name": "ipython",
    "version": 3
   },
   "file_extension": ".py",
   "mimetype": "text/x-python",
   "name": "python",
   "nbconvert_exporter": "python",
   "pygments_lexer": "ipython3",
   "version": "3.9.15"
  }
 },
 "nbformat": 4,
 "nbformat_minor": 5
}
