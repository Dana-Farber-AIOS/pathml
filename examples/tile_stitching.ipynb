{
 "cells": [
  {
   "cell_type": "markdown",
   "id": "38bdfeb0-8389-4d8e-8cba-5b6aa2080df6",
   "metadata": {},
   "source": [
    "# **Tile Stitching : Merging unmixed files to OME-TIFF**"
   ]
  },
  {
   "cell_type": "markdown",
   "id": "109a91e1-569b-4766-a157-d7921d37280e",
   "metadata": {},
   "source": [
    "The field of digital pathology often involves the management and processing of large, high-resolution images, particularly those in the form of tiled image sets. For instance, in whole-slide imaging (WSI), an entire microscope slide is scanned at high resolution, often creating gigapixel images. To manage the size of these images, they are divided into smaller, overlapping tiles. To analyze the whole slide image, these tiles need to be accurately stitched back together.\n",
    "\n",
    "To facilitate this, we have developed a Python class, `TileStitcher`, that leverages the power of QuPath, an open-source software platform for bioimage analysis, and the OpenJDK Java development kit. This class provides an efficient way to stitch together tiled images.\n",
    "\n",
    "The `TileStitcher` class is a Python adaptation of a Groovy script available [here](https://gist.github.com/petebankhead/b5a86caa333de1fdcff6bdee72a20abe). The original Groovy script extracts the locations of the tiles from the baseline TIFF tags, stitches them together, and writes the stitched image as a pyramidal OME-TIFF. By reimplementing this in Python, we aim to provide a more accessible and easy-to-use tool for the digital pathology community.\n",
    "\n",
    "In this tutorial, we will walk you through the process of using the `TileStitcher` class to collect, parse, stitch, and write large sets of tiled TIFF images. This class is particularly useful for dealing with tiled images from digital pathology experiments, where each image represents a small part of a larger whole. Let's get started!\n"
   ]
  },
  {
   "cell_type": "code",
   "execution_count": null,
   "id": "96ad4fe6-d5fd-40cd-adde-4bf5bda4583a",
   "metadata": {},
   "outputs": [],
   "source": []
  },
  {
   "cell_type": "markdown",
   "id": "e236f5cf-09c1-4730-bb19-66788007e2ae",
   "metadata": {},
   "source": [
    "## Prerequisites\n",
    "\n",
    "Before using the `TileStitcher` class, we need to install the necessary software and configure the environment. \n",
    "\n",
    "### Software Installation\n",
    "\n",
    "The `TileStitcher` class requires QuPath and OpenJDK. Here is how to install them:\n",
    "\n",
    "1. Download and install QuPath from its [GitHub release page](https://github.com/qupath/qupath/releases). Here we are using version 0.3.1.\n",
    "\n",
    "```bash\n",
    "wget https://github.com/qupath/qupath/releases/download/v0.3.1/QuPath-0.3.1-Linux.tar.xz\n",
    "tar -xvf QuPath-0.3.1-Linux.tar.xz\n",
    "```\n",
    "\n",
    "2. Download and Install OpenJDK 17\n",
    "\n",
    "```bash\n",
    "wget https://download.oracle.com/java/17/latest/jdk-17_linux-x64_bin.deb\n",
    "sudo apt install ./jdk-17_linux-x64_bin.deb\n"
   ]
  },
  {
   "cell_type": "code",
   "execution_count": null,
   "id": "4b7bda13-5b0f-41db-8865-38236662c326",
   "metadata": {},
   "outputs": [],
   "source": []
  },
  {
   "cell_type": "markdown",
   "id": "2b45ddfe-636e-4998-add8-52d16db7bc1c",
   "metadata": {},
   "source": [
    "### Environment Configuration"
   ]
  },
  {
   "cell_type": "markdown",
   "id": "a29c5e29-e7fe-497f-8f79-0d9de6ff2469",
   "metadata": {},
   "source": [
    "To use `TileStitcher`, we need to set the correct paths to the QuPath library and OpenJDK. For this, we need to add the paths to the environment variables `JAVA_HOME`, `CLASSPATH`, and `LD_LIBRARY_PATH`.\n",
    "\n",
    "The `JAVA_HOME` environment variable should be set to the path where the JDK is installed.\n",
    "The `CLASSPATH` environment variable should include paths to all the QuPath library jar files.\n",
    "In the initialization of TileStitcher, these environment variables are used to start the Java Virtual Machine (JVM) and import the necessary QuPath classes."
   ]
  },
  {
   "cell_type": "code",
   "execution_count": null,
   "id": "6b0d6afb-256a-456b-ac7c-a7951eaf7578",
   "metadata": {},
   "outputs": [],
   "source": []
  },
  {
   "cell_type": "code",
   "execution_count": null,
   "id": "ab9d50e7-896d-4110-84a7-b725f185ee64",
   "metadata": {},
   "outputs": [],
   "source": []
  },
  {
   "cell_type": "markdown",
   "id": "f3be9706-2c25-43e1-b98f-24ac84f101fb",
   "metadata": {},
   "source": [
    "## Best Practices and Considerations for Using the TileStitcher Module\n",
    "\n",
    "### 1. JVM Session Management\n",
    "\n",
    "The TileStitcher module utilizes jpype to manage the JVM sessions, a departure from the python-javabridge used in other parts of the package. This difference can cause conflicts when trying to run modules concurrently within the same Python environment. Hence, it is advisable to avoid running TileStitcher operations in the same notebook where python-javabridge dependent modules are running.\n",
    "\n",
    "### 2. Restarting Kernel to Re-initialize JVM\n",
    "\n",
    "The jpype does not allow the JVM to be restarted within the same Python session once it has been terminated. As a result, to run the TileStitcher module again or to switch back to modules that use python-javabridge, a kernel restart might be necessary.\n",
    "\n",
    "### 3. Segregating Workflows\n",
    "\n",
    "To mitigate potential conflicts, consider segregating workflows based on the JVM management package they depend on. It is recommended to use separate notebooks or scripts for operations involving TileStitcher and for those involving modules that are dependent on python-javabridge.\n",
    "\n"
   ]
  },
  {
   "cell_type": "code",
   "execution_count": null,
   "id": "f7a60a3f-4749-4f7b-9571-912b98017910",
   "metadata": {},
   "outputs": [],
   "source": []
  },
  {
   "cell_type": "markdown",
   "id": "70775f15-c13f-45b3-a71d-a6be5ab28e69",
   "metadata": {},
   "source": [
    "### Initialization\n",
    "\n",
    "Once the environment is set up, we can initialize TileStitcher."
   ]
  },
  {
   "cell_type": "code",
   "execution_count": 1,
   "id": "76ecba97-d4b9-4ee7-856f-3e8ca267dcf5",
   "metadata": {},
   "outputs": [
    {
     "name": "stderr",
     "output_type": "stream",
     "text": [
      "/opt/conda/envs/pathml_standard/lib/python3.8/site-packages/scipy/__init__.py:146: UserWarning: A NumPy version >=1.16.5 and <1.23.0 is required for this version of SciPy (detected version 1.24.4\n",
      "  warnings.warn(f\"A NumPy version >={np_minversion} and <{np_maxversion}\"\n"
     ]
    },
    {
     "name": "stdout",
     "output_type": "stream",
     "text": [
      "Setting Environment Paths\n",
      "Java Home is already set\n",
      "Importing required qupath classes\n",
      "JVM started successfully\n"
     ]
    }
   ],
   "source": [
    "import glob\n",
    "import os\n",
    "from pathml.preprocessing.tilestitcher import TileStitcher\n",
    "\n",
    "# Set the path to the JDK\n",
    "os.environ[\"JAVA_HOME\"] = \"/usr/lib/jvm/jdk-17/\"\n",
    "qupath_jars = glob.glob(os.path.abspath(\"../../tools/QuPath/lib/app/*.jar\"))\n",
    "qupath_jars.append(os.path.abspath('../../tools/QuPath/lib/app/libopenslide-jni.so'))\n",
    "\n",
    "# Create an instance of TileStitcher\n",
    "stitcher = TileStitcher(qupath_jars)\n"
   ]
  },
  {
   "cell_type": "code",
   "execution_count": 2,
   "id": "9a817b38-4d28-4d62-a365-6a2fe584b455",
   "metadata": {},
   "outputs": [],
   "source": [
    "import jpype"
   ]
  },
  {
   "cell_type": "code",
   "execution_count": 3,
   "id": "27d6403a-a249-4a4b-9a66-29f9494fd6f7",
   "metadata": {},
   "outputs": [
    {
     "data": {
      "text/plain": [
       "True"
      ]
     },
     "execution_count": 3,
     "metadata": {},
     "output_type": "execute_result"
    }
   ],
   "source": [
    "jpype.isJVMStarted()"
   ]
  },
  {
   "cell_type": "code",
   "execution_count": null,
   "id": "56db0914-f040-472d-b757-19e796aa302e",
   "metadata": {},
   "outputs": [],
   "source": []
  },
  {
   "cell_type": "markdown",
   "id": "3195f589-c8cc-4c73-8d00-2a1abcc62ea4",
   "metadata": {},
   "source": [
    "### Image Stitching\n"
   ]
  },
  {
   "cell_type": "markdown",
   "id": "74246dc8-2bd3-4a31-ad63-d45a49eae02e",
   "metadata": {},
   "source": [
    "Now that `TileStitcher` is initialized, we can use it to stitch together tiled images. The run_image_stitching method takes as input a list of TIFF files or a directory containing TIFF files and an output file path."
   ]
  },
  {
   "cell_type": "code",
   "execution_count": 4,
   "id": "0838c482-ce15-4f5c-8d05-24c68b9d22be",
   "metadata": {},
   "outputs": [],
   "source": [
    "input_files = glob.glob(\"path/to/tiles/*.tif\")\n",
    "output_file = \"path/to/output.ome.tif\"\n",
    "stitcher.run_image_stitching(input_files, output_file)\n"
   ]
  },
  {
   "cell_type": "markdown",
   "id": "322f521b-f793-4c22-a519-c61cdb554941",
   "metadata": {},
   "source": [
    "This will stitch the tiles together and write the stitched image to the output file in OME-TIFF format."
   ]
  },
  {
   "cell_type": "code",
   "execution_count": null,
   "id": "3ddb4e74-9f65-4276-bab5-a1345850945f",
   "metadata": {},
   "outputs": [],
   "source": [
    "# 03:12:56.655 to 04:02:09.477:   1085136,836199,1005036ms to write plane 1,2,3\n",
    "# Plane 1: 1085136ms is approximately 18 minutes and 5 seconds.\n",
    "# Plane 2: 836199ms is approximately 13 minutes and 56 seconds.\n",
    "# Plane 3: 1005036ms is approximately 16 minutes and 45 seconds."
   ]
  },
  {
   "cell_type": "code",
   "execution_count": null,
   "id": "41e3bf35-b771-4ce6-9e3e-6a74d514213b",
   "metadata": {},
   "outputs": [],
   "source": []
  },
  {
   "cell_type": "code",
   "execution_count": 4,
   "id": "fdfe5fe7-851f-4d0d-8f49-aa37b4b06958",
   "metadata": {},
   "outputs": [],
   "source": [
    "from pathml.preprocessing.tilestitcher import TileStitcher\n",
    "import glob\n",
    "import os\n",
    "# import jpype"
   ]
  },
  {
   "cell_type": "code",
   "execution_count": 5,
   "id": "8d9a4a52-00d9-4b4f-9db0-8bb80fd64ab8",
   "metadata": {},
   "outputs": [],
   "source": [
    "qupath_jars = glob.glob(os.path.abspath(\"../../tools/QuPath/lib/app/*.jar\"))\n",
    "qupath_jars.append(os.path.abspath('../../tools/QuPath/lib/app/libopenslide-jni.so'))"
   ]
  },
  {
   "cell_type": "code",
   "execution_count": 6,
   "id": "354d1e65-194e-4aa0-8d0f-d40815e271e6",
   "metadata": {},
   "outputs": [
    {
     "name": "stdout",
     "output_type": "stream",
     "text": [
      "Java path not specified , Setting Java path to /usr/lib/jvm/jdk-17/\n",
      "JVM was already started\n"
     ]
    }
   ],
   "source": [
    "tilestitch = TileStitcher(qupath_jars)"
   ]
  },
  {
   "cell_type": "code",
   "execution_count": null,
   "id": "3a627854-7111-41d6-95e9-efb5b6c1d63c",
   "metadata": {},
   "outputs": [],
   "source": [
    "infile_path= '../../bucket_data/unstitched/MISI3542i_W21-04143_bi016966_M394_OVX_LM/Unmixed Images/'\n",
    "outfile_path = '../../bucket_data/my_stitched/Pathml_gcp_benchmark_tsdata_3_d18.ome.tif'"
   ]
  },
  {
   "cell_type": "code",
   "execution_count": 8,
   "id": "f9e62089-4f7c-4c43-a5d3-70b8b633b207",
   "metadata": {
    "tags": []
   },
   "outputs": [
    {
     "name": "stdout",
     "output_type": "stream",
     "text": [
      "19:43:47.427 [main] [ERROR] q.l.i.s.o.OpenslideServerBuilder - Could not load OpenSlide native libraries\n",
      "java.lang.UnsatisfiedLinkError: no openslide-jni in java.library.path: /usr/local/cuda/lib64:/usr/local/nccl2/lib:/usr/local/cuda/extras/CUPTI/lib64:/usr/java/packages/lib:/usr/lib64:/lib64:/lib:/usr/lib\n",
      "\tat java.base/java.lang.ClassLoader.loadLibrary(ClassLoader.java:2429)\n",
      "\tat java.base/java.lang.Runtime.loadLibrary0(Runtime.java:818)\n",
      "\tat java.base/java.lang.System.loadLibrary(System.java:1989)\n",
      "\tat org.openslide.OpenSlideJNI.<clinit>(OpenSlideJNI.java:55)\n",
      "\tat org.openslide.OpenSlide.<clinit>(OpenSlide.java:53)\n",
      "\tat qupath.lib.images.servers.openslide.OpenslideServerBuilder.<clinit>(OpenslideServerBuilder.java:88)\n",
      "\tat java.base/jdk.internal.reflect.NativeConstructorAccessorImpl.newInstance0(Native Method)\n",
      "\tat java.base/jdk.internal.reflect.NativeConstructorAccessorImpl.newInstance(NativeConstructorAccessorImpl.java:77)\n",
      "\tat java.base/jdk.internal.reflect.DelegatingConstructorAccessorImpl.newInstance(DelegatingConstructorAccessorImpl.java:45)\n",
      "\tat java.base/java.lang.reflect.Constructor.newInstanceWithCaller(Constructor.java:499)\n",
      "\tat java.base/java.lang.reflect.Constructor.newInstance(Constructor.java:480)\n",
      "\tat java.base/java.util.ServiceLoader$ProviderImpl.newInstance(ServiceLoader.java:789)\n",
      "\tat java.base/java.util.ServiceLoader$ProviderImpl.get(ServiceLoader.java:729)\n",
      "\tat java.base/java.util.ServiceLoader$3.next(ServiceLoader.java:1403)\n",
      "\tat qupath.lib.images.servers.ImageServerProvider.getServerBuilders(ImageServerProvider.java:192)\n",
      "\tat qupath.lib.images.servers.ImageServerProvider.getPreferredUriImageSupport(ImageServerProvider.java:224)\n",
      "19:43:47.430 [main] [INFO ] q.l.i.s.o.OpenslideServerBuilder - If you want to use OpenSlide, you'll need to get the native libraries (either building from source or with a packager manager)\n",
      "and add them to your system PATH, including openslide-jni.\n",
      "19:43:48.047 [main] [INFO ] q.l.i.s.b.BioFormatsServerOptions - Setting max Bio-Formats readers to 8\n",
      "19:43:48.363 [main] [WARN ] q.l.i.s.b.BioFormatsImageServer$ReaderPool - Temp memoization directory created at /tmp/qupath-memo-150170393395139079\n",
      "19:43:48.363 [main] [WARN ] q.l.i.s.b.BioFormatsImageServer$ReaderPool - If you want to avoid this warning, either specify a memoization directory in the preferences or turn off memoization by setting the time to < 0\n",
      "19:44:15.387 [main] [INFO ] q.l.i.writers.ome.OMEPyramidWriter - Setting to big tiff (estimated 12175.84 MB\n",
      "19:44:15.391 [main] [INFO ] q.l.i.writers.ome.OMEPyramidWriter - Writing Sparse image (88 regions) to /home/jupyter/Projects/tile_stitching/pathml/examples/../../bucket_data/my_stitched/Pathml_gcp_benchmark_tsdata_3_d18.ome.tif (series 1/1)\n",
      "19:44:15.392 [main] [INFO ] q.l.i.writers.ome.OMEPyramidWriter - Setting series 0 compression to zlib\n",
      "19:44:15.393 [main] [INFO ] q.l.i.writers.ome.OMEPyramidWriter - Writing resolution 1 of 1 (downsample=1.0, 1820 tiles)\n",
      "19:44:15.399 [main] [INFO ] q.l.i.writers.ome.OMEPyramidWriter - Writing plane 1/1\n",
      "19:45:38.635 [ForkJoinPool-1-worker-3] [INFO ] q.l.i.writers.ome.OMEPyramidWriter - Written 5% tiles\n",
      "19:47:29.441 [ForkJoinPool-1-worker-4] [INFO ] q.l.i.writers.ome.OMEPyramidWriter - Written 10% tiles\n",
      "19:49:30.785 [ForkJoinPool-1-worker-2] [INFO ] q.l.i.writers.ome.OMEPyramidWriter - Written 15% tiles\n",
      "19:51:20.009 [ForkJoinPool-1-worker-2] [INFO ] q.l.i.writers.ome.OMEPyramidWriter - Written 20% tiles\n",
      "19:52:42.843 [ForkJoinPool-1-worker-2] [INFO ] q.l.i.writers.ome.OMEPyramidWriter - Written 25% tiles\n",
      "19:53:38.655 [ForkJoinPool-1-worker-2] [INFO ] q.l.i.writers.ome.OMEPyramidWriter - Written 30% tiles\n",
      "19:53:57.722 [ForkJoinPool-1-worker-4] [INFO ] q.l.i.writers.ome.OMEPyramidWriter - Written 35% tiles\n",
      "19:54:24.984 [ForkJoinPool-1-worker-3] [INFO ] q.l.i.writers.ome.OMEPyramidWriter - Written 40% tiles\n",
      "19:54:39.625 [ForkJoinPool-1-worker-2] [INFO ] q.l.i.writers.ome.OMEPyramidWriter - Written 45% tiles\n",
      "19:54:59.314 [ForkJoinPool-1-worker-3] [INFO ] q.l.i.writers.ome.OMEPyramidWriter - Written 50% tiles\n",
      "19:55:23.177 [ForkJoinPool-1-worker-2] [INFO ] q.l.i.writers.ome.OMEPyramidWriter - Written 55% tiles\n",
      "19:55:43.155 [ForkJoinPool-1-worker-2] [INFO ] q.l.i.writers.ome.OMEPyramidWriter - Written 60% tiles\n",
      "19:55:57.090 [ForkJoinPool-1-worker-4] [INFO ] q.l.i.writers.ome.OMEPyramidWriter - Written 65% tiles\n",
      "19:56:39.231 [ForkJoinPool-1-worker-2] [INFO ] q.l.i.writers.ome.OMEPyramidWriter - Written 70% tiles\n",
      "19:57:35.465 [ForkJoinPool-1-worker-1] [INFO ] q.l.i.writers.ome.OMEPyramidWriter - Written 75% tiles\n",
      "19:58:41.140 [ForkJoinPool-1-worker-3] [INFO ] q.l.i.writers.ome.OMEPyramidWriter - Written 80% tiles\n",
      "19:59:39.774 [ForkJoinPool-1-worker-4] [INFO ] q.l.i.writers.ome.OMEPyramidWriter - Written 85% tiles\n",
      "20:00:44.310 [ForkJoinPool-1-worker-1] [INFO ] q.l.i.writers.ome.OMEPyramidWriter - Written 90% tiles\n",
      "20:01:39.681 [ForkJoinPool-1-worker-3] [INFO ] q.l.i.writers.ome.OMEPyramidWriter - Written 95% tiles\n",
      "20:02:11.630 [ForkJoinPool-1-worker-1] [INFO ] q.l.i.writers.ome.OMEPyramidWriter - Written 100% tiles\n",
      "20:02:11.650 [main] [INFO ] q.l.i.writers.ome.OMEPyramidWriter - Plane written in 1076258 ms\n",
      "Image stitching completed. Output file: ../../bucket_data/my_stitched/Pathml_gcp_benchmark_tsdata_3_d18.ome.tif\n"
     ]
    }
   ],
   "source": [
    "import time\n",
    "\n",
    "start= time.time()\n",
    "# Run the image stitching process\n",
    "tilestitch.run_image_stitching(infile_path, outfile_path,[1])\n",
    "end = time.time()"
   ]
  },
  {
   "cell_type": "code",
   "execution_count": null,
   "id": "f5c03cfa-25b7-4633-bebb-8033e180b818",
   "metadata": {},
   "outputs": [],
   "source": [
    "# 17:36:56.894 to 18:01:51.079 previously"
   ]
  },
  {
   "cell_type": "code",
   "execution_count": 9,
   "id": "1ef8e657-b6b0-4e93-85ad-5a1eeacb86d0",
   "metadata": {},
   "outputs": [
    {
     "data": {
      "text/plain": [
       "1104.2805473804474"
      ]
     },
     "execution_count": 9,
     "metadata": {},
     "output_type": "execute_result"
    }
   ],
   "source": [
    "end-start"
   ]
  },
  {
   "cell_type": "code",
   "execution_count": 10,
   "id": "c7ce482b-561e-44d3-be42-e01af16955ee",
   "metadata": {},
   "outputs": [
    {
     "data": {
      "text/plain": [
       "18.4"
      ]
     },
     "execution_count": 10,
     "metadata": {},
     "output_type": "execute_result"
    }
   ],
   "source": [
    "1104/60"
   ]
  },
  {
   "cell_type": "code",
   "execution_count": null,
   "id": "069a458f-5d8d-451c-b311-dada95f8998a",
   "metadata": {},
   "outputs": [],
   "source": []
  },
  {
   "cell_type": "code",
   "execution_count": 7,
   "id": "e5845de9-840a-405f-b528-bade15b4bd6d",
   "metadata": {},
   "outputs": [
    {
     "data": {
      "text/plain": [
       "1432.6100232601166"
      ]
     },
     "execution_count": 7,
     "metadata": {},
     "output_type": "execute_result"
    }
   ],
   "source": [
    "end-start"
   ]
  },
  {
   "cell_type": "code",
   "execution_count": 7,
   "id": "b2c8eef2-3d93-4bc9-9326-6b9c8cc1d5ef",
   "metadata": {},
   "outputs": [
    {
     "data": {
      "text/plain": [
       "1693321509.6048038"
      ]
     },
     "execution_count": 7,
     "metadata": {},
     "output_type": "execute_result"
    }
   ],
   "source": [
    "import time \n",
    "time.time()"
   ]
  },
  {
   "cell_type": "code",
   "execution_count": 6,
   "id": "64d82803-fc9a-4360-8560-3dee6fbe79fe",
   "metadata": {},
   "outputs": [
    {
     "data": {
      "text/plain": [
       "1815.4804677963257"
      ]
     },
     "execution_count": 6,
     "metadata": {},
     "output_type": "execute_result"
    }
   ],
   "source": [
    "end-start"
   ]
  },
  {
   "cell_type": "code",
   "execution_count": null,
   "id": "a8fc97df-25ec-49b5-a525-c932f8c2b181",
   "metadata": {},
   "outputs": [],
   "source": []
  },
  {
   "cell_type": "code",
   "execution_count": null,
   "id": "4a6276e0-9b8a-41bf-9885-30c755f39fcc",
   "metadata": {},
   "outputs": [],
   "source": []
  },
  {
   "cell_type": "code",
   "execution_count": null,
   "id": "753691c3-bc10-465e-89a0-c711d9b2e0a1",
   "metadata": {},
   "outputs": [],
   "source": []
  },
  {
   "cell_type": "markdown",
   "id": "0138ef01-2bad-46a9-b24b-7c9984ca5457",
   "metadata": {},
   "source": [
    "## Benchmarking on Spectral Unmixing data"
   ]
  },
  {
   "cell_type": "code",
   "execution_count": null,
   "id": "df1ea7c0-c4b2-4029-a298-8cc136967755",
   "metadata": {},
   "outputs": [],
   "source": []
  },
  {
   "cell_type": "code",
   "execution_count": 5,
   "id": "ed683fe8-a9c4-434c-aabb-25c86fc8a7a7",
   "metadata": {},
   "outputs": [],
   "source": [
    "infile_path= '../../../spectral_unmixing/data/unmixed_data/Unmixed_Images_from_InForm/'\n",
    "outfile_path = '../../bucket_data/my_stitched/Pathml_gcp_benchmark_sudata_1_d18.ome.tif'"
   ]
  },
  {
   "cell_type": "code",
   "execution_count": 6,
   "id": "8ca2897f-de75-4e7d-a51d-d871b65c1a65",
   "metadata": {},
   "outputs": [
    {
     "name": "stdout",
     "output_type": "stream",
     "text": [
      "18:15:34.250 [main] [ERROR] q.l.i.s.o.OpenslideServerBuilder - Could not load OpenSlide native libraries\n",
      "java.lang.UnsatisfiedLinkError: no openslide-jni in java.library.path: /usr/local/cuda/lib64:/usr/local/nccl2/lib:/usr/local/cuda/extras/CUPTI/lib64:/usr/java/packages/lib:/usr/lib64:/lib64:/lib:/usr/lib\n",
      "\tat java.base/java.lang.ClassLoader.loadLibrary(ClassLoader.java:2429)\n",
      "\tat java.base/java.lang.Runtime.loadLibrary0(Runtime.java:818)\n",
      "\tat java.base/java.lang.System.loadLibrary(System.java:1989)\n",
      "\tat org.openslide.OpenSlideJNI.<clinit>(OpenSlideJNI.java:55)\n",
      "\tat org.openslide.OpenSlide.<clinit>(OpenSlide.java:53)\n",
      "\tat qupath.lib.images.servers.openslide.OpenslideServerBuilder.<clinit>(OpenslideServerBuilder.java:88)\n",
      "\tat java.base/jdk.internal.reflect.NativeConstructorAccessorImpl.newInstance0(Native Method)\n",
      "\tat java.base/jdk.internal.reflect.NativeConstructorAccessorImpl.newInstance(NativeConstructorAccessorImpl.java:77)\n",
      "\tat java.base/jdk.internal.reflect.DelegatingConstructorAccessorImpl.newInstance(DelegatingConstructorAccessorImpl.java:45)\n",
      "\tat java.base/java.lang.reflect.Constructor.newInstanceWithCaller(Constructor.java:499)\n",
      "\tat java.base/java.lang.reflect.Constructor.newInstance(Constructor.java:480)\n",
      "\tat java.base/java.util.ServiceLoader$ProviderImpl.newInstance(ServiceLoader.java:789)\n",
      "\tat java.base/java.util.ServiceLoader$ProviderImpl.get(ServiceLoader.java:729)\n",
      "\tat java.base/java.util.ServiceLoader$3.next(ServiceLoader.java:1403)\n",
      "\tat qupath.lib.images.servers.ImageServerProvider.getServerBuilders(ImageServerProvider.java:192)\n",
      "\tat qupath.lib.images.servers.ImageServerProvider.getPreferredUriImageSupport(ImageServerProvider.java:224)\n",
      "18:15:34.252 [main] [INFO ] q.l.i.s.o.OpenslideServerBuilder - If you want to use OpenSlide, you'll need to get the native libraries (either building from source or with a packager manager)\n",
      "and add them to your system PATH, including openslide-jni.\n",
      "18:15:34.793 [main] [INFO ] q.l.i.s.b.BioFormatsServerOptions - Setting max Bio-Formats readers to 8\n",
      "18:15:35.071 [main] [WARN ] q.l.i.s.b.BioFormatsImageServer$ReaderPool - Temp memoization directory created at /tmp/qupath-memo-1591374182889336111\n",
      "18:15:35.072 [main] [WARN ] q.l.i.s.b.BioFormatsImageServer$ReaderPool - If you want to avoid this warning, either specify a memoization directory in the preferences or turn off memoization by setting the time to < 0\n",
      "18:16:03.718 [main] [INFO ] q.l.i.writers.ome.OMEPyramidWriter - Setting to big tiff (estimated 5983.35 MB\n",
      "18:16:03.722 [main] [INFO ] q.l.i.writers.ome.OMEPyramidWriter - Writing Sparse image (66 regions) to /home/jupyter/Projects/tile_stitching/pathml/examples/../../bucket_data/my_stitched/Pathml_gcp_benchmark_sudata_1_d18.ome.tif (series 1/1)\n",
      "18:16:03.722 [main] [INFO ] q.l.i.writers.ome.OMEPyramidWriter - Setting series 0 compression to zlib\n",
      "18:16:03.723 [main] [INFO ] q.l.i.writers.ome.OMEPyramidWriter - Writing resolution 1 of 2 (downsample=1.0, 870 tiles)\n",
      "18:16:03.726 [main] [INFO ] q.l.i.writers.ome.OMEPyramidWriter - Writing plane 1/1\n",
      "18:16:33.990 [ForkJoinPool-1-worker-1] [INFO ] q.l.i.writers.ome.OMEPyramidWriter - Written 10% tiles\n",
      "18:17:11.630 [ForkJoinPool-1-worker-2] [INFO ] q.l.i.writers.ome.OMEPyramidWriter - Written 20% tiles\n",
      "18:18:22.136 [ForkJoinPool-1-worker-4] [INFO ] q.l.i.writers.ome.OMEPyramidWriter - Written 30% tiles\n",
      "18:19:45.063 [ForkJoinPool-1-worker-2] [INFO ] q.l.i.writers.ome.OMEPyramidWriter - Written 40% tiles\n",
      "18:21:31.994 [ForkJoinPool-1-worker-4] [INFO ] q.l.i.writers.ome.OMEPyramidWriter - Written 50% tiles\n",
      "18:23:16.112 [ForkJoinPool-1-worker-2] [INFO ] q.l.i.writers.ome.OMEPyramidWriter - Written 60% tiles\n",
      "18:25:00.091 [ForkJoinPool-1-worker-3] [INFO ] q.l.i.writers.ome.OMEPyramidWriter - Written 70% tiles\n",
      "18:26:48.073 [ForkJoinPool-1-worker-1] [INFO ] q.l.i.writers.ome.OMEPyramidWriter - Written 80% tiles\n",
      "18:28:28.915 [ForkJoinPool-1-worker-4] [INFO ] q.l.i.writers.ome.OMEPyramidWriter - Written 90% tiles\n",
      "18:29:03.897 [ForkJoinPool-1-worker-1] [INFO ] q.l.i.writers.ome.OMEPyramidWriter - Written 100% tiles\n",
      "18:29:03.902 [main] [INFO ] q.l.i.writers.ome.OMEPyramidWriter - Plane written in 780180 ms\n",
      "18:29:03.902 [main] [INFO ] q.l.i.writers.ome.OMEPyramidWriter - Writing resolution 2 of 2 (downsample=8.0, 16 tiles)\n",
      "18:29:03.903 [main] [INFO ] q.l.i.writers.ome.OMEPyramidWriter - Writing plane 1/1\n",
      "18:32:23.929 [main] [INFO ] q.l.i.writers.ome.OMEPyramidWriter - Plane written in 200027 ms\n",
      "Image stitching completed. Output file: ../../bucket_data/my_stitched/Pathml_gcp_benchmark_sudata_1_d18.ome.tif\n"
     ]
    }
   ],
   "source": [
    "import time\n",
    "\n",
    "start= time.time()\n",
    "# Run the image stitching process\n",
    "tilestitch.run_image_stitching(infile_path, outfile_path,[1,8])\n",
    "end = time.time()"
   ]
  },
  {
   "cell_type": "code",
   "execution_count": 8,
   "id": "a4090fc4-5de2-47f2-83ff-e111d1274800",
   "metadata": {},
   "outputs": [
    {
     "data": {
      "text/plain": [
       "1009.7496027946472"
      ]
     },
     "execution_count": 8,
     "metadata": {},
     "output_type": "execute_result"
    }
   ],
   "source": [
    "end-start"
   ]
  },
  {
   "cell_type": "code",
   "execution_count": null,
   "id": "0a242955-7ebf-459d-8f27-a12ac5ae6332",
   "metadata": {},
   "outputs": [],
   "source": []
  },
  {
   "cell_type": "code",
   "execution_count": null,
   "id": "15d6516b-b34f-4198-82e4-8f51a54098b7",
   "metadata": {},
   "outputs": [],
   "source": []
  },
  {
   "cell_type": "code",
   "execution_count": 4,
   "id": "4ef0a95e-3d76-492d-827a-cad6ff8120e4",
   "metadata": {},
   "outputs": [],
   "source": [
    "infile_path= '../../../spectral_unmixing/data/unmixed_data/Unmixed_Images_from_InForm/'\n",
    "outfile_path = '../../bucket_data/my_stitched/Pathml_gcp_benchmark_sudata_1_d1_only.tif'"
   ]
  },
  {
   "cell_type": "code",
   "execution_count": 5,
   "id": "d81c317a-a7b9-4fdf-9eb9-2a5aed5e2c2b",
   "metadata": {
    "tags": []
   },
   "outputs": [
    {
     "name": "stdout",
     "output_type": "stream",
     "text": [
      "18:37:04.114 [main] [ERROR] q.l.i.s.o.OpenslideServerBuilder - Could not load OpenSlide native libraries\n",
      "java.lang.UnsatisfiedLinkError: no openslide-jni in java.library.path: /usr/local/cuda/lib64:/usr/local/nccl2/lib:/usr/local/cuda/extras/CUPTI/lib64:/usr/java/packages/lib:/usr/lib64:/lib64:/lib:/usr/lib\n",
      "\tat java.base/java.lang.ClassLoader.loadLibrary(ClassLoader.java:2429)\n",
      "\tat java.base/java.lang.Runtime.loadLibrary0(Runtime.java:818)\n",
      "\tat java.base/java.lang.System.loadLibrary(System.java:1989)\n",
      "\tat org.openslide.OpenSlideJNI.<clinit>(OpenSlideJNI.java:55)\n",
      "\tat org.openslide.OpenSlide.<clinit>(OpenSlide.java:53)\n",
      "\tat qupath.lib.images.servers.openslide.OpenslideServerBuilder.<clinit>(OpenslideServerBuilder.java:88)\n",
      "\tat java.base/jdk.internal.reflect.NativeConstructorAccessorImpl.newInstance0(Native Method)\n",
      "\tat java.base/jdk.internal.reflect.NativeConstructorAccessorImpl.newInstance(NativeConstructorAccessorImpl.java:77)\n",
      "\tat java.base/jdk.internal.reflect.DelegatingConstructorAccessorImpl.newInstance(DelegatingConstructorAccessorImpl.java:45)\n",
      "\tat java.base/java.lang.reflect.Constructor.newInstanceWithCaller(Constructor.java:499)\n",
      "\tat java.base/java.lang.reflect.Constructor.newInstance(Constructor.java:480)\n",
      "\tat java.base/java.util.ServiceLoader$ProviderImpl.newInstance(ServiceLoader.java:789)\n",
      "\tat java.base/java.util.ServiceLoader$ProviderImpl.get(ServiceLoader.java:729)\n",
      "\tat java.base/java.util.ServiceLoader$3.next(ServiceLoader.java:1403)\n",
      "\tat qupath.lib.images.servers.ImageServerProvider.getServerBuilders(ImageServerProvider.java:192)\n",
      "\tat qupath.lib.images.servers.ImageServerProvider.getPreferredUriImageSupport(ImageServerProvider.java:224)\n",
      "18:37:04.117 [main] [INFO ] q.l.i.s.o.OpenslideServerBuilder - If you want to use OpenSlide, you'll need to get the native libraries (either building from source or with a packager manager)\n",
      "and add them to your system PATH, including openslide-jni.\n",
      "18:37:05.317 [main] [INFO ] q.l.i.s.b.BioFormatsServerOptions - Setting max Bio-Formats readers to 8\n",
      "18:37:05.875 [main] [WARN ] q.l.i.s.b.BioFormatsImageServer$ReaderPool - Temp memoization directory created at /tmp/qupath-memo-2492218072804996978\n",
      "18:37:05.875 [main] [WARN ] q.l.i.s.b.BioFormatsImageServer$ReaderPool - If you want to avoid this warning, either specify a memoization directory in the preferences or turn off memoization by setting the time to < 0\n",
      "18:37:06.605 [main] [WARN ] loci.formats.Memoizer - failed to save memo file: /tmp/qupath-memo-2492218072804996978/home/jupyter/Projects/tile_stitching/pathml/examples/../../../spectral_unmixing/data/unmixed_data/Unmixed_Images_from_InForm/.MISI3542i_M3056_3_Panel1_Scan1_[12342,43651]_component_data.tif.bfmemo\n",
      "java.io.IOException: No such file or directory\n",
      "\tat java.base/java.io.UnixFileSystem.createFileExclusively(Native Method)\n",
      "\tat java.base/java.io.File.createTempFile(File.java:2170)\n",
      "\tat loci.formats.Memoizer.saveMemo(Memoizer.java:960)\n",
      "\tat loci.formats.Memoizer.setId(Memoizer.java:697)\n",
      "\tat qupath.lib.images.servers.bioformats.BioFormatsImageServer$ReaderPool.createReader(BioFormatsImageServer.java:1128)\n",
      "\tat qupath.lib.images.servers.bioformats.BioFormatsImageServer$ReaderPool.<init>(BioFormatsImageServer.java:996)\n",
      "\tat qupath.lib.images.servers.bioformats.BioFormatsImageServer.<init>(BioFormatsImageServer.java:330)\n",
      "\tat qupath.lib.images.servers.bioformats.BioFormatsImageServer.checkSupport(BioFormatsImageServer.java:270)\n",
      "\tat qupath.lib.images.servers.bioformats.BioFormatsServerBuilder.checkImageSupport(BioFormatsServerBuilder.java:67)\n",
      "\tat qupath.lib.images.servers.ImageServerProvider.getServerBuilders(ImageServerProvider.java:199)\n",
      "\tat qupath.lib.images.servers.ImageServerProvider.getPreferredUriImageSupport(ImageServerProvider.java:224)\n",
      "18:37:27.106 [main] [INFO ] q.l.i.writers.ome.OMEPyramidWriter - Setting to big tiff (estimated 5891.24 MB\n",
      "18:37:27.108 [main] [INFO ] q.l.i.writers.ome.OMEPyramidWriter - Writing Sparse image (66 regions) to /home/jupyter/Projects/tile_stitching/pathml/examples/../../bucket_data/my_stitched/Pathml_gcp_benchmark_sudata_1_d1_only.tif.ome.tif (series 1/1)\n",
      "18:37:27.108 [main] [INFO ] q.l.i.writers.ome.OMEPyramidWriter - Setting series 0 compression to zlib\n",
      "18:37:27.109 [main] [INFO ] q.l.i.writers.ome.OMEPyramidWriter - Writing resolution 1 of 1 (downsample=1.0, 870 tiles)\n",
      "18:37:27.111 [main] [INFO ] q.l.i.writers.ome.OMEPyramidWriter - Writing plane 1/1\n",
      "18:37:48.126 [ForkJoinPool-1-worker-1] [INFO ] q.l.i.writers.ome.OMEPyramidWriter - Written 10% tiles\n",
      "18:38:31.667 [ForkJoinPool-1-worker-3] [INFO ] q.l.i.writers.ome.OMEPyramidWriter - Written 20% tiles\n",
      "18:39:35.182 [ForkJoinPool-1-worker-3] [INFO ] q.l.i.writers.ome.OMEPyramidWriter - Written 30% tiles\n",
      "18:40:55.761 [ForkJoinPool-1-worker-3] [INFO ] q.l.i.writers.ome.OMEPyramidWriter - Written 40% tiles\n",
      "18:42:41.855 [ForkJoinPool-1-worker-4] [INFO ] q.l.i.writers.ome.OMEPyramidWriter - Written 50% tiles\n",
      "18:44:34.139 [ForkJoinPool-1-worker-3] [INFO ] q.l.i.writers.ome.OMEPyramidWriter - Written 60% tiles\n",
      "18:46:21.017 [ForkJoinPool-1-worker-4] [INFO ] q.l.i.writers.ome.OMEPyramidWriter - Written 70% tiles\n",
      "18:48:02.491 [ForkJoinPool-1-worker-4] [INFO ] q.l.i.writers.ome.OMEPyramidWriter - Written 80% tiles\n",
      "18:49:46.660 [ForkJoinPool-1-worker-2] [INFO ] q.l.i.writers.ome.OMEPyramidWriter - Written 90% tiles\n",
      "18:50:27.805 [ForkJoinPool-1-worker-1] [INFO ] q.l.i.writers.ome.OMEPyramidWriter - Written 100% tiles\n",
      "18:50:27.807 [main] [INFO ] q.l.i.writers.ome.OMEPyramidWriter - Plane written in 780698 ms\n",
      "Image stitching completed. Output file: ../../bucket_data/my_stitched/Pathml_gcp_benchmark_sudata_1_d1_only.tif.ome.tif\n"
     ]
    }
   ],
   "source": [
    "import time\n",
    "\n",
    "start= time.time()\n",
    "# Run the image stitching process\n",
    "stitcher.run_image_stitching(infile_path, outfile_path,[1])\n",
    "end = time.time()"
   ]
  },
  {
   "cell_type": "code",
   "execution_count": null,
   "id": "1e92cb59-0fd2-42b4-bbc8-1fb66e05f6b7",
   "metadata": {},
   "outputs": [],
   "source": []
  }
 ],
 "metadata": {
  "environment": {
   "kernel": "pathml_standard",
   "name": "pytorch-gpu.1-13.m103",
   "type": "gcloud",
   "uri": "gcr.io/deeplearning-platform-release/pytorch-gpu.1-13:m103"
  },
  "kernelspec": {
   "display_name": "pathml_standard",
   "language": "python",
   "name": "pathml_standard"
  },
  "language_info": {
   "codemirror_mode": {
    "name": "ipython",
    "version": 3
   },
   "file_extension": ".py",
   "mimetype": "text/x-python",
   "name": "python",
   "nbconvert_exporter": "python",
   "pygments_lexer": "ipython3",
   "version": "3.8.0"
  }
 },
 "nbformat": 4,
 "nbformat_minor": 5
}
