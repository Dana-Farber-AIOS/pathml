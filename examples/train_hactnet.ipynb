{
 "cells": [
  {
   "cell_type": "markdown",
   "id": "655f37d3-1591-4a7c-8f54-f7fc8148dcfd",
   "metadata": {},
   "source": [
    "# Training a HACTNet model"
   ]
  },
  {
   "cell_type": "markdown",
   "id": "88157b8c-0368-42a4-af82-800b7bab74d7",
   "metadata": {},
   "source": [
    "In this notebook, we will train the HACTNet graph neural network (GNN) model on input cell and tissue graphs using the new `pathml.graph` API.\n",
    "\n",
    "To run the notebook and train the model, you will have to first download the BRACS ROI set from the [BRACS dataset](https://www.bracs.icar.cnr.it/download/). To do so, you will have to sign up and create an account. Next, you will have to construct the cell and tissue graphs using the tutorial in `examples/construct_graphs.ipynb`. Use the output directory specified there as the input to the functions in this tutorial. "
   ]
  },
  {
   "cell_type": "code",
   "execution_count": 25,
   "id": "f682f702-b590-4e3d-8c97-a362411acade",
   "metadata": {},
   "outputs": [],
   "source": [
    "import os\n",
    "from glob import glob\n",
    "import argparse\n",
    "from PIL import Image\n",
    "import numpy as np\n",
    "from tqdm import tqdm\n",
    "import torch \n",
    "import h5py\n",
    "import warnings\n",
    "import math\n",
    "from skimage.measure import regionprops, label\n",
    "import networkx as nx\n",
    "import traceback\n",
    "from glob import glob\n",
    "import torch\n",
    "import torch.nn as nn\n",
    "from torch_geometric.data import Batch\n",
    "from torch_geometric.data import Data\n",
    "from torch.utils.data import Dataset\n",
    "from torch_geometric.loader import DataLoader\n",
    "from torch.optim.lr_scheduler import StepLR\n",
    "from sklearn.metrics import f1_score\n",
    "\n",
    "from pathml.datasets import EntityDataset\n",
    "from pathml.ml.utils import get_degree_histogram, get_class_weights\n",
    "from pathml.ml import HACTNet"
   ]
  },
  {
   "cell_type": "markdown",
   "id": "6fb4ee6f-7b17-424d-9cdd-710e36c7341c",
   "metadata": {},
   "source": [
    "## Model Training"
   ]
  },
  {
   "cell_type": "markdown",
   "id": "10601c10-d069-481d-b502-f98f76e18e3c",
   "metadata": {},
   "source": [
    "Here we define the main training loop for loading the constructed graphs, initializing and training the model. "
   ]
  },
  {
   "cell_type": "code",
   "execution_count": 26,
   "id": "00cb474e-0441-4ff0-a495-709d3df3759d",
   "metadata": {},
   "outputs": [],
   "source": [
    "def train_hactnet(train_dataset, val_dataset, test_dataset, load_histogram=True, histogram_dir=None, calc_class_weights=True):\n",
    "\n",
    "    # Print the lengths of each dataset split\n",
    "    print(f\"Length of training dataset: {len(train_dataset)}\")\n",
    "    print(f\"Length of validation dataset: {len(val_dataset)}\")\n",
    "    print(f\"Length of test dataset: {len(test_dataset)}\")\n",
    "\n",
    "    # Define the torch_geometric.DataLoader object for each dataset split with a batch size of 4\n",
    "    train_batch = DataLoader(train_dataset, batch_size=4, shuffle=False, follow_batch =['x_cell', 'x_tissue'], drop_last=True)\n",
    "    val_batch = DataLoader(val_dataset, batch_size=4, shuffle=True, follow_batch =['x_cell', 'x_tissue'], drop_last=True)\n",
    "    test_batch = DataLoader(test_dataset, batch_size=4, shuffle=True, follow_batch =['x_cell', 'x_tissue'], drop_last=True)\n",
    "\n",
    "    # The GNN layer we use in this model, PNAConv, requires the computation of a node degree histogram of the \n",
    "    # train dataset. We only need to compute it once. If it is precomputed already, set the load_histogram=True.\n",
    "    # Else, the degree histogram is calculated. \n",
    "    if load_histogram:\n",
    "        histogram_dir = \"./\"\n",
    "        cell_deg = torch.load(os.path.join(histogram_dir, 'cell_degree_norm.pt'))\n",
    "        tissue_deg = torch.load(os.path.join(histogram_dir, 'tissue_degree_norm.pt'))\n",
    "    else:\n",
    "        train_batch_hist = DataLoader(train_dataset, batch_size=20, shuffle=True, follow_batch =['x_cell', 'x_tissue'])\n",
    "        print('Calculating degree histogram for cell graph')\n",
    "        cell_deg = get_degree_histogram(train_batch_hist, 'edge_index_cell', 'x_cell')\n",
    "        print('Calculating degree histogram for tissue graph')\n",
    "        tissue_deg = get_degree_histogram(train_batch_hist, 'edge_index_tissue', 'x_tissue')\n",
    "        torch.save(cell_deg, 'cell_degree_norm.pt')\n",
    "        torch.save(tissue_deg, 'tissue_degree_norm.pt')\n",
    "\n",
    "    # Since the BRACS dataset has unbalanced data, it is important to calculate the class weights in the training set\n",
    "    # and provide that as an argument to our loss function. \n",
    "    if calc_class_weights:\n",
    "        train_w = get_class_weights(train_batch)\n",
    "        torch.save(torch.tensor(train_w), 'loss_weights_norm.pt')\n",
    "\n",
    "    # Here we define the keyword arguments for the PNAConv layer in the model for both cell and tissue processing \n",
    "    # layers. \n",
    "    kwargs_pna_cell =  {'aggregators': [\"mean\", \"max\", \"min\", \"std\"],\n",
    "                \"scalers\": [\"identity\", \"amplification\",  \"attenuation\"],\n",
    "                \"deg\": cell_deg}\n",
    "    kwargs_pna_tissue =  {'aggregators': [\"mean\", \"max\", \"min\", \"std\"],\n",
    "                \"scalers\": [\"identity\", \"amplification\",  \"attenuation\"],\n",
    "                \"deg\": tissue_deg}\n",
    "    \n",
    "    cell_params = {'layer':'PNAConv', 'in_channels':514, 'hidden_channels':64, \n",
    "                   'num_layers':3, 'out_channels':64, 'readout_op':'lstm', \n",
    "                   'readout_type':'mean', 'kwargs':kwargs_pna_cell}\n",
    "    \n",
    "    tissue_params =  {'layer':'PNAConv', 'in_channels':514, 'hidden_channels':64, \n",
    "                      'num_layers':3, 'out_channels':64, 'readout_op':'lstm', \n",
    "                      'readout_type':'mean', 'kwargs':kwargs_pna_tissue}\n",
    "    \n",
    "    classifier_params = {'in_channels':128, 'hidden_channels':128,\n",
    "                         'out_channels':7, 'num_layers': 2}\n",
    "\n",
    "    # Initialize the pathml.ml.HACTNet model\n",
    "    model = HACTNet(cell_params, tissue_params, classifier_params)\n",
    "\n",
    "    # Set up optimizer\n",
    "    opt = torch.optim.Adam(model.parameters(), lr = 0.0005)\n",
    "\n",
    "    # Learning rate scheduler to reduce LR by factor of 10 each 25 epochs\n",
    "    scheduler = StepLR(opt, step_size=25, gamma=0.1)\n",
    "\n",
    "    # Send the model to GPU\n",
    "    model = model.to(device)\n",
    "\n",
    "    # Define number of epochs \n",
    "    n_epochs = 60\n",
    "\n",
    "    # Keep a track of best epoch and metric for saving only the best models\n",
    "    best_epoch = 0\n",
    "    best_metric = 0\n",
    "\n",
    "    # Load the computed class weights if calc_class_weights = True\n",
    "    if calc_class_weights:\n",
    "        loss_weights = torch.load('loss_weights_norm.pt')\n",
    "\n",
    "    # Define the loss function\n",
    "    loss_fn = nn.CrossEntropyLoss(weight=loss_weights.float().to(device) if calc_class_weights else None)\n",
    "\n",
    "    # Define the evaluate function to compute metrics for validation and test set to keep track of performance.\n",
    "    # The metrics used are per-class and weighted F1 score. \n",
    "    def evaluate(data_loader):\n",
    "        model.eval()\n",
    "        y_true = []\n",
    "        y_pred = []\n",
    "        with torch.no_grad():\n",
    "            for data in tqdm(data_loader):\n",
    "                data = data.to(device)\n",
    "                outputs = model(data)\n",
    "                y_true.append(torch.argmax(outputs.detach().cpu().softmax(dim=1), dim=-1).numpy())\n",
    "                y_pred.append(data.target.cpu().numpy())\n",
    "            y_true = np.array(y_true).ravel()\n",
    "            y_pred = np.array(y_pred).ravel()\n",
    "            per_class = f1_score(y_true, y_pred, average=None)\n",
    "            weighted = f1_score(y_true, y_pred, average='weighted')\n",
    "        print(f'Per class F1: {per_class}')\n",
    "        print(f'Weighted F1: {weighted}')\n",
    "        return np.append(per_class, weighted)\n",
    "\n",
    "    # Start the training loop\n",
    "    for i in range(n_epochs):\n",
    "        print(f'\\n>>>>>>>>>>>>>>>>Epoch number {i}>>>>>>>>>>>>>>>>')\n",
    "        minibatch_train_losses = []\n",
    "    \n",
    "        # Put model in training mode\n",
    "        model.train()\n",
    "        \n",
    "        print('Training')\n",
    "        \n",
    "        for data in tqdm(train_batch):\n",
    "\n",
    "            # Step optimizer and scheduler\n",
    "            opt.step() \n",
    "            \n",
    "            # Send the data to the GPU\n",
    "            data = data.to(device)\n",
    "    \n",
    "            # Zero out gradient\n",
    "            opt.zero_grad()\n",
    "    \n",
    "            # Forward pass\n",
    "            outputs = model(data)\n",
    "    \n",
    "            # Compute loss\n",
    "            loss = loss_fn(outputs, data.target)\n",
    "    \n",
    "            # Compute gradients\n",
    "            loss.backward()\n",
    "\n",
    "            # Track loss\n",
    "            minibatch_train_losses.append(loss.detach().cpu().numpy())\n",
    "    \n",
    "        print(f'Loss: {np.array(minibatch_train_losses).ravel().mean()}')\n",
    "\n",
    "        # Print performance metrics on validation set\n",
    "        print('\\nEvaluating on validation')\n",
    "        val_metrics = evaluate(val_batch)\n",
    "\n",
    "        # Save the model only if it is better than previous checkpoint in validation metrics\n",
    "        if val_metrics[-1] > best_metric:\n",
    "            print('Saving checkpoint')\n",
    "            torch.save(model.state_dict(), \"hact_net_norm.pt\")\n",
    "            best_metric = val_metrics[-1]\n",
    "\n",
    "        # Print performance metrics on test set\n",
    "        print('\\nEvaluating on test')\n",
    "        _ = evaluate(test_batch)\n",
    "            \n",
    "        # Step LR scheduler\n",
    "        scheduler.step()"
   ]
  },
  {
   "cell_type": "code",
   "execution_count": 27,
   "id": "bd0f6179-b6d6-4ff2-afc8-89548e64e203",
   "metadata": {},
   "outputs": [],
   "source": [
    "# Read the train, validation and test dataset into the pathml.datasets.EntityDataset class \n",
    "root_dir = '../data/output'\n",
    "train_dataset = EntityDataset(os.path.join(root_dir, 'cell_graphs/'),\n",
    "                              os.path.join(root_dir, 'tissue_graphs/'),\n",
    "                              os.path.join(root_dir, 'assignment_matrices/'))\n",
    "val_dataset = EntityDataset(os.path.join(root_dir, 'cell_graphs/'),\n",
    "                            os.path.join(root_dir, 'tissue_graphs/'),\n",
    "                            os.path.join(root_dir, 'assignment_matrices/'))\n",
    "test_dataset = EntityDataset(os.path.join(root_dir, 'cell_graphs/'),\n",
    "                             os.path.join(root_dir, 'tissue_graphs/'),\n",
    "                             os.path.join(root_dir, 'assignment_matrices/'))"
   ]
  },
  {
   "cell_type": "code",
   "execution_count": 28,
   "id": "7f408188-5804-4ac4-9a1e-642c6e5e6d09",
   "metadata": {},
   "outputs": [
    {
     "name": "stdout",
     "output_type": "stream",
     "text": [
      "Length of training dataset: 1\n",
      "Length of validation dataset: 1\n",
      "Length of test dataset: 1\n",
      "Calculating degree histogram for cell graph\n"
     ]
    },
    {
     "name": "stderr",
     "output_type": "stream",
     "text": [
      "100%|██████████████████████████████████████████████████████████████████████████| 1/1 [00:00<00:00, 114.93it/s]\n"
     ]
    },
    {
     "name": "stdout",
     "output_type": "stream",
     "text": [
      "Calculating degree histogram for tissue graph\n"
     ]
    },
    {
     "name": "stderr",
     "output_type": "stream",
     "text": [
      "100%|██████████████████████████████████████████████████████████████████████████| 1/1 [00:00<00:00, 142.15it/s]\n"
     ]
    },
    {
     "name": "stdout",
     "output_type": "stream",
     "text": [
      "\n",
      ">>>>>>>>>>>>>>>>Epoch number 0>>>>>>>>>>>>>>>>\n",
      "Training\n"
     ]
    },
    {
     "name": "stderr",
     "output_type": "stream",
     "text": [
      "0it [00:00, ?it/s]\n",
      "/var/tmp/ipykernel_18027/3662042967.py:136: RuntimeWarning: Mean of empty slice.\n",
      "  print(f'Loss: {np.array(minibatch_train_losses).ravel().mean()}')\n",
      "/home/jupyter/miniforge3/envs/pathml_test/lib/python3.10/site-packages/numpy/core/_methods.py:129: RuntimeWarning: invalid value encountered in scalar divide\n",
      "  ret = ret.dtype.type(ret / rcount)\n"
     ]
    },
    {
     "name": "stdout",
     "output_type": "stream",
     "text": [
      "Loss: nan\n",
      "\n",
      "Evaluating on validation\n"
     ]
    },
    {
     "name": "stderr",
     "output_type": "stream",
     "text": [
      "0it [00:00, ?it/s]\n"
     ]
    },
    {
     "name": "stdout",
     "output_type": "stream",
     "text": [
      "Per class F1: []\n",
      "Weighted F1: nan\n",
      "\n",
      "Evaluating on test\n"
     ]
    },
    {
     "name": "stderr",
     "output_type": "stream",
     "text": [
      "0it [00:00, ?it/s]\n",
      "/home/jupyter/miniforge3/envs/pathml_test/lib/python3.10/site-packages/torch/optim/lr_scheduler.py:136: UserWarning: Detected call of `lr_scheduler.step()` before `optimizer.step()`. In PyTorch 1.1.0 and later, you should call them in the opposite order: `optimizer.step()` before `lr_scheduler.step()`.  Failure to do this will result in PyTorch skipping the first value of the learning rate schedule. See more details at https://pytorch.org/docs/stable/optim.html#how-to-adjust-learning-rate\n",
      "  warnings.warn(\"Detected call of `lr_scheduler.step()` before `optimizer.step()`. \"\n"
     ]
    },
    {
     "name": "stdout",
     "output_type": "stream",
     "text": [
      "Per class F1: []\n",
      "Weighted F1: nan\n",
      "\n",
      ">>>>>>>>>>>>>>>>Epoch number 1>>>>>>>>>>>>>>>>\n",
      "Training\n"
     ]
    },
    {
     "name": "stderr",
     "output_type": "stream",
     "text": [
      "0it [00:00, ?it/s]\n",
      "/var/tmp/ipykernel_18027/3662042967.py:136: RuntimeWarning: Mean of empty slice.\n",
      "  print(f'Loss: {np.array(minibatch_train_losses).ravel().mean()}')\n",
      "/home/jupyter/miniforge3/envs/pathml_test/lib/python3.10/site-packages/numpy/core/_methods.py:129: RuntimeWarning: invalid value encountered in scalar divide\n",
      "  ret = ret.dtype.type(ret / rcount)\n"
     ]
    },
    {
     "name": "stdout",
     "output_type": "stream",
     "text": [
      "Loss: nan\n",
      "\n",
      "Evaluating on validation\n"
     ]
    },
    {
     "name": "stderr",
     "output_type": "stream",
     "text": [
      "0it [00:00, ?it/s]\n"
     ]
    },
    {
     "name": "stdout",
     "output_type": "stream",
     "text": [
      "Per class F1: []\n",
      "Weighted F1: nan\n",
      "\n",
      "Evaluating on test\n"
     ]
    },
    {
     "name": "stderr",
     "output_type": "stream",
     "text": [
      "0it [00:00, ?it/s]\n"
     ]
    },
    {
     "name": "stdout",
     "output_type": "stream",
     "text": [
      "Per class F1: []\n",
      "Weighted F1: nan\n",
      "\n",
      ">>>>>>>>>>>>>>>>Epoch number 2>>>>>>>>>>>>>>>>\n",
      "Training\n"
     ]
    },
    {
     "name": "stderr",
     "output_type": "stream",
     "text": [
      "0it [00:00, ?it/s]\n",
      "/var/tmp/ipykernel_18027/3662042967.py:136: RuntimeWarning: Mean of empty slice.\n",
      "  print(f'Loss: {np.array(minibatch_train_losses).ravel().mean()}')\n",
      "/home/jupyter/miniforge3/envs/pathml_test/lib/python3.10/site-packages/numpy/core/_methods.py:129: RuntimeWarning: invalid value encountered in scalar divide\n",
      "  ret = ret.dtype.type(ret / rcount)\n"
     ]
    },
    {
     "name": "stdout",
     "output_type": "stream",
     "text": [
      "Loss: nan\n",
      "\n",
      "Evaluating on validation\n"
     ]
    },
    {
     "name": "stderr",
     "output_type": "stream",
     "text": [
      "0it [00:00, ?it/s]\n"
     ]
    },
    {
     "name": "stdout",
     "output_type": "stream",
     "text": [
      "Per class F1: []\n",
      "Weighted F1: nan\n",
      "\n",
      "Evaluating on test\n"
     ]
    },
    {
     "name": "stderr",
     "output_type": "stream",
     "text": [
      "0it [00:00, ?it/s]\n"
     ]
    },
    {
     "name": "stdout",
     "output_type": "stream",
     "text": [
      "Per class F1: []\n",
      "Weighted F1: nan\n",
      "\n",
      ">>>>>>>>>>>>>>>>Epoch number 3>>>>>>>>>>>>>>>>\n",
      "Training\n"
     ]
    },
    {
     "name": "stderr",
     "output_type": "stream",
     "text": [
      "0it [00:00, ?it/s]\n",
      "/var/tmp/ipykernel_18027/3662042967.py:136: RuntimeWarning: Mean of empty slice.\n",
      "  print(f'Loss: {np.array(minibatch_train_losses).ravel().mean()}')\n",
      "/home/jupyter/miniforge3/envs/pathml_test/lib/python3.10/site-packages/numpy/core/_methods.py:129: RuntimeWarning: invalid value encountered in scalar divide\n",
      "  ret = ret.dtype.type(ret / rcount)\n"
     ]
    },
    {
     "name": "stdout",
     "output_type": "stream",
     "text": [
      "Loss: nan\n",
      "\n",
      "Evaluating on validation\n"
     ]
    },
    {
     "name": "stderr",
     "output_type": "stream",
     "text": [
      "0it [00:00, ?it/s]\n"
     ]
    },
    {
     "name": "stdout",
     "output_type": "stream",
     "text": [
      "Per class F1: []\n",
      "Weighted F1: nan\n",
      "\n",
      "Evaluating on test\n"
     ]
    },
    {
     "name": "stderr",
     "output_type": "stream",
     "text": [
      "0it [00:00, ?it/s]\n"
     ]
    },
    {
     "name": "stdout",
     "output_type": "stream",
     "text": [
      "Per class F1: []\n",
      "Weighted F1: nan\n",
      "\n",
      ">>>>>>>>>>>>>>>>Epoch number 4>>>>>>>>>>>>>>>>\n",
      "Training\n"
     ]
    },
    {
     "name": "stderr",
     "output_type": "stream",
     "text": [
      "0it [00:00, ?it/s]\n",
      "/var/tmp/ipykernel_18027/3662042967.py:136: RuntimeWarning: Mean of empty slice.\n",
      "  print(f'Loss: {np.array(minibatch_train_losses).ravel().mean()}')\n",
      "/home/jupyter/miniforge3/envs/pathml_test/lib/python3.10/site-packages/numpy/core/_methods.py:129: RuntimeWarning: invalid value encountered in scalar divide\n",
      "  ret = ret.dtype.type(ret / rcount)\n"
     ]
    },
    {
     "name": "stdout",
     "output_type": "stream",
     "text": [
      "Loss: nan\n",
      "\n",
      "Evaluating on validation\n"
     ]
    },
    {
     "name": "stderr",
     "output_type": "stream",
     "text": [
      "0it [00:00, ?it/s]\n"
     ]
    },
    {
     "name": "stdout",
     "output_type": "stream",
     "text": [
      "Per class F1: []\n",
      "Weighted F1: nan\n",
      "\n",
      "Evaluating on test\n"
     ]
    },
    {
     "name": "stderr",
     "output_type": "stream",
     "text": [
      "0it [00:00, ?it/s]\n"
     ]
    },
    {
     "name": "stdout",
     "output_type": "stream",
     "text": [
      "Per class F1: []\n",
      "Weighted F1: nan\n",
      "\n",
      ">>>>>>>>>>>>>>>>Epoch number 5>>>>>>>>>>>>>>>>\n",
      "Training\n"
     ]
    },
    {
     "name": "stderr",
     "output_type": "stream",
     "text": [
      "0it [00:00, ?it/s]"
     ]
    },
    {
     "name": "stdout",
     "output_type": "stream",
     "text": [
      "Loss: nan\n",
      "\n",
      "Evaluating on validation\n"
     ]
    },
    {
     "name": "stderr",
     "output_type": "stream",
     "text": [
      "\n",
      "/var/tmp/ipykernel_18027/3662042967.py:136: RuntimeWarning: Mean of empty slice.\n",
      "  print(f'Loss: {np.array(minibatch_train_losses).ravel().mean()}')\n",
      "/home/jupyter/miniforge3/envs/pathml_test/lib/python3.10/site-packages/numpy/core/_methods.py:129: RuntimeWarning: invalid value encountered in scalar divide\n",
      "  ret = ret.dtype.type(ret / rcount)\n",
      "0it [00:00, ?it/s]\n"
     ]
    },
    {
     "name": "stdout",
     "output_type": "stream",
     "text": [
      "Per class F1: []\n",
      "Weighted F1: nan\n",
      "\n",
      "Evaluating on test\n"
     ]
    },
    {
     "name": "stderr",
     "output_type": "stream",
     "text": [
      "0it [00:00, ?it/s]\n"
     ]
    },
    {
     "name": "stdout",
     "output_type": "stream",
     "text": [
      "Per class F1: []\n",
      "Weighted F1: nan\n",
      "\n",
      ">>>>>>>>>>>>>>>>Epoch number 6>>>>>>>>>>>>>>>>\n",
      "Training\n"
     ]
    },
    {
     "name": "stderr",
     "output_type": "stream",
     "text": [
      "0it [00:00, ?it/s]\n",
      "/var/tmp/ipykernel_18027/3662042967.py:136: RuntimeWarning: Mean of empty slice.\n",
      "  print(f'Loss: {np.array(minibatch_train_losses).ravel().mean()}')\n",
      "/home/jupyter/miniforge3/envs/pathml_test/lib/python3.10/site-packages/numpy/core/_methods.py:129: RuntimeWarning: invalid value encountered in scalar divide\n",
      "  ret = ret.dtype.type(ret / rcount)\n"
     ]
    },
    {
     "name": "stdout",
     "output_type": "stream",
     "text": [
      "Loss: nan\n",
      "\n",
      "Evaluating on validation\n"
     ]
    },
    {
     "name": "stderr",
     "output_type": "stream",
     "text": [
      "0it [00:00, ?it/s]\n"
     ]
    },
    {
     "name": "stdout",
     "output_type": "stream",
     "text": [
      "Per class F1: []\n",
      "Weighted F1: nan\n",
      "\n",
      "Evaluating on test\n"
     ]
    },
    {
     "name": "stderr",
     "output_type": "stream",
     "text": [
      "0it [00:00, ?it/s]\n"
     ]
    },
    {
     "name": "stdout",
     "output_type": "stream",
     "text": [
      "Per class F1: []\n",
      "Weighted F1: nan\n",
      "\n",
      ">>>>>>>>>>>>>>>>Epoch number 7>>>>>>>>>>>>>>>>\n",
      "Training\n"
     ]
    },
    {
     "name": "stderr",
     "output_type": "stream",
     "text": [
      "0it [00:00, ?it/s]\n",
      "/var/tmp/ipykernel_18027/3662042967.py:136: RuntimeWarning: Mean of empty slice.\n",
      "  print(f'Loss: {np.array(minibatch_train_losses).ravel().mean()}')\n",
      "/home/jupyter/miniforge3/envs/pathml_test/lib/python3.10/site-packages/numpy/core/_methods.py:129: RuntimeWarning: invalid value encountered in scalar divide\n",
      "  ret = ret.dtype.type(ret / rcount)\n"
     ]
    },
    {
     "name": "stdout",
     "output_type": "stream",
     "text": [
      "Loss: nan\n",
      "\n",
      "Evaluating on validation\n"
     ]
    },
    {
     "name": "stderr",
     "output_type": "stream",
     "text": [
      "0it [00:00, ?it/s]\n"
     ]
    },
    {
     "name": "stdout",
     "output_type": "stream",
     "text": [
      "Per class F1: []\n",
      "Weighted F1: nan\n",
      "\n",
      "Evaluating on test\n"
     ]
    },
    {
     "name": "stderr",
     "output_type": "stream",
     "text": [
      "0it [00:00, ?it/s]\n"
     ]
    },
    {
     "name": "stdout",
     "output_type": "stream",
     "text": [
      "Per class F1: []\n",
      "Weighted F1: nan\n",
      "\n",
      ">>>>>>>>>>>>>>>>Epoch number 8>>>>>>>>>>>>>>>>\n",
      "Training\n"
     ]
    },
    {
     "name": "stderr",
     "output_type": "stream",
     "text": [
      "0it [00:00, ?it/s]\n",
      "/var/tmp/ipykernel_18027/3662042967.py:136: RuntimeWarning: Mean of empty slice.\n",
      "  print(f'Loss: {np.array(minibatch_train_losses).ravel().mean()}')\n",
      "/home/jupyter/miniforge3/envs/pathml_test/lib/python3.10/site-packages/numpy/core/_methods.py:129: RuntimeWarning: invalid value encountered in scalar divide\n",
      "  ret = ret.dtype.type(ret / rcount)\n"
     ]
    },
    {
     "name": "stdout",
     "output_type": "stream",
     "text": [
      "Loss: nan\n",
      "\n",
      "Evaluating on validation\n"
     ]
    },
    {
     "name": "stderr",
     "output_type": "stream",
     "text": [
      "0it [00:00, ?it/s]\n"
     ]
    },
    {
     "name": "stdout",
     "output_type": "stream",
     "text": [
      "Per class F1: []\n",
      "Weighted F1: nan\n",
      "\n",
      "Evaluating on test\n"
     ]
    },
    {
     "name": "stderr",
     "output_type": "stream",
     "text": [
      "0it [00:00, ?it/s]\n"
     ]
    },
    {
     "name": "stdout",
     "output_type": "stream",
     "text": [
      "Per class F1: []\n",
      "Weighted F1: nan\n",
      "\n",
      ">>>>>>>>>>>>>>>>Epoch number 9>>>>>>>>>>>>>>>>\n",
      "Training\n"
     ]
    },
    {
     "name": "stderr",
     "output_type": "stream",
     "text": [
      "0it [00:00, ?it/s]\n",
      "/var/tmp/ipykernel_18027/3662042967.py:136: RuntimeWarning: Mean of empty slice.\n",
      "  print(f'Loss: {np.array(minibatch_train_losses).ravel().mean()}')\n",
      "/home/jupyter/miniforge3/envs/pathml_test/lib/python3.10/site-packages/numpy/core/_methods.py:129: RuntimeWarning: invalid value encountered in scalar divide\n",
      "  ret = ret.dtype.type(ret / rcount)\n"
     ]
    },
    {
     "name": "stdout",
     "output_type": "stream",
     "text": [
      "Loss: nan\n",
      "\n",
      "Evaluating on validation\n"
     ]
    },
    {
     "name": "stderr",
     "output_type": "stream",
     "text": [
      "0it [00:00, ?it/s]\n"
     ]
    },
    {
     "name": "stdout",
     "output_type": "stream",
     "text": [
      "Per class F1: []\n",
      "Weighted F1: nan\n",
      "\n",
      "Evaluating on test\n"
     ]
    },
    {
     "name": "stderr",
     "output_type": "stream",
     "text": [
      "0it [00:00, ?it/s]\n"
     ]
    },
    {
     "name": "stdout",
     "output_type": "stream",
     "text": [
      "Per class F1: []\n",
      "Weighted F1: nan\n",
      "\n",
      ">>>>>>>>>>>>>>>>Epoch number 10>>>>>>>>>>>>>>>>\n",
      "Training\n"
     ]
    },
    {
     "name": "stderr",
     "output_type": "stream",
     "text": [
      "0it [00:00, ?it/s]\n",
      "/var/tmp/ipykernel_18027/3662042967.py:136: RuntimeWarning: Mean of empty slice.\n",
      "  print(f'Loss: {np.array(minibatch_train_losses).ravel().mean()}')\n",
      "/home/jupyter/miniforge3/envs/pathml_test/lib/python3.10/site-packages/numpy/core/_methods.py:129: RuntimeWarning: invalid value encountered in scalar divide\n",
      "  ret = ret.dtype.type(ret / rcount)\n"
     ]
    },
    {
     "name": "stdout",
     "output_type": "stream",
     "text": [
      "Loss: nan\n",
      "\n",
      "Evaluating on validation\n"
     ]
    },
    {
     "name": "stderr",
     "output_type": "stream",
     "text": [
      "0it [00:00, ?it/s]\n"
     ]
    },
    {
     "name": "stdout",
     "output_type": "stream",
     "text": [
      "Per class F1: []\n",
      "Weighted F1: nan\n",
      "\n",
      "Evaluating on test\n"
     ]
    },
    {
     "name": "stderr",
     "output_type": "stream",
     "text": [
      "0it [00:00, ?it/s]\n"
     ]
    },
    {
     "name": "stdout",
     "output_type": "stream",
     "text": [
      "Per class F1: []\n",
      "Weighted F1: nan\n",
      "\n",
      ">>>>>>>>>>>>>>>>Epoch number 11>>>>>>>>>>>>>>>>\n",
      "Training\n"
     ]
    },
    {
     "name": "stderr",
     "output_type": "stream",
     "text": [
      "0it [00:00, ?it/s]\n",
      "/var/tmp/ipykernel_18027/3662042967.py:136: RuntimeWarning: Mean of empty slice.\n",
      "  print(f'Loss: {np.array(minibatch_train_losses).ravel().mean()}')\n",
      "/home/jupyter/miniforge3/envs/pathml_test/lib/python3.10/site-packages/numpy/core/_methods.py:129: RuntimeWarning: invalid value encountered in scalar divide\n",
      "  ret = ret.dtype.type(ret / rcount)\n"
     ]
    },
    {
     "name": "stdout",
     "output_type": "stream",
     "text": [
      "Loss: nan\n",
      "\n",
      "Evaluating on validation\n"
     ]
    },
    {
     "name": "stderr",
     "output_type": "stream",
     "text": [
      "0it [00:00, ?it/s]\n"
     ]
    },
    {
     "name": "stdout",
     "output_type": "stream",
     "text": [
      "Per class F1: []\n",
      "Weighted F1: nan\n",
      "\n",
      "Evaluating on test\n"
     ]
    },
    {
     "name": "stderr",
     "output_type": "stream",
     "text": [
      "0it [00:00, ?it/s]\n"
     ]
    },
    {
     "name": "stdout",
     "output_type": "stream",
     "text": [
      "Per class F1: []\n",
      "Weighted F1: nan\n",
      "\n",
      ">>>>>>>>>>>>>>>>Epoch number 12>>>>>>>>>>>>>>>>\n",
      "Training\n"
     ]
    },
    {
     "name": "stderr",
     "output_type": "stream",
     "text": [
      "0it [00:00, ?it/s]\n",
      "/var/tmp/ipykernel_18027/3662042967.py:136: RuntimeWarning: Mean of empty slice.\n",
      "  print(f'Loss: {np.array(minibatch_train_losses).ravel().mean()}')\n",
      "/home/jupyter/miniforge3/envs/pathml_test/lib/python3.10/site-packages/numpy/core/_methods.py:129: RuntimeWarning: invalid value encountered in scalar divide\n",
      "  ret = ret.dtype.type(ret / rcount)\n"
     ]
    },
    {
     "name": "stdout",
     "output_type": "stream",
     "text": [
      "Loss: nan\n",
      "\n",
      "Evaluating on validation\n"
     ]
    },
    {
     "name": "stderr",
     "output_type": "stream",
     "text": [
      "0it [00:00, ?it/s]\n"
     ]
    },
    {
     "name": "stdout",
     "output_type": "stream",
     "text": [
      "Per class F1: []\n",
      "Weighted F1: nan\n",
      "\n",
      "Evaluating on test\n"
     ]
    },
    {
     "name": "stderr",
     "output_type": "stream",
     "text": [
      "0it [00:00, ?it/s]\n"
     ]
    },
    {
     "name": "stdout",
     "output_type": "stream",
     "text": [
      "Per class F1: []\n",
      "Weighted F1: nan\n",
      "\n",
      ">>>>>>>>>>>>>>>>Epoch number 13>>>>>>>>>>>>>>>>\n",
      "Training\n"
     ]
    },
    {
     "name": "stderr",
     "output_type": "stream",
     "text": [
      "0it [00:00, ?it/s]\n",
      "/var/tmp/ipykernel_18027/3662042967.py:136: RuntimeWarning: Mean of empty slice.\n",
      "  print(f'Loss: {np.array(minibatch_train_losses).ravel().mean()}')\n",
      "/home/jupyter/miniforge3/envs/pathml_test/lib/python3.10/site-packages/numpy/core/_methods.py:129: RuntimeWarning: invalid value encountered in scalar divide\n",
      "  ret = ret.dtype.type(ret / rcount)\n"
     ]
    },
    {
     "name": "stdout",
     "output_type": "stream",
     "text": [
      "Loss: nan\n",
      "\n",
      "Evaluating on validation\n"
     ]
    },
    {
     "name": "stderr",
     "output_type": "stream",
     "text": [
      "0it [00:00, ?it/s]"
     ]
    },
    {
     "name": "stdout",
     "output_type": "stream",
     "text": [
      "Per class F1: []"
     ]
    },
    {
     "name": "stderr",
     "output_type": "stream",
     "text": [
      "\n"
     ]
    },
    {
     "name": "stdout",
     "output_type": "stream",
     "text": [
      "\n",
      "Weighted F1: nan\n",
      "\n",
      "Evaluating on test\n"
     ]
    },
    {
     "name": "stderr",
     "output_type": "stream",
     "text": [
      "0it [00:00, ?it/s]\n"
     ]
    },
    {
     "name": "stdout",
     "output_type": "stream",
     "text": [
      "Per class F1: []\n",
      "Weighted F1: nan\n",
      "\n",
      ">>>>>>>>>>>>>>>>Epoch number 14>>>>>>>>>>>>>>>>\n",
      "Training\n"
     ]
    },
    {
     "name": "stderr",
     "output_type": "stream",
     "text": [
      "0it [00:00, ?it/s]\n",
      "/var/tmp/ipykernel_18027/3662042967.py:136: RuntimeWarning: Mean of empty slice.\n",
      "  print(f'Loss: {np.array(minibatch_train_losses).ravel().mean()}')\n",
      "/home/jupyter/miniforge3/envs/pathml_test/lib/python3.10/site-packages/numpy/core/_methods.py:129: RuntimeWarning: invalid value encountered in scalar divide\n",
      "  ret = ret.dtype.type(ret / rcount)\n"
     ]
    },
    {
     "name": "stdout",
     "output_type": "stream",
     "text": [
      "Loss: nan\n",
      "\n",
      "Evaluating on validation\n"
     ]
    },
    {
     "name": "stderr",
     "output_type": "stream",
     "text": [
      "0it [00:00, ?it/s]\n"
     ]
    },
    {
     "name": "stdout",
     "output_type": "stream",
     "text": [
      "Per class F1: []\n",
      "Weighted F1: nan\n",
      "\n",
      "Evaluating on test\n"
     ]
    },
    {
     "name": "stderr",
     "output_type": "stream",
     "text": [
      "0it [00:00, ?it/s]\n"
     ]
    },
    {
     "name": "stdout",
     "output_type": "stream",
     "text": [
      "Per class F1: []\n",
      "Weighted F1: nan\n",
      "\n",
      ">>>>>>>>>>>>>>>>Epoch number 15>>>>>>>>>>>>>>>>\n",
      "Training\n"
     ]
    },
    {
     "name": "stderr",
     "output_type": "stream",
     "text": [
      "0it [00:00, ?it/s]\n",
      "/var/tmp/ipykernel_18027/3662042967.py:136: RuntimeWarning: Mean of empty slice.\n",
      "  print(f'Loss: {np.array(minibatch_train_losses).ravel().mean()}')\n",
      "/home/jupyter/miniforge3/envs/pathml_test/lib/python3.10/site-packages/numpy/core/_methods.py:129: RuntimeWarning: invalid value encountered in scalar divide\n",
      "  ret = ret.dtype.type(ret / rcount)\n"
     ]
    },
    {
     "name": "stdout",
     "output_type": "stream",
     "text": [
      "Loss: nan\n",
      "\n",
      "Evaluating on validation\n"
     ]
    },
    {
     "name": "stderr",
     "output_type": "stream",
     "text": [
      "0it [00:00, ?it/s]\n"
     ]
    },
    {
     "name": "stdout",
     "output_type": "stream",
     "text": [
      "Per class F1: []\n",
      "Weighted F1: nan\n",
      "\n",
      "Evaluating on test\n"
     ]
    },
    {
     "name": "stderr",
     "output_type": "stream",
     "text": [
      "0it [00:00, ?it/s]\n"
     ]
    },
    {
     "name": "stdout",
     "output_type": "stream",
     "text": [
      "Per class F1: []\n",
      "Weighted F1: nan\n",
      "\n",
      ">>>>>>>>>>>>>>>>Epoch number 16>>>>>>>>>>>>>>>>\n",
      "Training\n"
     ]
    },
    {
     "name": "stderr",
     "output_type": "stream",
     "text": [
      "0it [00:00, ?it/s]\n",
      "/var/tmp/ipykernel_18027/3662042967.py:136: RuntimeWarning: Mean of empty slice.\n",
      "  print(f'Loss: {np.array(minibatch_train_losses).ravel().mean()}')\n",
      "/home/jupyter/miniforge3/envs/pathml_test/lib/python3.10/site-packages/numpy/core/_methods.py:129: RuntimeWarning: invalid value encountered in scalar divide\n",
      "  ret = ret.dtype.type(ret / rcount)\n"
     ]
    },
    {
     "name": "stdout",
     "output_type": "stream",
     "text": [
      "Loss: nan\n",
      "\n",
      "Evaluating on validation\n"
     ]
    },
    {
     "name": "stderr",
     "output_type": "stream",
     "text": [
      "0it [00:00, ?it/s]\n"
     ]
    },
    {
     "name": "stdout",
     "output_type": "stream",
     "text": [
      "Per class F1: []\n",
      "Weighted F1: nan\n",
      "\n",
      "Evaluating on test\n"
     ]
    },
    {
     "name": "stderr",
     "output_type": "stream",
     "text": [
      "0it [00:00, ?it/s]\n"
     ]
    },
    {
     "name": "stdout",
     "output_type": "stream",
     "text": [
      "Per class F1: []\n",
      "Weighted F1: nan\n",
      "\n",
      ">>>>>>>>>>>>>>>>Epoch number 17>>>>>>>>>>>>>>>>\n",
      "Training\n"
     ]
    },
    {
     "name": "stderr",
     "output_type": "stream",
     "text": [
      "0it [00:00, ?it/s]\n",
      "/var/tmp/ipykernel_18027/3662042967.py:136: RuntimeWarning: Mean of empty slice.\n",
      "  print(f'Loss: {np.array(minibatch_train_losses).ravel().mean()}')\n",
      "/home/jupyter/miniforge3/envs/pathml_test/lib/python3.10/site-packages/numpy/core/_methods.py:129: RuntimeWarning: invalid value encountered in scalar divide\n",
      "  ret = ret.dtype.type(ret / rcount)\n"
     ]
    },
    {
     "name": "stdout",
     "output_type": "stream",
     "text": [
      "Loss: nan\n",
      "\n",
      "Evaluating on validation\n"
     ]
    },
    {
     "name": "stderr",
     "output_type": "stream",
     "text": [
      "0it [00:00, ?it/s]\n"
     ]
    },
    {
     "name": "stdout",
     "output_type": "stream",
     "text": [
      "Per class F1: []\n",
      "Weighted F1: nan\n",
      "\n",
      "Evaluating on test\n"
     ]
    },
    {
     "name": "stderr",
     "output_type": "stream",
     "text": [
      "0it [00:00, ?it/s]"
     ]
    },
    {
     "name": "stdout",
     "output_type": "stream",
     "text": [
      "Per class F1: []\n",
      "Weighted F1: nan\n",
      "\n",
      ">>>>>>>>>>>>>>>>Epoch number 18>>>>>>>>>>>>>>>>\n",
      "Training\n"
     ]
    },
    {
     "name": "stderr",
     "output_type": "stream",
     "text": [
      "\n",
      "0it [00:00, ?it/s]\n",
      "/var/tmp/ipykernel_18027/3662042967.py:136: RuntimeWarning: Mean of empty slice.\n",
      "  print(f'Loss: {np.array(minibatch_train_losses).ravel().mean()}')\n",
      "/home/jupyter/miniforge3/envs/pathml_test/lib/python3.10/site-packages/numpy/core/_methods.py:129: RuntimeWarning: invalid value encountered in scalar divide\n",
      "  ret = ret.dtype.type(ret / rcount)\n"
     ]
    },
    {
     "name": "stdout",
     "output_type": "stream",
     "text": [
      "Loss: nan\n",
      "\n",
      "Evaluating on validation\n"
     ]
    },
    {
     "name": "stderr",
     "output_type": "stream",
     "text": [
      "0it [00:00, ?it/s]\n"
     ]
    },
    {
     "name": "stdout",
     "output_type": "stream",
     "text": [
      "Per class F1: []\n",
      "Weighted F1: nan\n",
      "\n",
      "Evaluating on test\n"
     ]
    },
    {
     "name": "stderr",
     "output_type": "stream",
     "text": [
      "0it [00:00, ?it/s]\n"
     ]
    },
    {
     "name": "stdout",
     "output_type": "stream",
     "text": [
      "Per class F1: []\n",
      "Weighted F1: nan\n",
      "\n",
      ">>>>>>>>>>>>>>>>Epoch number 19>>>>>>>>>>>>>>>>\n",
      "Training\n"
     ]
    },
    {
     "name": "stderr",
     "output_type": "stream",
     "text": [
      "0it [00:00, ?it/s]\n",
      "/var/tmp/ipykernel_18027/3662042967.py:136: RuntimeWarning: Mean of empty slice.\n",
      "  print(f'Loss: {np.array(minibatch_train_losses).ravel().mean()}')\n",
      "/home/jupyter/miniforge3/envs/pathml_test/lib/python3.10/site-packages/numpy/core/_methods.py:129: RuntimeWarning: invalid value encountered in scalar divide\n",
      "  ret = ret.dtype.type(ret / rcount)\n"
     ]
    },
    {
     "name": "stdout",
     "output_type": "stream",
     "text": [
      "Loss: nan\n",
      "\n",
      "Evaluating on validation\n"
     ]
    },
    {
     "name": "stderr",
     "output_type": "stream",
     "text": [
      "0it [00:00, ?it/s]\n"
     ]
    },
    {
     "name": "stdout",
     "output_type": "stream",
     "text": [
      "Per class F1: []\n",
      "Weighted F1: nan\n",
      "\n",
      "Evaluating on test\n"
     ]
    },
    {
     "name": "stderr",
     "output_type": "stream",
     "text": [
      "0it [00:00, ?it/s]\n"
     ]
    },
    {
     "name": "stdout",
     "output_type": "stream",
     "text": [
      "Per class F1: []\n",
      "Weighted F1: nan\n",
      "\n",
      ">>>>>>>>>>>>>>>>Epoch number 20>>>>>>>>>>>>>>>>\n",
      "Training\n"
     ]
    },
    {
     "name": "stderr",
     "output_type": "stream",
     "text": [
      "0it [00:00, ?it/s]\n",
      "/var/tmp/ipykernel_18027/3662042967.py:136: RuntimeWarning: Mean of empty slice.\n",
      "  print(f'Loss: {np.array(minibatch_train_losses).ravel().mean()}')\n",
      "/home/jupyter/miniforge3/envs/pathml_test/lib/python3.10/site-packages/numpy/core/_methods.py:129: RuntimeWarning: invalid value encountered in scalar divide\n",
      "  ret = ret.dtype.type(ret / rcount)\n"
     ]
    },
    {
     "name": "stdout",
     "output_type": "stream",
     "text": [
      "Loss: nan\n",
      "\n",
      "Evaluating on validation\n"
     ]
    },
    {
     "name": "stderr",
     "output_type": "stream",
     "text": [
      "0it [00:00, ?it/s]\n"
     ]
    },
    {
     "name": "stdout",
     "output_type": "stream",
     "text": [
      "Per class F1: []\n",
      "Weighted F1: nan\n",
      "\n",
      "Evaluating on test\n"
     ]
    },
    {
     "name": "stderr",
     "output_type": "stream",
     "text": [
      "0it [00:00, ?it/s]\n"
     ]
    },
    {
     "name": "stdout",
     "output_type": "stream",
     "text": [
      "Per class F1: []\n",
      "Weighted F1: nan\n",
      "\n",
      ">>>>>>>>>>>>>>>>Epoch number 21>>>>>>>>>>>>>>>>\n",
      "Training\n"
     ]
    },
    {
     "name": "stderr",
     "output_type": "stream",
     "text": [
      "0it [00:00, ?it/s]"
     ]
    },
    {
     "name": "stdout",
     "output_type": "stream",
     "text": [
      "Loss: nan\n",
      "\n",
      "Evaluating on validation\n"
     ]
    },
    {
     "name": "stderr",
     "output_type": "stream",
     "text": [
      "\n",
      "/var/tmp/ipykernel_18027/3662042967.py:136: RuntimeWarning: Mean of empty slice.\n",
      "  print(f'Loss: {np.array(minibatch_train_losses).ravel().mean()}')\n",
      "/home/jupyter/miniforge3/envs/pathml_test/lib/python3.10/site-packages/numpy/core/_methods.py:129: RuntimeWarning: invalid value encountered in scalar divide\n",
      "  ret = ret.dtype.type(ret / rcount)\n",
      "0it [00:00, ?it/s]\n"
     ]
    },
    {
     "name": "stdout",
     "output_type": "stream",
     "text": [
      "Per class F1: []\n",
      "Weighted F1: nan\n",
      "\n",
      "Evaluating on test\n"
     ]
    },
    {
     "name": "stderr",
     "output_type": "stream",
     "text": [
      "0it [00:00, ?it/s]\n"
     ]
    },
    {
     "name": "stdout",
     "output_type": "stream",
     "text": [
      "Per class F1: []\n",
      "Weighted F1: nan\n",
      "\n",
      ">>>>>>>>>>>>>>>>Epoch number 22>>>>>>>>>>>>>>>>\n",
      "Training\n"
     ]
    },
    {
     "name": "stderr",
     "output_type": "stream",
     "text": [
      "0it [00:00, ?it/s]\n",
      "/var/tmp/ipykernel_18027/3662042967.py:136: RuntimeWarning: Mean of empty slice.\n",
      "  print(f'Loss: {np.array(minibatch_train_losses).ravel().mean()}')\n",
      "/home/jupyter/miniforge3/envs/pathml_test/lib/python3.10/site-packages/numpy/core/_methods.py:129: RuntimeWarning: invalid value encountered in scalar divide\n",
      "  ret = ret.dtype.type(ret / rcount)\n"
     ]
    },
    {
     "name": "stdout",
     "output_type": "stream",
     "text": [
      "Loss: nan\n",
      "\n",
      "Evaluating on validation\n"
     ]
    },
    {
     "name": "stderr",
     "output_type": "stream",
     "text": [
      "0it [00:00, ?it/s]\n"
     ]
    },
    {
     "name": "stdout",
     "output_type": "stream",
     "text": [
      "Per class F1: []\n",
      "Weighted F1: nan\n",
      "\n",
      "Evaluating on test\n"
     ]
    },
    {
     "name": "stderr",
     "output_type": "stream",
     "text": [
      "0it [00:00, ?it/s]\n"
     ]
    },
    {
     "name": "stdout",
     "output_type": "stream",
     "text": [
      "Per class F1: []\n",
      "Weighted F1: nan\n",
      "\n",
      ">>>>>>>>>>>>>>>>Epoch number 23>>>>>>>>>>>>>>>>\n",
      "Training\n"
     ]
    },
    {
     "name": "stderr",
     "output_type": "stream",
     "text": [
      "0it [00:00, ?it/s]\n",
      "/var/tmp/ipykernel_18027/3662042967.py:136: RuntimeWarning: Mean of empty slice.\n",
      "  print(f'Loss: {np.array(minibatch_train_losses).ravel().mean()}')\n",
      "/home/jupyter/miniforge3/envs/pathml_test/lib/python3.10/site-packages/numpy/core/_methods.py:129: RuntimeWarning: invalid value encountered in scalar divide\n",
      "  ret = ret.dtype.type(ret / rcount)\n"
     ]
    },
    {
     "name": "stdout",
     "output_type": "stream",
     "text": [
      "Loss: nan\n",
      "\n",
      "Evaluating on validation\n"
     ]
    },
    {
     "name": "stderr",
     "output_type": "stream",
     "text": [
      "0it [00:00, ?it/s]\n"
     ]
    },
    {
     "name": "stdout",
     "output_type": "stream",
     "text": [
      "Per class F1: []\n",
      "Weighted F1: nan\n",
      "\n",
      "Evaluating on test\n"
     ]
    },
    {
     "name": "stderr",
     "output_type": "stream",
     "text": [
      "0it [00:00, ?it/s]\n"
     ]
    },
    {
     "name": "stdout",
     "output_type": "stream",
     "text": [
      "Per class F1: []\n",
      "Weighted F1: nan\n",
      "\n",
      ">>>>>>>>>>>>>>>>Epoch number 24>>>>>>>>>>>>>>>>\n",
      "Training\n"
     ]
    },
    {
     "name": "stderr",
     "output_type": "stream",
     "text": [
      "0it [00:00, ?it/s]\n",
      "/var/tmp/ipykernel_18027/3662042967.py:136: RuntimeWarning: Mean of empty slice.\n",
      "  print(f'Loss: {np.array(minibatch_train_losses).ravel().mean()}')\n",
      "/home/jupyter/miniforge3/envs/pathml_test/lib/python3.10/site-packages/numpy/core/_methods.py:129: RuntimeWarning: invalid value encountered in scalar divide\n",
      "  ret = ret.dtype.type(ret / rcount)\n"
     ]
    },
    {
     "name": "stdout",
     "output_type": "stream",
     "text": [
      "Loss: nan\n",
      "\n",
      "Evaluating on validation\n"
     ]
    },
    {
     "name": "stderr",
     "output_type": "stream",
     "text": [
      "0it [00:00, ?it/s]\n"
     ]
    },
    {
     "name": "stdout",
     "output_type": "stream",
     "text": [
      "Per class F1: []\n",
      "Weighted F1: nan\n",
      "\n",
      "Evaluating on test\n"
     ]
    },
    {
     "name": "stderr",
     "output_type": "stream",
     "text": [
      "0it [00:00, ?it/s]\n"
     ]
    },
    {
     "name": "stdout",
     "output_type": "stream",
     "text": [
      "Per class F1: []\n",
      "Weighted F1: nan\n",
      "\n",
      ">>>>>>>>>>>>>>>>Epoch number 25>>>>>>>>>>>>>>>>\n",
      "Training\n"
     ]
    },
    {
     "name": "stderr",
     "output_type": "stream",
     "text": [
      "0it [00:00, ?it/s]\n",
      "/var/tmp/ipykernel_18027/3662042967.py:136: RuntimeWarning: Mean of empty slice.\n",
      "  print(f'Loss: {np.array(minibatch_train_losses).ravel().mean()}')\n",
      "/home/jupyter/miniforge3/envs/pathml_test/lib/python3.10/site-packages/numpy/core/_methods.py:129: RuntimeWarning: invalid value encountered in scalar divide\n",
      "  ret = ret.dtype.type(ret / rcount)\n"
     ]
    },
    {
     "name": "stdout",
     "output_type": "stream",
     "text": [
      "Loss: nan\n",
      "\n",
      "Evaluating on validation\n"
     ]
    },
    {
     "name": "stderr",
     "output_type": "stream",
     "text": [
      "0it [00:00, ?it/s]\n"
     ]
    },
    {
     "name": "stdout",
     "output_type": "stream",
     "text": [
      "Per class F1: []\n",
      "Weighted F1: nan\n",
      "\n",
      "Evaluating on test\n"
     ]
    },
    {
     "name": "stderr",
     "output_type": "stream",
     "text": [
      "0it [00:00, ?it/s]\n"
     ]
    },
    {
     "name": "stdout",
     "output_type": "stream",
     "text": [
      "Per class F1: []\n",
      "Weighted F1: nan\n",
      "\n",
      ">>>>>>>>>>>>>>>>Epoch number 26>>>>>>>>>>>>>>>>\n",
      "Training\n"
     ]
    },
    {
     "name": "stderr",
     "output_type": "stream",
     "text": [
      "0it [00:00, ?it/s]\n",
      "/var/tmp/ipykernel_18027/3662042967.py:136: RuntimeWarning: Mean of empty slice.\n",
      "  print(f'Loss: {np.array(minibatch_train_losses).ravel().mean()}')\n",
      "/home/jupyter/miniforge3/envs/pathml_test/lib/python3.10/site-packages/numpy/core/_methods.py:129: RuntimeWarning: invalid value encountered in scalar divide\n",
      "  ret = ret.dtype.type(ret / rcount)\n"
     ]
    },
    {
     "name": "stdout",
     "output_type": "stream",
     "text": [
      "Loss: nan\n",
      "\n",
      "Evaluating on validation\n"
     ]
    },
    {
     "name": "stderr",
     "output_type": "stream",
     "text": [
      "0it [00:00, ?it/s]\n"
     ]
    },
    {
     "name": "stdout",
     "output_type": "stream",
     "text": [
      "Per class F1: []\n",
      "Weighted F1: nan\n",
      "\n",
      "Evaluating on test\n"
     ]
    },
    {
     "name": "stderr",
     "output_type": "stream",
     "text": [
      "0it [00:00, ?it/s]\n"
     ]
    },
    {
     "name": "stdout",
     "output_type": "stream",
     "text": [
      "Per class F1: []\n",
      "Weighted F1: nan\n",
      "\n",
      ">>>>>>>>>>>>>>>>Epoch number 27>>>>>>>>>>>>>>>>\n",
      "Training\n"
     ]
    },
    {
     "name": "stderr",
     "output_type": "stream",
     "text": [
      "0it [00:00, ?it/s]\n",
      "/var/tmp/ipykernel_18027/3662042967.py:136: RuntimeWarning: Mean of empty slice.\n",
      "  print(f'Loss: {np.array(minibatch_train_losses).ravel().mean()}')\n",
      "/home/jupyter/miniforge3/envs/pathml_test/lib/python3.10/site-packages/numpy/core/_methods.py:129: RuntimeWarning: invalid value encountered in scalar divide\n",
      "  ret = ret.dtype.type(ret / rcount)\n"
     ]
    },
    {
     "name": "stdout",
     "output_type": "stream",
     "text": [
      "Loss: nan\n",
      "\n",
      "Evaluating on validation\n"
     ]
    },
    {
     "name": "stderr",
     "output_type": "stream",
     "text": [
      "0it [00:00, ?it/s]\n"
     ]
    },
    {
     "name": "stdout",
     "output_type": "stream",
     "text": [
      "Per class F1: []\n",
      "Weighted F1: nan\n",
      "\n",
      "Evaluating on test\n"
     ]
    },
    {
     "name": "stderr",
     "output_type": "stream",
     "text": [
      "0it [00:00, ?it/s]\n"
     ]
    },
    {
     "name": "stdout",
     "output_type": "stream",
     "text": [
      "Per class F1: []\n",
      "Weighted F1: nan\n",
      "\n",
      ">>>>>>>>>>>>>>>>Epoch number 28>>>>>>>>>>>>>>>>\n",
      "Training\n"
     ]
    },
    {
     "name": "stderr",
     "output_type": "stream",
     "text": [
      "0it [00:00, ?it/s]\n",
      "/var/tmp/ipykernel_18027/3662042967.py:136: RuntimeWarning: Mean of empty slice.\n",
      "  print(f'Loss: {np.array(minibatch_train_losses).ravel().mean()}')\n",
      "/home/jupyter/miniforge3/envs/pathml_test/lib/python3.10/site-packages/numpy/core/_methods.py:129: RuntimeWarning: invalid value encountered in scalar divide\n",
      "  ret = ret.dtype.type(ret / rcount)\n"
     ]
    },
    {
     "name": "stdout",
     "output_type": "stream",
     "text": [
      "Loss: nan\n",
      "\n",
      "Evaluating on validation\n"
     ]
    },
    {
     "name": "stderr",
     "output_type": "stream",
     "text": [
      "0it [00:00, ?it/s]\n"
     ]
    },
    {
     "name": "stdout",
     "output_type": "stream",
     "text": [
      "Per class F1: []\n",
      "Weighted F1: nan\n",
      "\n",
      "Evaluating on test\n"
     ]
    },
    {
     "name": "stderr",
     "output_type": "stream",
     "text": [
      "0it [00:00, ?it/s]\n"
     ]
    },
    {
     "name": "stdout",
     "output_type": "stream",
     "text": [
      "Per class F1: []\n",
      "Weighted F1: nan\n",
      "\n",
      ">>>>>>>>>>>>>>>>Epoch number 29>>>>>>>>>>>>>>>>\n",
      "Training\n"
     ]
    },
    {
     "name": "stderr",
     "output_type": "stream",
     "text": [
      "0it [00:00, ?it/s]\n",
      "/var/tmp/ipykernel_18027/3662042967.py:136: RuntimeWarning: Mean of empty slice.\n",
      "  print(f'Loss: {np.array(minibatch_train_losses).ravel().mean()}')\n",
      "/home/jupyter/miniforge3/envs/pathml_test/lib/python3.10/site-packages/numpy/core/_methods.py:129: RuntimeWarning: invalid value encountered in scalar divide\n",
      "  ret = ret.dtype.type(ret / rcount)\n"
     ]
    },
    {
     "name": "stdout",
     "output_type": "stream",
     "text": [
      "Loss: nan\n",
      "\n",
      "Evaluating on validation\n"
     ]
    },
    {
     "name": "stderr",
     "output_type": "stream",
     "text": [
      "0it [00:00, ?it/s]\n"
     ]
    },
    {
     "name": "stdout",
     "output_type": "stream",
     "text": [
      "Per class F1: []\n",
      "Weighted F1: nan\n",
      "\n",
      "Evaluating on test\n"
     ]
    },
    {
     "name": "stderr",
     "output_type": "stream",
     "text": [
      "0it [00:00, ?it/s]\n"
     ]
    },
    {
     "name": "stdout",
     "output_type": "stream",
     "text": [
      "Per class F1: []\n",
      "Weighted F1: nan\n",
      "\n",
      ">>>>>>>>>>>>>>>>Epoch number 30>>>>>>>>>>>>>>>>\n",
      "Training\n"
     ]
    },
    {
     "name": "stderr",
     "output_type": "stream",
     "text": [
      "0it [00:00, ?it/s]\n",
      "/var/tmp/ipykernel_18027/3662042967.py:136: RuntimeWarning: Mean of empty slice.\n",
      "  print(f'Loss: {np.array(minibatch_train_losses).ravel().mean()}')\n",
      "/home/jupyter/miniforge3/envs/pathml_test/lib/python3.10/site-packages/numpy/core/_methods.py:129: RuntimeWarning: invalid value encountered in scalar divide\n",
      "  ret = ret.dtype.type(ret / rcount)\n"
     ]
    },
    {
     "name": "stdout",
     "output_type": "stream",
     "text": [
      "Loss: nan\n",
      "\n",
      "Evaluating on validation\n"
     ]
    },
    {
     "name": "stderr",
     "output_type": "stream",
     "text": [
      "0it [00:00, ?it/s]\n"
     ]
    },
    {
     "name": "stdout",
     "output_type": "stream",
     "text": [
      "Per class F1: []\n",
      "Weighted F1: nan\n",
      "\n",
      "Evaluating on test\n"
     ]
    },
    {
     "name": "stderr",
     "output_type": "stream",
     "text": [
      "0it [00:00, ?it/s]\n"
     ]
    },
    {
     "name": "stdout",
     "output_type": "stream",
     "text": [
      "Per class F1: []\n",
      "Weighted F1: nan\n",
      "\n",
      ">>>>>>>>>>>>>>>>Epoch number 31>>>>>>>>>>>>>>>>\n",
      "Training\n"
     ]
    },
    {
     "name": "stderr",
     "output_type": "stream",
     "text": [
      "0it [00:00, ?it/s]\n",
      "/var/tmp/ipykernel_18027/3662042967.py:136: RuntimeWarning: Mean of empty slice.\n",
      "  print(f'Loss: {np.array(minibatch_train_losses).ravel().mean()}')\n",
      "/home/jupyter/miniforge3/envs/pathml_test/lib/python3.10/site-packages/numpy/core/_methods.py:129: RuntimeWarning: invalid value encountered in scalar divide\n",
      "  ret = ret.dtype.type(ret / rcount)\n"
     ]
    },
    {
     "name": "stdout",
     "output_type": "stream",
     "text": [
      "Loss: nan\n",
      "\n",
      "Evaluating on validation\n"
     ]
    },
    {
     "name": "stderr",
     "output_type": "stream",
     "text": [
      "0it [00:00, ?it/s]\n"
     ]
    },
    {
     "name": "stdout",
     "output_type": "stream",
     "text": [
      "Per class F1: []\n",
      "Weighted F1: nan\n",
      "\n",
      "Evaluating on test\n"
     ]
    },
    {
     "name": "stderr",
     "output_type": "stream",
     "text": [
      "0it [00:00, ?it/s]\n"
     ]
    },
    {
     "name": "stdout",
     "output_type": "stream",
     "text": [
      "Per class F1: []\n",
      "Weighted F1: nan\n",
      "\n",
      ">>>>>>>>>>>>>>>>Epoch number 32>>>>>>>>>>>>>>>>\n",
      "Training\n"
     ]
    },
    {
     "name": "stderr",
     "output_type": "stream",
     "text": [
      "0it [00:00, ?it/s]\n",
      "/var/tmp/ipykernel_18027/3662042967.py:136: RuntimeWarning: Mean of empty slice.\n",
      "  print(f'Loss: {np.array(minibatch_train_losses).ravel().mean()}')\n",
      "/home/jupyter/miniforge3/envs/pathml_test/lib/python3.10/site-packages/numpy/core/_methods.py:129: RuntimeWarning: invalid value encountered in scalar divide\n",
      "  ret = ret.dtype.type(ret / rcount)\n"
     ]
    },
    {
     "name": "stdout",
     "output_type": "stream",
     "text": [
      "Loss: nan\n",
      "\n",
      "Evaluating on validation\n"
     ]
    },
    {
     "name": "stderr",
     "output_type": "stream",
     "text": [
      "0it [00:00, ?it/s]\n"
     ]
    },
    {
     "name": "stdout",
     "output_type": "stream",
     "text": [
      "Per class F1: []\n",
      "Weighted F1: nan\n",
      "\n",
      "Evaluating on test\n"
     ]
    },
    {
     "name": "stderr",
     "output_type": "stream",
     "text": [
      "0it [00:00, ?it/s]\n"
     ]
    },
    {
     "name": "stdout",
     "output_type": "stream",
     "text": [
      "Per class F1: []\n",
      "Weighted F1: nan\n",
      "\n",
      ">>>>>>>>>>>>>>>>Epoch number 33>>>>>>>>>>>>>>>>\n",
      "Training\n"
     ]
    },
    {
     "name": "stderr",
     "output_type": "stream",
     "text": [
      "0it [00:00, ?it/s]\n",
      "/var/tmp/ipykernel_18027/3662042967.py:136: RuntimeWarning: Mean of empty slice.\n",
      "  print(f'Loss: {np.array(minibatch_train_losses).ravel().mean()}')\n",
      "/home/jupyter/miniforge3/envs/pathml_test/lib/python3.10/site-packages/numpy/core/_methods.py:129: RuntimeWarning: invalid value encountered in scalar divide\n",
      "  ret = ret.dtype.type(ret / rcount)\n"
     ]
    },
    {
     "name": "stdout",
     "output_type": "stream",
     "text": [
      "Loss: nan\n",
      "\n",
      "Evaluating on validation\n"
     ]
    },
    {
     "name": "stderr",
     "output_type": "stream",
     "text": [
      "0it [00:00, ?it/s]\n"
     ]
    },
    {
     "name": "stdout",
     "output_type": "stream",
     "text": [
      "Per class F1: []\n",
      "Weighted F1: nan\n",
      "\n",
      "Evaluating on test\n"
     ]
    },
    {
     "name": "stderr",
     "output_type": "stream",
     "text": [
      "0it [00:00, ?it/s]\n"
     ]
    },
    {
     "name": "stdout",
     "output_type": "stream",
     "text": [
      "Per class F1: []\n",
      "Weighted F1: nan\n",
      "\n",
      ">>>>>>>>>>>>>>>>Epoch number 34>>>>>>>>>>>>>>>>\n",
      "Training\n"
     ]
    },
    {
     "name": "stderr",
     "output_type": "stream",
     "text": [
      "0it [00:00, ?it/s]\n",
      "/var/tmp/ipykernel_18027/3662042967.py:136: RuntimeWarning: Mean of empty slice.\n",
      "  print(f'Loss: {np.array(minibatch_train_losses).ravel().mean()}')\n",
      "/home/jupyter/miniforge3/envs/pathml_test/lib/python3.10/site-packages/numpy/core/_methods.py:129: RuntimeWarning: invalid value encountered in scalar divide\n",
      "  ret = ret.dtype.type(ret / rcount)\n"
     ]
    },
    {
     "name": "stdout",
     "output_type": "stream",
     "text": [
      "Loss: nan\n",
      "\n",
      "Evaluating on validation\n"
     ]
    },
    {
     "name": "stderr",
     "output_type": "stream",
     "text": [
      "0it [00:00, ?it/s]\n"
     ]
    },
    {
     "name": "stdout",
     "output_type": "stream",
     "text": [
      "Per class F1: []\n",
      "Weighted F1: nan\n",
      "\n",
      "Evaluating on test\n"
     ]
    },
    {
     "name": "stderr",
     "output_type": "stream",
     "text": [
      "0it [00:00, ?it/s]\n"
     ]
    },
    {
     "name": "stdout",
     "output_type": "stream",
     "text": [
      "Per class F1: []\n",
      "Weighted F1: nan\n",
      "\n",
      ">>>>>>>>>>>>>>>>Epoch number 35>>>>>>>>>>>>>>>>\n",
      "Training\n"
     ]
    },
    {
     "name": "stderr",
     "output_type": "stream",
     "text": [
      "0it [00:00, ?it/s]\n",
      "/var/tmp/ipykernel_18027/3662042967.py:136: RuntimeWarning: Mean of empty slice.\n",
      "  print(f'Loss: {np.array(minibatch_train_losses).ravel().mean()}')\n",
      "/home/jupyter/miniforge3/envs/pathml_test/lib/python3.10/site-packages/numpy/core/_methods.py:129: RuntimeWarning: invalid value encountered in scalar divide\n",
      "  ret = ret.dtype.type(ret / rcount)\n"
     ]
    },
    {
     "name": "stdout",
     "output_type": "stream",
     "text": [
      "Loss: nan\n",
      "\n",
      "Evaluating on validation\n"
     ]
    },
    {
     "name": "stderr",
     "output_type": "stream",
     "text": [
      "0it [00:00, ?it/s]\n"
     ]
    },
    {
     "name": "stdout",
     "output_type": "stream",
     "text": [
      "Per class F1: []\n",
      "Weighted F1: nan\n",
      "\n",
      "Evaluating on test\n"
     ]
    },
    {
     "name": "stderr",
     "output_type": "stream",
     "text": [
      "0it [00:00, ?it/s]\n"
     ]
    },
    {
     "name": "stdout",
     "output_type": "stream",
     "text": [
      "Per class F1: []\n",
      "Weighted F1: nan\n",
      "\n",
      ">>>>>>>>>>>>>>>>Epoch number 36>>>>>>>>>>>>>>>>\n",
      "Training\n"
     ]
    },
    {
     "name": "stderr",
     "output_type": "stream",
     "text": [
      "0it [00:00, ?it/s]\n",
      "/var/tmp/ipykernel_18027/3662042967.py:136: RuntimeWarning: Mean of empty slice.\n",
      "  print(f'Loss: {np.array(minibatch_train_losses).ravel().mean()}')\n",
      "/home/jupyter/miniforge3/envs/pathml_test/lib/python3.10/site-packages/numpy/core/_methods.py:129: RuntimeWarning: invalid value encountered in scalar divide\n",
      "  ret = ret.dtype.type(ret / rcount)\n"
     ]
    },
    {
     "name": "stdout",
     "output_type": "stream",
     "text": [
      "Loss: nan\n",
      "\n",
      "Evaluating on validation\n"
     ]
    },
    {
     "name": "stderr",
     "output_type": "stream",
     "text": [
      "0it [00:00, ?it/s]\n"
     ]
    },
    {
     "name": "stdout",
     "output_type": "stream",
     "text": [
      "Per class F1: []\n",
      "Weighted F1: nan\n",
      "\n",
      "Evaluating on test\n"
     ]
    },
    {
     "name": "stderr",
     "output_type": "stream",
     "text": [
      "0it [00:00, ?it/s]\n"
     ]
    },
    {
     "name": "stdout",
     "output_type": "stream",
     "text": [
      "Per class F1: []\n",
      "Weighted F1: nan\n",
      "\n",
      ">>>>>>>>>>>>>>>>Epoch number 37>>>>>>>>>>>>>>>>\n",
      "Training\n"
     ]
    },
    {
     "name": "stderr",
     "output_type": "stream",
     "text": [
      "0it [00:00, ?it/s]\n",
      "/var/tmp/ipykernel_18027/3662042967.py:136: RuntimeWarning: Mean of empty slice.\n",
      "  print(f'Loss: {np.array(minibatch_train_losses).ravel().mean()}')\n",
      "/home/jupyter/miniforge3/envs/pathml_test/lib/python3.10/site-packages/numpy/core/_methods.py:129: RuntimeWarning: invalid value encountered in scalar divide\n",
      "  ret = ret.dtype.type(ret / rcount)\n"
     ]
    },
    {
     "name": "stdout",
     "output_type": "stream",
     "text": [
      "Loss: nan\n",
      "\n",
      "Evaluating on validation\n"
     ]
    },
    {
     "name": "stderr",
     "output_type": "stream",
     "text": [
      "0it [00:00, ?it/s]\n"
     ]
    },
    {
     "name": "stdout",
     "output_type": "stream",
     "text": [
      "Per class F1: []\n",
      "Weighted F1: nan\n",
      "\n",
      "Evaluating on test\n"
     ]
    },
    {
     "name": "stderr",
     "output_type": "stream",
     "text": [
      "0it [00:00, ?it/s]\n"
     ]
    },
    {
     "name": "stdout",
     "output_type": "stream",
     "text": [
      "Per class F1: []\n",
      "Weighted F1: nan\n",
      "\n",
      ">>>>>>>>>>>>>>>>Epoch number 38>>>>>>>>>>>>>>>>\n",
      "Training\n"
     ]
    },
    {
     "name": "stderr",
     "output_type": "stream",
     "text": [
      "0it [00:00, ?it/s]\n",
      "/var/tmp/ipykernel_18027/3662042967.py:136: RuntimeWarning: Mean of empty slice.\n",
      "  print(f'Loss: {np.array(minibatch_train_losses).ravel().mean()}')\n",
      "/home/jupyter/miniforge3/envs/pathml_test/lib/python3.10/site-packages/numpy/core/_methods.py:129: RuntimeWarning: invalid value encountered in scalar divide\n",
      "  ret = ret.dtype.type(ret / rcount)\n"
     ]
    },
    {
     "name": "stdout",
     "output_type": "stream",
     "text": [
      "Loss: nan\n",
      "\n",
      "Evaluating on validation\n"
     ]
    },
    {
     "name": "stderr",
     "output_type": "stream",
     "text": [
      "0it [00:00, ?it/s]\n"
     ]
    },
    {
     "name": "stdout",
     "output_type": "stream",
     "text": [
      "Per class F1: []\n",
      "Weighted F1: nan\n",
      "\n",
      "Evaluating on test\n"
     ]
    },
    {
     "name": "stderr",
     "output_type": "stream",
     "text": [
      "0it [00:00, ?it/s]\n"
     ]
    },
    {
     "name": "stdout",
     "output_type": "stream",
     "text": [
      "Per class F1: []\n",
      "Weighted F1: nan\n",
      "\n",
      ">>>>>>>>>>>>>>>>Epoch number 39>>>>>>>>>>>>>>>>\n",
      "Training\n"
     ]
    },
    {
     "name": "stderr",
     "output_type": "stream",
     "text": [
      "0it [00:00, ?it/s]"
     ]
    },
    {
     "name": "stdout",
     "output_type": "stream",
     "text": [
      "Loss: nan\n",
      "\n",
      "Evaluating on validation\n"
     ]
    },
    {
     "name": "stderr",
     "output_type": "stream",
     "text": [
      "\n",
      "/var/tmp/ipykernel_18027/3662042967.py:136: RuntimeWarning: Mean of empty slice.\n",
      "  print(f'Loss: {np.array(minibatch_train_losses).ravel().mean()}')\n",
      "/home/jupyter/miniforge3/envs/pathml_test/lib/python3.10/site-packages/numpy/core/_methods.py:129: RuntimeWarning: invalid value encountered in scalar divide\n",
      "  ret = ret.dtype.type(ret / rcount)\n",
      "0it [00:00, ?it/s]\n"
     ]
    },
    {
     "name": "stdout",
     "output_type": "stream",
     "text": [
      "Per class F1: []\n",
      "Weighted F1: nan\n",
      "\n",
      "Evaluating on test\n"
     ]
    },
    {
     "name": "stderr",
     "output_type": "stream",
     "text": [
      "0it [00:00, ?it/s]\n"
     ]
    },
    {
     "name": "stdout",
     "output_type": "stream",
     "text": [
      "Per class F1: []\n",
      "Weighted F1: nan\n",
      "\n",
      ">>>>>>>>>>>>>>>>Epoch number 40>>>>>>>>>>>>>>>>\n",
      "Training\n"
     ]
    },
    {
     "name": "stderr",
     "output_type": "stream",
     "text": [
      "0it [00:00, ?it/s]\n",
      "/var/tmp/ipykernel_18027/3662042967.py:136: RuntimeWarning: Mean of empty slice.\n",
      "  print(f'Loss: {np.array(minibatch_train_losses).ravel().mean()}')\n",
      "/home/jupyter/miniforge3/envs/pathml_test/lib/python3.10/site-packages/numpy/core/_methods.py:129: RuntimeWarning: invalid value encountered in scalar divide\n",
      "  ret = ret.dtype.type(ret / rcount)\n"
     ]
    },
    {
     "name": "stdout",
     "output_type": "stream",
     "text": [
      "Loss: nan\n",
      "\n",
      "Evaluating on validation\n"
     ]
    },
    {
     "name": "stderr",
     "output_type": "stream",
     "text": [
      "0it [00:00, ?it/s]\n"
     ]
    },
    {
     "name": "stdout",
     "output_type": "stream",
     "text": [
      "Per class F1: []\n",
      "Weighted F1: nan\n",
      "\n",
      "Evaluating on test\n"
     ]
    },
    {
     "name": "stderr",
     "output_type": "stream",
     "text": [
      "0it [00:00, ?it/s]\n"
     ]
    },
    {
     "name": "stdout",
     "output_type": "stream",
     "text": [
      "Per class F1: []\n",
      "Weighted F1: nan\n",
      "\n",
      ">>>>>>>>>>>>>>>>Epoch number 41>>>>>>>>>>>>>>>>\n",
      "Training\n"
     ]
    },
    {
     "name": "stderr",
     "output_type": "stream",
     "text": [
      "0it [00:00, ?it/s]\n",
      "/var/tmp/ipykernel_18027/3662042967.py:136: RuntimeWarning: Mean of empty slice.\n",
      "  print(f'Loss: {np.array(minibatch_train_losses).ravel().mean()}')\n",
      "/home/jupyter/miniforge3/envs/pathml_test/lib/python3.10/site-packages/numpy/core/_methods.py:129: RuntimeWarning: invalid value encountered in scalar divide\n",
      "  ret = ret.dtype.type(ret / rcount)\n"
     ]
    },
    {
     "name": "stdout",
     "output_type": "stream",
     "text": [
      "Loss: nan\n",
      "\n",
      "Evaluating on validation\n"
     ]
    },
    {
     "name": "stderr",
     "output_type": "stream",
     "text": [
      "0it [00:00, ?it/s]\n"
     ]
    },
    {
     "name": "stdout",
     "output_type": "stream",
     "text": [
      "Per class F1: []\n",
      "Weighted F1: nan\n",
      "\n",
      "Evaluating on test\n"
     ]
    },
    {
     "name": "stderr",
     "output_type": "stream",
     "text": [
      "0it [00:00, ?it/s]\n"
     ]
    },
    {
     "name": "stdout",
     "output_type": "stream",
     "text": [
      "Per class F1: []\n",
      "Weighted F1: nan\n",
      "\n",
      ">>>>>>>>>>>>>>>>Epoch number 42>>>>>>>>>>>>>>>>\n",
      "Training\n"
     ]
    },
    {
     "name": "stderr",
     "output_type": "stream",
     "text": [
      "0it [00:00, ?it/s]\n",
      "/var/tmp/ipykernel_18027/3662042967.py:136: RuntimeWarning: Mean of empty slice.\n",
      "  print(f'Loss: {np.array(minibatch_train_losses).ravel().mean()}')\n",
      "/home/jupyter/miniforge3/envs/pathml_test/lib/python3.10/site-packages/numpy/core/_methods.py:129: RuntimeWarning: invalid value encountered in scalar divide\n",
      "  ret = ret.dtype.type(ret / rcount)\n"
     ]
    },
    {
     "name": "stdout",
     "output_type": "stream",
     "text": [
      "Loss: nan\n",
      "\n",
      "Evaluating on validation\n"
     ]
    },
    {
     "name": "stderr",
     "output_type": "stream",
     "text": [
      "0it [00:00, ?it/s]"
     ]
    },
    {
     "name": "stdout",
     "output_type": "stream",
     "text": [
      "Per class F1: []"
     ]
    },
    {
     "name": "stderr",
     "output_type": "stream",
     "text": [
      "\n"
     ]
    },
    {
     "name": "stdout",
     "output_type": "stream",
     "text": [
      "\n",
      "Weighted F1: nan\n",
      "\n",
      "Evaluating on test\n"
     ]
    },
    {
     "name": "stderr",
     "output_type": "stream",
     "text": [
      "0it [00:00, ?it/s]\n"
     ]
    },
    {
     "name": "stdout",
     "output_type": "stream",
     "text": [
      "Per class F1: []\n",
      "Weighted F1: nan\n",
      "\n",
      ">>>>>>>>>>>>>>>>Epoch number 43>>>>>>>>>>>>>>>>\n",
      "Training\n"
     ]
    },
    {
     "name": "stderr",
     "output_type": "stream",
     "text": [
      "0it [00:00, ?it/s]\n",
      "/var/tmp/ipykernel_18027/3662042967.py:136: RuntimeWarning: Mean of empty slice.\n",
      "  print(f'Loss: {np.array(minibatch_train_losses).ravel().mean()}')\n",
      "/home/jupyter/miniforge3/envs/pathml_test/lib/python3.10/site-packages/numpy/core/_methods.py:129: RuntimeWarning: invalid value encountered in scalar divide\n",
      "  ret = ret.dtype.type(ret / rcount)\n"
     ]
    },
    {
     "name": "stdout",
     "output_type": "stream",
     "text": [
      "Loss: nan\n",
      "\n",
      "Evaluating on validation\n"
     ]
    },
    {
     "name": "stderr",
     "output_type": "stream",
     "text": [
      "0it [00:00, ?it/s]\n"
     ]
    },
    {
     "name": "stdout",
     "output_type": "stream",
     "text": [
      "Per class F1: []\n",
      "Weighted F1: nan\n",
      "\n",
      "Evaluating on test\n"
     ]
    },
    {
     "name": "stderr",
     "output_type": "stream",
     "text": [
      "0it [00:00, ?it/s]\n"
     ]
    },
    {
     "name": "stdout",
     "output_type": "stream",
     "text": [
      "Per class F1: []\n",
      "Weighted F1: nan\n",
      "\n",
      ">>>>>>>>>>>>>>>>Epoch number 44>>>>>>>>>>>>>>>>\n",
      "Training\n"
     ]
    },
    {
     "name": "stderr",
     "output_type": "stream",
     "text": [
      "0it [00:00, ?it/s]\n",
      "/var/tmp/ipykernel_18027/3662042967.py:136: RuntimeWarning: Mean of empty slice.\n",
      "  print(f'Loss: {np.array(minibatch_train_losses).ravel().mean()}')\n",
      "/home/jupyter/miniforge3/envs/pathml_test/lib/python3.10/site-packages/numpy/core/_methods.py:129: RuntimeWarning: invalid value encountered in scalar divide\n",
      "  ret = ret.dtype.type(ret / rcount)\n"
     ]
    },
    {
     "name": "stdout",
     "output_type": "stream",
     "text": [
      "Loss: nan\n",
      "\n",
      "Evaluating on validation\n"
     ]
    },
    {
     "name": "stderr",
     "output_type": "stream",
     "text": [
      "0it [00:00, ?it/s]\n"
     ]
    },
    {
     "name": "stdout",
     "output_type": "stream",
     "text": [
      "Per class F1: []\n",
      "Weighted F1: nan\n",
      "\n",
      "Evaluating on test\n"
     ]
    },
    {
     "name": "stderr",
     "output_type": "stream",
     "text": [
      "0it [00:00, ?it/s]\n"
     ]
    },
    {
     "name": "stdout",
     "output_type": "stream",
     "text": [
      "Per class F1: []\n",
      "Weighted F1: nan\n",
      "\n",
      ">>>>>>>>>>>>>>>>Epoch number 45>>>>>>>>>>>>>>>>\n",
      "Training\n"
     ]
    },
    {
     "name": "stderr",
     "output_type": "stream",
     "text": [
      "0it [00:00, ?it/s]\n",
      "/var/tmp/ipykernel_18027/3662042967.py:136: RuntimeWarning: Mean of empty slice.\n",
      "  print(f'Loss: {np.array(minibatch_train_losses).ravel().mean()}')\n",
      "/home/jupyter/miniforge3/envs/pathml_test/lib/python3.10/site-packages/numpy/core/_methods.py:129: RuntimeWarning: invalid value encountered in scalar divide\n",
      "  ret = ret.dtype.type(ret / rcount)\n"
     ]
    },
    {
     "name": "stdout",
     "output_type": "stream",
     "text": [
      "Loss: nan\n",
      "\n",
      "Evaluating on validation\n"
     ]
    },
    {
     "name": "stderr",
     "output_type": "stream",
     "text": [
      "0it [00:00, ?it/s]\n"
     ]
    },
    {
     "name": "stdout",
     "output_type": "stream",
     "text": [
      "Per class F1: []\n",
      "Weighted F1: nan\n",
      "\n",
      "Evaluating on test\n"
     ]
    },
    {
     "name": "stderr",
     "output_type": "stream",
     "text": [
      "0it [00:00, ?it/s]\n"
     ]
    },
    {
     "name": "stdout",
     "output_type": "stream",
     "text": [
      "Per class F1: []\n",
      "Weighted F1: nan\n",
      "\n",
      ">>>>>>>>>>>>>>>>Epoch number 46>>>>>>>>>>>>>>>>\n",
      "Training\n"
     ]
    },
    {
     "name": "stderr",
     "output_type": "stream",
     "text": [
      "0it [00:00, ?it/s]\n",
      "/var/tmp/ipykernel_18027/3662042967.py:136: RuntimeWarning: Mean of empty slice.\n",
      "  print(f'Loss: {np.array(minibatch_train_losses).ravel().mean()}')\n",
      "/home/jupyter/miniforge3/envs/pathml_test/lib/python3.10/site-packages/numpy/core/_methods.py:129: RuntimeWarning: invalid value encountered in scalar divide\n",
      "  ret = ret.dtype.type(ret / rcount)\n"
     ]
    },
    {
     "name": "stdout",
     "output_type": "stream",
     "text": [
      "Loss: nan\n",
      "\n",
      "Evaluating on validation\n"
     ]
    },
    {
     "name": "stderr",
     "output_type": "stream",
     "text": [
      "0it [00:00, ?it/s]\n"
     ]
    },
    {
     "name": "stdout",
     "output_type": "stream",
     "text": [
      "Per class F1: []\n",
      "Weighted F1: nan\n",
      "\n",
      "Evaluating on test\n"
     ]
    },
    {
     "name": "stderr",
     "output_type": "stream",
     "text": [
      "0it [00:00, ?it/s]\n"
     ]
    },
    {
     "name": "stdout",
     "output_type": "stream",
     "text": [
      "Per class F1: []\n",
      "Weighted F1: nan\n",
      "\n",
      ">>>>>>>>>>>>>>>>Epoch number 47>>>>>>>>>>>>>>>>\n",
      "Training\n"
     ]
    },
    {
     "name": "stderr",
     "output_type": "stream",
     "text": [
      "0it [00:00, ?it/s]\n",
      "/var/tmp/ipykernel_18027/3662042967.py:136: RuntimeWarning: Mean of empty slice.\n",
      "  print(f'Loss: {np.array(minibatch_train_losses).ravel().mean()}')\n",
      "/home/jupyter/miniforge3/envs/pathml_test/lib/python3.10/site-packages/numpy/core/_methods.py:129: RuntimeWarning: invalid value encountered in scalar divide\n",
      "  ret = ret.dtype.type(ret / rcount)\n"
     ]
    },
    {
     "name": "stdout",
     "output_type": "stream",
     "text": [
      "Loss: nan\n",
      "\n",
      "Evaluating on validation\n"
     ]
    },
    {
     "name": "stderr",
     "output_type": "stream",
     "text": [
      "0it [00:00, ?it/s]\n"
     ]
    },
    {
     "name": "stdout",
     "output_type": "stream",
     "text": [
      "Per class F1: []\n",
      "Weighted F1: nan\n",
      "\n",
      "Evaluating on test\n"
     ]
    },
    {
     "name": "stderr",
     "output_type": "stream",
     "text": [
      "0it [00:00, ?it/s]\n"
     ]
    },
    {
     "name": "stdout",
     "output_type": "stream",
     "text": [
      "Per class F1: []\n",
      "Weighted F1: nan\n",
      "\n",
      ">>>>>>>>>>>>>>>>Epoch number 48>>>>>>>>>>>>>>>>\n",
      "Training\n"
     ]
    },
    {
     "name": "stderr",
     "output_type": "stream",
     "text": [
      "0it [00:00, ?it/s]\n",
      "/var/tmp/ipykernel_18027/3662042967.py:136: RuntimeWarning: Mean of empty slice.\n",
      "  print(f'Loss: {np.array(minibatch_train_losses).ravel().mean()}')\n",
      "/home/jupyter/miniforge3/envs/pathml_test/lib/python3.10/site-packages/numpy/core/_methods.py:129: RuntimeWarning: invalid value encountered in scalar divide\n",
      "  ret = ret.dtype.type(ret / rcount)\n"
     ]
    },
    {
     "name": "stdout",
     "output_type": "stream",
     "text": [
      "Loss: nan\n",
      "\n",
      "Evaluating on validation\n"
     ]
    },
    {
     "name": "stderr",
     "output_type": "stream",
     "text": [
      "0it [00:00, ?it/s]\n"
     ]
    },
    {
     "name": "stdout",
     "output_type": "stream",
     "text": [
      "Per class F1: []\n",
      "Weighted F1: nan\n",
      "\n",
      "Evaluating on test\n"
     ]
    },
    {
     "name": "stderr",
     "output_type": "stream",
     "text": [
      "0it [00:00, ?it/s]\n"
     ]
    },
    {
     "name": "stdout",
     "output_type": "stream",
     "text": [
      "Per class F1: []\n",
      "Weighted F1: nan\n",
      "\n",
      ">>>>>>>>>>>>>>>>Epoch number 49>>>>>>>>>>>>>>>>\n",
      "Training\n"
     ]
    },
    {
     "name": "stderr",
     "output_type": "stream",
     "text": [
      "0it [00:00, ?it/s]\n",
      "/var/tmp/ipykernel_18027/3662042967.py:136: RuntimeWarning: Mean of empty slice.\n",
      "  print(f'Loss: {np.array(minibatch_train_losses).ravel().mean()}')\n",
      "/home/jupyter/miniforge3/envs/pathml_test/lib/python3.10/site-packages/numpy/core/_methods.py:129: RuntimeWarning: invalid value encountered in scalar divide\n",
      "  ret = ret.dtype.type(ret / rcount)\n"
     ]
    },
    {
     "name": "stdout",
     "output_type": "stream",
     "text": [
      "Loss: nan\n",
      "\n",
      "Evaluating on validation\n"
     ]
    },
    {
     "name": "stderr",
     "output_type": "stream",
     "text": [
      "0it [00:00, ?it/s]\n"
     ]
    },
    {
     "name": "stdout",
     "output_type": "stream",
     "text": [
      "Per class F1: []\n",
      "Weighted F1: nan\n",
      "\n",
      "Evaluating on test\n"
     ]
    },
    {
     "name": "stderr",
     "output_type": "stream",
     "text": [
      "0it [00:00, ?it/s]\n"
     ]
    },
    {
     "name": "stdout",
     "output_type": "stream",
     "text": [
      "Per class F1: []\n",
      "Weighted F1: nan\n",
      "\n",
      ">>>>>>>>>>>>>>>>Epoch number 50>>>>>>>>>>>>>>>>\n",
      "Training\n"
     ]
    },
    {
     "name": "stderr",
     "output_type": "stream",
     "text": [
      "0it [00:00, ?it/s]\n",
      "/var/tmp/ipykernel_18027/3662042967.py:136: RuntimeWarning: Mean of empty slice.\n",
      "  print(f'Loss: {np.array(minibatch_train_losses).ravel().mean()}')\n",
      "/home/jupyter/miniforge3/envs/pathml_test/lib/python3.10/site-packages/numpy/core/_methods.py:129: RuntimeWarning: invalid value encountered in scalar divide\n",
      "  ret = ret.dtype.type(ret / rcount)\n"
     ]
    },
    {
     "name": "stdout",
     "output_type": "stream",
     "text": [
      "Loss: nan\n",
      "\n",
      "Evaluating on validation\n"
     ]
    },
    {
     "name": "stderr",
     "output_type": "stream",
     "text": [
      "0it [00:00, ?it/s]\n"
     ]
    },
    {
     "name": "stdout",
     "output_type": "stream",
     "text": [
      "Per class F1: []\n",
      "Weighted F1: nan\n",
      "\n",
      "Evaluating on test\n"
     ]
    },
    {
     "name": "stderr",
     "output_type": "stream",
     "text": [
      "0it [00:00, ?it/s]\n"
     ]
    },
    {
     "name": "stdout",
     "output_type": "stream",
     "text": [
      "Per class F1: []\n",
      "Weighted F1: nan\n",
      "\n",
      ">>>>>>>>>>>>>>>>Epoch number 51>>>>>>>>>>>>>>>>\n",
      "Training\n"
     ]
    },
    {
     "name": "stderr",
     "output_type": "stream",
     "text": [
      "0it [00:00, ?it/s]\n",
      "/var/tmp/ipykernel_18027/3662042967.py:136: RuntimeWarning: Mean of empty slice.\n",
      "  print(f'Loss: {np.array(minibatch_train_losses).ravel().mean()}')\n",
      "/home/jupyter/miniforge3/envs/pathml_test/lib/python3.10/site-packages/numpy/core/_methods.py:129: RuntimeWarning: invalid value encountered in scalar divide\n",
      "  ret = ret.dtype.type(ret / rcount)\n"
     ]
    },
    {
     "name": "stdout",
     "output_type": "stream",
     "text": [
      "Loss: nan\n",
      "\n",
      "Evaluating on validation\n"
     ]
    },
    {
     "name": "stderr",
     "output_type": "stream",
     "text": [
      "0it [00:00, ?it/s]\n"
     ]
    },
    {
     "name": "stdout",
     "output_type": "stream",
     "text": [
      "Per class F1: []\n",
      "Weighted F1: nan\n",
      "\n",
      "Evaluating on test\n"
     ]
    },
    {
     "name": "stderr",
     "output_type": "stream",
     "text": [
      "0it [00:00, ?it/s]\n"
     ]
    },
    {
     "name": "stdout",
     "output_type": "stream",
     "text": [
      "Per class F1: []\n",
      "Weighted F1: nan\n",
      "\n",
      ">>>>>>>>>>>>>>>>Epoch number 52>>>>>>>>>>>>>>>>\n",
      "Training\n"
     ]
    },
    {
     "name": "stderr",
     "output_type": "stream",
     "text": [
      "0it [00:00, ?it/s]\n",
      "/var/tmp/ipykernel_18027/3662042967.py:136: RuntimeWarning: Mean of empty slice.\n",
      "  print(f'Loss: {np.array(minibatch_train_losses).ravel().mean()}')\n",
      "/home/jupyter/miniforge3/envs/pathml_test/lib/python3.10/site-packages/numpy/core/_methods.py:129: RuntimeWarning: invalid value encountered in scalar divide\n",
      "  ret = ret.dtype.type(ret / rcount)\n"
     ]
    },
    {
     "name": "stdout",
     "output_type": "stream",
     "text": [
      "Loss: nan\n",
      "\n",
      "Evaluating on validation\n"
     ]
    },
    {
     "name": "stderr",
     "output_type": "stream",
     "text": [
      "0it [00:00, ?it/s]\n"
     ]
    },
    {
     "name": "stdout",
     "output_type": "stream",
     "text": [
      "Per class F1: []\n",
      "Weighted F1: nan\n",
      "\n",
      "Evaluating on test\n"
     ]
    },
    {
     "name": "stderr",
     "output_type": "stream",
     "text": [
      "0it [00:00, ?it/s]\n"
     ]
    },
    {
     "name": "stdout",
     "output_type": "stream",
     "text": [
      "Per class F1: []\n",
      "Weighted F1: nan\n",
      "\n",
      ">>>>>>>>>>>>>>>>Epoch number 53>>>>>>>>>>>>>>>>\n",
      "Training\n"
     ]
    },
    {
     "name": "stderr",
     "output_type": "stream",
     "text": [
      "0it [00:00, ?it/s]\n",
      "/var/tmp/ipykernel_18027/3662042967.py:136: RuntimeWarning: Mean of empty slice.\n",
      "  print(f'Loss: {np.array(minibatch_train_losses).ravel().mean()}')\n",
      "/home/jupyter/miniforge3/envs/pathml_test/lib/python3.10/site-packages/numpy/core/_methods.py:129: RuntimeWarning: invalid value encountered in scalar divide\n",
      "  ret = ret.dtype.type(ret / rcount)\n"
     ]
    },
    {
     "name": "stdout",
     "output_type": "stream",
     "text": [
      "Loss: nan\n",
      "\n",
      "Evaluating on validation\n"
     ]
    },
    {
     "name": "stderr",
     "output_type": "stream",
     "text": [
      "0it [00:00, ?it/s]\n"
     ]
    },
    {
     "name": "stdout",
     "output_type": "stream",
     "text": [
      "Per class F1: []\n",
      "Weighted F1: nan\n",
      "\n",
      "Evaluating on test\n"
     ]
    },
    {
     "name": "stderr",
     "output_type": "stream",
     "text": [
      "0it [00:00, ?it/s]\n"
     ]
    },
    {
     "name": "stdout",
     "output_type": "stream",
     "text": [
      "Per class F1: []\n",
      "Weighted F1: nan\n",
      "\n",
      ">>>>>>>>>>>>>>>>Epoch number 54>>>>>>>>>>>>>>>>\n",
      "Training\n"
     ]
    },
    {
     "name": "stderr",
     "output_type": "stream",
     "text": [
      "0it [00:00, ?it/s]\n",
      "/var/tmp/ipykernel_18027/3662042967.py:136: RuntimeWarning: Mean of empty slice.\n",
      "  print(f'Loss: {np.array(minibatch_train_losses).ravel().mean()}')\n",
      "/home/jupyter/miniforge3/envs/pathml_test/lib/python3.10/site-packages/numpy/core/_methods.py:129: RuntimeWarning: invalid value encountered in scalar divide\n",
      "  ret = ret.dtype.type(ret / rcount)\n"
     ]
    },
    {
     "name": "stdout",
     "output_type": "stream",
     "text": [
      "Loss: nan\n",
      "\n",
      "Evaluating on validation\n"
     ]
    },
    {
     "name": "stderr",
     "output_type": "stream",
     "text": [
      "0it [00:00, ?it/s]\n"
     ]
    },
    {
     "name": "stdout",
     "output_type": "stream",
     "text": [
      "Per class F1: []\n",
      "Weighted F1: nan\n",
      "\n",
      "Evaluating on test\n"
     ]
    },
    {
     "name": "stderr",
     "output_type": "stream",
     "text": [
      "0it [00:00, ?it/s]\n"
     ]
    },
    {
     "name": "stdout",
     "output_type": "stream",
     "text": [
      "Per class F1: []\n",
      "Weighted F1: nan\n",
      "\n",
      ">>>>>>>>>>>>>>>>Epoch number 55>>>>>>>>>>>>>>>>\n",
      "Training\n"
     ]
    },
    {
     "name": "stderr",
     "output_type": "stream",
     "text": [
      "0it [00:00, ?it/s]\n",
      "/var/tmp/ipykernel_18027/3662042967.py:136: RuntimeWarning: Mean of empty slice.\n",
      "  print(f'Loss: {np.array(minibatch_train_losses).ravel().mean()}')\n",
      "/home/jupyter/miniforge3/envs/pathml_test/lib/python3.10/site-packages/numpy/core/_methods.py:129: RuntimeWarning: invalid value encountered in scalar divide\n",
      "  ret = ret.dtype.type(ret / rcount)\n"
     ]
    },
    {
     "name": "stdout",
     "output_type": "stream",
     "text": [
      "Loss: nan\n",
      "\n",
      "Evaluating on validation\n"
     ]
    },
    {
     "name": "stderr",
     "output_type": "stream",
     "text": [
      "0it [00:00, ?it/s]\n"
     ]
    },
    {
     "name": "stdout",
     "output_type": "stream",
     "text": [
      "Per class F1: []\n",
      "Weighted F1: nan\n",
      "\n",
      "Evaluating on test\n"
     ]
    },
    {
     "name": "stderr",
     "output_type": "stream",
     "text": [
      "0it [00:00, ?it/s]\n"
     ]
    },
    {
     "name": "stdout",
     "output_type": "stream",
     "text": [
      "Per class F1: []\n",
      "Weighted F1: nan\n",
      "\n",
      ">>>>>>>>>>>>>>>>Epoch number 56>>>>>>>>>>>>>>>>\n",
      "Training\n"
     ]
    },
    {
     "name": "stderr",
     "output_type": "stream",
     "text": [
      "0it [00:00, ?it/s]\n",
      "/var/tmp/ipykernel_18027/3662042967.py:136: RuntimeWarning: Mean of empty slice.\n",
      "  print(f'Loss: {np.array(minibatch_train_losses).ravel().mean()}')\n",
      "/home/jupyter/miniforge3/envs/pathml_test/lib/python3.10/site-packages/numpy/core/_methods.py:129: RuntimeWarning: invalid value encountered in scalar divide\n",
      "  ret = ret.dtype.type(ret / rcount)\n"
     ]
    },
    {
     "name": "stdout",
     "output_type": "stream",
     "text": [
      "Loss: nan\n",
      "\n",
      "Evaluating on validation\n"
     ]
    },
    {
     "name": "stderr",
     "output_type": "stream",
     "text": [
      "0it [00:00, ?it/s]\n"
     ]
    },
    {
     "name": "stdout",
     "output_type": "stream",
     "text": [
      "Per class F1: []\n",
      "Weighted F1: nan\n",
      "\n",
      "Evaluating on test\n"
     ]
    },
    {
     "name": "stderr",
     "output_type": "stream",
     "text": [
      "0it [00:00, ?it/s]\n"
     ]
    },
    {
     "name": "stdout",
     "output_type": "stream",
     "text": [
      "Per class F1: []\n",
      "Weighted F1: nan\n",
      "\n",
      ">>>>>>>>>>>>>>>>Epoch number 57>>>>>>>>>>>>>>>>\n",
      "Training\n"
     ]
    },
    {
     "name": "stderr",
     "output_type": "stream",
     "text": [
      "0it [00:00, ?it/s]\n",
      "/var/tmp/ipykernel_18027/3662042967.py:136: RuntimeWarning: Mean of empty slice.\n",
      "  print(f'Loss: {np.array(minibatch_train_losses).ravel().mean()}')\n",
      "/home/jupyter/miniforge3/envs/pathml_test/lib/python3.10/site-packages/numpy/core/_methods.py:129: RuntimeWarning: invalid value encountered in scalar divide\n",
      "  ret = ret.dtype.type(ret / rcount)\n"
     ]
    },
    {
     "name": "stdout",
     "output_type": "stream",
     "text": [
      "Loss: nan\n",
      "\n",
      "Evaluating on validation\n"
     ]
    },
    {
     "name": "stderr",
     "output_type": "stream",
     "text": [
      "0it [00:00, ?it/s]\n"
     ]
    },
    {
     "name": "stdout",
     "output_type": "stream",
     "text": [
      "Per class F1: []\n",
      "Weighted F1: nan\n",
      "\n",
      "Evaluating on test\n"
     ]
    },
    {
     "name": "stderr",
     "output_type": "stream",
     "text": [
      "0it [00:00, ?it/s]\n"
     ]
    },
    {
     "name": "stdout",
     "output_type": "stream",
     "text": [
      "Per class F1: []\n",
      "Weighted F1: nan\n",
      "\n",
      ">>>>>>>>>>>>>>>>Epoch number 58>>>>>>>>>>>>>>>>\n",
      "Training\n"
     ]
    },
    {
     "name": "stderr",
     "output_type": "stream",
     "text": [
      "0it [00:00, ?it/s]\n",
      "/var/tmp/ipykernel_18027/3662042967.py:136: RuntimeWarning: Mean of empty slice.\n",
      "  print(f'Loss: {np.array(minibatch_train_losses).ravel().mean()}')\n",
      "/home/jupyter/miniforge3/envs/pathml_test/lib/python3.10/site-packages/numpy/core/_methods.py:129: RuntimeWarning: invalid value encountered in scalar divide\n",
      "  ret = ret.dtype.type(ret / rcount)\n"
     ]
    },
    {
     "name": "stdout",
     "output_type": "stream",
     "text": [
      "Loss: nan\n",
      "\n",
      "Evaluating on validation\n"
     ]
    },
    {
     "name": "stderr",
     "output_type": "stream",
     "text": [
      "0it [00:00, ?it/s]\n"
     ]
    },
    {
     "name": "stdout",
     "output_type": "stream",
     "text": [
      "Per class F1: []\n",
      "Weighted F1: nan\n",
      "\n",
      "Evaluating on test\n"
     ]
    },
    {
     "name": "stderr",
     "output_type": "stream",
     "text": [
      "0it [00:00, ?it/s]\n"
     ]
    },
    {
     "name": "stdout",
     "output_type": "stream",
     "text": [
      "Per class F1: []\n",
      "Weighted F1: nan\n",
      "\n",
      ">>>>>>>>>>>>>>>>Epoch number 59>>>>>>>>>>>>>>>>\n",
      "Training\n"
     ]
    },
    {
     "name": "stderr",
     "output_type": "stream",
     "text": [
      "0it [00:00, ?it/s]\n",
      "/var/tmp/ipykernel_18027/3662042967.py:136: RuntimeWarning: Mean of empty slice.\n",
      "  print(f'Loss: {np.array(minibatch_train_losses).ravel().mean()}')\n",
      "/home/jupyter/miniforge3/envs/pathml_test/lib/python3.10/site-packages/numpy/core/_methods.py:129: RuntimeWarning: invalid value encountered in scalar divide\n",
      "  ret = ret.dtype.type(ret / rcount)\n"
     ]
    },
    {
     "name": "stdout",
     "output_type": "stream",
     "text": [
      "Loss: nan\n",
      "\n",
      "Evaluating on validation\n"
     ]
    },
    {
     "name": "stderr",
     "output_type": "stream",
     "text": [
      "0it [00:00, ?it/s]\n"
     ]
    },
    {
     "name": "stdout",
     "output_type": "stream",
     "text": [
      "Per class F1: []\n",
      "Weighted F1: nan\n",
      "\n",
      "Evaluating on test\n"
     ]
    },
    {
     "name": "stderr",
     "output_type": "stream",
     "text": [
      "0it [00:00, ?it/s]\n"
     ]
    },
    {
     "name": "stdout",
     "output_type": "stream",
     "text": [
      "Per class F1: []\n",
      "Weighted F1: nan\n"
     ]
    }
   ],
   "source": [
    "train_hactnet(train_dataset, val_dataset, test_dataset, load_histogram=False, calc_class_weights=False)"
   ]
  },
  {
   "cell_type": "code",
   "execution_count": null,
   "id": "1f82c587-6205-4d31-8e99-0a456a177066",
   "metadata": {},
   "outputs": [],
   "source": []
  },
  {
   "cell_type": "markdown",
   "id": "5c4d6c48-c5be-4dcd-a38e-6277d1fd5956",
   "metadata": {},
   "source": [
    "## References\n",
    "\n",
    "*  Pati, Pushpak, Guillaume Jaume, Antonio Foncubierta-Rodriguez, Florinda Feroce, Anna Maria Anniciello, Giosue Scognamiglio, Nadia Brancati et al. \"Hierarchical graph representations in digital pathology.\" Medical image analysis 75 (2022): 102264.\n",
    "*  Brancati, Nadia, Anna Maria Anniciello, Pushpak Pati, Daniel Riccio, Giosuè Scognamiglio, Guillaume Jaume, Giuseppe De Pietro et al. \"Bracs: A dataset for breast carcinoma subtyping in h&e histology images.\" Database 2022 (2022): baac093."
   ]
  },
  {
   "cell_type": "markdown",
   "id": "363ea74a-da2b-4e92-8d29-cbf7f59792cb",
   "metadata": {},
   "source": [
    "## Session info"
   ]
  },
  {
   "cell_type": "code",
   "execution_count": null,
   "id": "b0c5f9f8-cb8c-4d61-9147-7d82bcb45c9c",
   "metadata": {},
   "outputs": [],
   "source": [
    "import IPython\n",
    "print(IPython.sys_info())\n",
    "print(f\"torch version: {torch.__version__}\")"
   ]
  },
  {
   "cell_type": "code",
   "execution_count": null,
   "id": "e7872fb6-7b62-422b-a7db-0b7e169d82c7",
   "metadata": {},
   "outputs": [],
   "source": []
  }
 ],
 "metadata": {
  "environment": {
   "kernel": "pathml_test",
   "name": "pytorch-gpu.1-13.m105",
   "type": "gcloud",
   "uri": "gcr.io/deeplearning-platform-release/pytorch-gpu.1-13:m105"
  },
  "kernelspec": {
   "display_name": "pathml_test",
   "language": "python",
   "name": "pathml_test"
  },
  "language_info": {
   "codemirror_mode": {
    "name": "ipython",
    "version": 3
   },
   "file_extension": ".py",
   "mimetype": "text/x-python",
   "name": "python",
   "nbconvert_exporter": "python",
   "pygments_lexer": "ipython3",
   "version": "3.10.13"
  }
 },
 "nbformat": 4,
 "nbformat_minor": 5
}
